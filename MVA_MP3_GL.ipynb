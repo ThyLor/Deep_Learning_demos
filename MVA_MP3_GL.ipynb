{
  "nbformat": 4,
  "nbformat_minor": 0,
  "metadata": {
    "colab": {
      "name": "MVA-MP3_Gasparollo_Lorenzo.ipynb",
      "version": "0.3.2",
      "provenance": []
    },
    "kernelspec": {
      "display_name": "Python 3",
      "language": "python",
      "name": "python3"
    }
  },
  "cells": [
    {
      "metadata": {
        "id": "cL9jUIDk2LBv",
        "colab_type": "text"
      },
      "cell_type": "markdown",
      "source": [
        "**You may need to install [OpenCV](https://pypi.python.org/pypi/opencv-python) and [scikit-video](http://www.scikit-video.org/stable/).**"
      ]
    },
    {
      "metadata": {
        "id": "0yfdMFWH2RmO",
        "colab_type": "code",
        "outputId": "7d33785c-8db9-45e4-9927-1c336803e38c",
        "colab": {
          "base_uri": "https://localhost:8080/",
          "height": 102
        }
      },
      "cell_type": "code",
      "source": [
        "!pip install scikit-video"
      ],
      "execution_count": 0,
      "outputs": [
        {
          "output_type": "stream",
          "text": [
            "Requirement already satisfied: scikit-video in /usr/local/lib/python3.6/dist-packages (1.1.11)\n",
            "Requirement already satisfied: pillow in /usr/local/lib/python3.6/dist-packages (from scikit-video) (4.0.0)\n",
            "Requirement already satisfied: scipy in /usr/local/lib/python3.6/dist-packages (from scikit-video) (1.1.0)\n",
            "Requirement already satisfied: numpy in /usr/local/lib/python3.6/dist-packages (from scikit-video) (1.14.6)\n",
            "Requirement already satisfied: olefile in /usr/local/lib/python3.6/dist-packages (from pillow->scikit-video) (0.46)\n"
          ],
          "name": "stdout"
        }
      ]
    },
    {
      "metadata": {
        "id": "spItgUdu2LBw",
        "colab_type": "code",
        "colab": {}
      },
      "cell_type": "code",
      "source": [
        "import keras\n",
        "import numpy as np\n",
        "import io\n",
        "import base64\n",
        "from IPython.display import HTML\n",
        "import skvideo\n",
        "import skvideo.io\n",
        "import cv2\n",
        "import json\n",
        "from keras.models import Sequential,model_from_json\n",
        "from keras.layers.core import Dense\n",
        "from keras.optimizers import sgd\n",
        "from keras.layers import Conv2D,MaxPooling2D,Activation,AveragePooling2D,Reshape,BatchNormalization,Dropout,Flatten,Convolution2D\n",
        "from keras.utils import np_utils"
      ],
      "execution_count": 0,
      "outputs": []
    },
    {
      "metadata": {
        "id": "jGrtBdPk2LB0",
        "colab_type": "text"
      },
      "cell_type": "markdown",
      "source": [
        "# MiniProject #3: Deep Reinforcement Learning"
      ]
    },
    {
      "metadata": {
        "id": "FNFuOITj2LB2",
        "colab_type": "text"
      },
      "cell_type": "markdown",
      "source": [
        "__Notations__: $E_p$ is the expectation under probability $p$. Please justify each of your answer and widely comment your code."
      ]
    },
    {
      "metadata": {
        "id": "fTdsimqS2LB2",
        "colab_type": "text"
      },
      "cell_type": "markdown",
      "source": [
        "# Context"
      ]
    },
    {
      "metadata": {
        "id": "w3UTNPTo2LB4",
        "colab_type": "text"
      },
      "cell_type": "markdown",
      "source": [
        "In a reinforcement learning algorithm, we modelize each step $t$ as an action $a_t$ obtained from a state $s_t$, i.e. $\\{(a_{t},s_{t})_{t\\leq T}\\}$ having the Markov property. We consider a discount factor $\\gamma \\in [0,1]$ that ensures convergence. The goal is to find among all the policies $\\pi$, one that maximizes the expected reward:\n",
        "\n",
        "\\begin{equation*}\n",
        "R(\\pi)=\\sum_{t\\leq T}E_{p^{\\pi}}[\\gamma^t r(s_{t},a_{t})] \\> ,\n",
        "\\end{equation*}\n",
        "\n",
        "where: \n",
        "\\begin{equation*}p^{\\pi}(a_{0},a_{1},s_{1},...,a_{T},s_{T})=p(a_{0})\\prod_{t=1}^{T}\\pi(a_{t}|s_{t})p(s_{t+1}|s_{t},a_{t}) \\> .\n",
        "\\end{equation*}\n",
        "\n",
        "We note the $Q$-function:\n",
        "\n",
        "\\begin{equation*}Q^\\pi(s,a)=E_{p^{\\pi}}[\\sum_{t\\leq T}\\gamma^{t}r(s_{t},a_{t})|s_{0}=s,a_{0}=a] \\> .\n",
        "\\end{equation*}\n",
        "\n",
        "Thus, the optimal Q function is:\n",
        "\\begin{equation*}\n",
        "Q^*(s,a)=\\max_{\\pi}Q^\\pi(s,a) \\> .\n",
        "\\end{equation*}\n",
        "\n",
        "In this project, we will apply the deep reinforcement learning techniques to a simple game: an agent will have to learn from scratch a policy that will permit it maximizing a reward."
      ]
    },
    {
      "metadata": {
        "id": "P2yiPBoK2LB5",
        "colab_type": "text"
      },
      "cell_type": "markdown",
      "source": [
        "## The environment, the agent and the game"
      ]
    },
    {
      "metadata": {
        "id": "dpIVQnsI2LB6",
        "colab_type": "text"
      },
      "cell_type": "markdown",
      "source": [
        "### The environment"
      ]
    },
    {
      "metadata": {
        "id": "T1EQSxF72LB7",
        "colab_type": "text"
      },
      "cell_type": "markdown",
      "source": [
        "```Environment``` is an abstract class that represents the states, rewards, and actions to obtain the new state."
      ]
    },
    {
      "metadata": {
        "id": "YX3ci8gv2LB_",
        "colab_type": "text"
      },
      "cell_type": "markdown",
      "source": [
        "The method ```act``` allows to act on the environment at a given state $s_t$ (stored internally), via action $a_t$. The method will return the new state $s_{t+1}$, the reward $r(s_{t},a_{t})$ and determines if $t\\leq T$ (*game_over*).\n",
        "\n",
        "The method ```reset``` simply reinitializes the environment to a random state $s_0$.\n",
        "\n",
        "The method ```draw``` displays the current state $s_t$ (this is useful to check the behavior of the Agent).\n",
        "\n",
        "We modelize $s_t$ as a tensor, while $a_t$ is an integer. *texte en italique*"
      ]
    },
    {
      "metadata": {
        "id": "ArX6Pxlh2LB8",
        "colab_type": "code",
        "colab": {}
      },
      "cell_type": "code",
      "source": [
        "class Environment(object):\n",
        "    def __init__(self):\n",
        "        pass\n",
        "\n",
        "    def act(self, act):\n",
        "        \"\"\"\n",
        "        One can act on the environment and obtain its reaction:\n",
        "        - the new state\n",
        "        - the reward of the new state\n",
        "        - should we continue the game?\n",
        "\n",
        "        :return: state, reward, game_over\n",
        "        \"\"\"\n",
        "        pass\n",
        "\n",
        "\n",
        "    def reset(self):\n",
        "        \"\"\"\n",
        "        Reinitialize the environment to a random state and returns\n",
        "        the original state\n",
        "\n",
        "        :return: state\n",
        "        \"\"\"\n",
        "        pass\n",
        "    \n",
        "    def draw(self):\n",
        "        \"\"\"\n",
        "        Visualize in the console or graphically the current state\n",
        "        \"\"\"\n",
        "        pass"
      ],
      "execution_count": 0,
      "outputs": []
    },
    {
      "metadata": {
        "id": "qqFlN8Cl2LCA",
        "colab_type": "text"
      },
      "cell_type": "markdown",
      "source": [
        "### The Agent"
      ]
    },
    {
      "metadata": {
        "id": "UMC2IddO2LCB",
        "colab_type": "text"
      },
      "cell_type": "markdown",
      "source": [
        "The goal of the ```Agent``` is to interact with the ```Environment``` by proposing actions $a_t$ obtained from a given state $s_t$ to attempt to maximize its __reward__ $r(s_t,a_t)$. We propose the following abstract class:"
      ]
    },
    {
      "metadata": {
        "id": "Hba0oGD32LCC",
        "colab_type": "code",
        "colab": {}
      },
      "cell_type": "code",
      "source": [
        "class Agent(object):\n",
        "    def __init__(self, epsilon=0.1, n_action=4,min_eps = 0.01):\n",
        "        self.epsilon = epsilon\n",
        "        self.n_action = n_action\n",
        "        self.min_eps = min_eps\n",
        "    \n",
        "    def set_epsilon(self,e):\n",
        "        if(e > self.min_eps):\n",
        "          self.epsilon = e\n",
        "        \n",
        "\n",
        "    def act(self,s,train=True):\n",
        "        \"\"\" This function should return the next action to do:\n",
        "        an integer between 0 and 4 (not included) with a random exploration of epsilon\"\"\"\n",
        "        if train:\n",
        "            if np.random.rand() <= self.epsilon:\n",
        "                a = np.random.randint(0, self.n_action, size=1)[0]\n",
        "            else:\n",
        "                a = self.learned_act(s)\n",
        "        else: # in some cases, this can improve the performance.. remove it if poor performances\n",
        "            a = self.learned_act(s)\n",
        "\n",
        "        return a\n",
        "\n",
        "    def learned_act(self,s):\n",
        "        \"\"\" Act via the policy of the agent, from a given state s\n",
        "        it proposes an action a\"\"\"\n",
        "        pass\n",
        "\n",
        "    def reinforce(self, s, n_s, a, r, game_over_):\n",
        "        \"\"\" This function is the core of the learning algorithm. \n",
        "        It takes as an input the current state s_, the next state n_s_\n",
        "        the action a_ used to move from s_ to n_s_ and the reward r_.\n",
        "        \n",
        "        Its goal is to learn a policy.\n",
        "        \"\"\"\n",
        "        pass\n",
        "\n",
        "    def save(self):\n",
        "        \"\"\" This function returns basic stats if applicable: the\n",
        "        loss and/or the model\"\"\"\n",
        "        pass\n",
        "\n",
        "    def load(self):\n",
        "        \"\"\" This function allows to restore a model\"\"\"\n",
        "        pass"
      ],
      "execution_count": 0,
      "outputs": []
    },
    {
      "metadata": {
        "id": "ahPT_bsw2LCG",
        "colab_type": "text"
      },
      "cell_type": "markdown",
      "source": [
        "***\n",
        "#__Question 1__:\n",
        "Explain the function act. Why is ```epsilon``` essential?"
      ]
    },
    {
      "metadata": {
        "id": "wJV_2CTn2LCH",
        "colab_type": "text"
      },
      "cell_type": "markdown",
      "source": [
        "The function act takes as input the current state and a boolean value (indicating whether we're considering the train or the test procedure ).\n",
        "\n",
        "- If we call act in the training procedure, we have 2 possibilities:  we can either act through learned_act (i.e. according to the policy of the agent) or take a random action.\n",
        "\n",
        "- If we call act in the test procedure: we act always according to the learned policy.\n",
        "\n",
        "epsilon is a variable $\\in \\left[ 0, 1\\right]$ which accounts for the probability of agent to choose a random action. \n",
        "This variable is essential since it permits to tune the **exploration ** - ** exploitation**  trade-off: at each time we can either explore or follow our policy; for epsilon $\\sim 0$ the agent follows always the policy at tends to learn nothing (since it does not explore the environment!), while forepsilon $\\sim 1$ the agent explores the environment, not considering the policy (and thus its actions does not take into account the past)."
      ]
    },
    {
      "metadata": {
        "id": "MtASBq8o2LCI",
        "colab_type": "text"
      },
      "cell_type": "markdown",
      "source": [
        "***\n",
        "### The Game"
      ]
    },
    {
      "metadata": {
        "id": "KtWBzO_k2LCL",
        "colab_type": "code",
        "outputId": "556b15d1-09d7-42af-d09e-5fe9b755e097",
        "colab": {
          "base_uri": "https://localhost:8080/",
          "height": 350
        }
      },
      "cell_type": "code",
      "source": [
        "#The ```Agent``` and the ```Environment``` work in an interlaced way as in the following (take some time to understand this code as it is the core of the project)\n",
        "\n",
        "#```python\n",
        "\n",
        "epoch = 300\n",
        "env = Environment()\n",
        "agent = Agent()\n",
        "\n",
        "\n",
        "# Number of won games\n",
        "score = 0\n",
        "loss = 0\n",
        "\n",
        "\n",
        "for e in range(epoch):\n",
        "    # At each epoch, we restart to a fresh game and get the initial state\n",
        "    state = env.reset()\n",
        "    # This assumes that the games will end\n",
        "    game_over = False\n",
        "\n",
        "    win = 0\n",
        "    lose = 0\n",
        "    \n",
        "    while not game_over:\n",
        "        # The agent performs an action\n",
        "        action = agent.act(state)\n",
        "\n",
        "        # Apply an action to the environment, get the next state, the reward\n",
        "        # and if the games end\n",
        "        prev_state = state\n",
        "        state, reward, game_over = env.act(action)\n",
        "\n",
        "        # Update the counters\n",
        "        if reward > 0:\n",
        "            win = win + reward\n",
        "        if reward < 0:\n",
        "            lose = lose -reward\n",
        "\n",
        "        # Apply the reinforcement strategy\n",
        "        loss = agent.reinforce(prev_state, state,  action, reward, game_over)\n",
        "\n",
        "        # Save as a mp4\n",
        "        if e % 10 == 0:\n",
        "            env.draw(e)\n",
        "\n",
        "        # Update stats\n",
        "        score += win-lose\n",
        "\n",
        "        #print(\"Epoch {:03d}/{:03d} | Loss {:.4f} | Win/lose count {}/{} ({})\".format(e, epoch, loss, win, lose, win-lose))\n",
        "\n",
        "        agent.save()\n"
      ],
      "execution_count": 0,
      "outputs": [
        {
          "output_type": "error",
          "ename": "KeyboardInterrupt",
          "evalue": "ignored",
          "traceback": [
            "\u001b[0;31m---------------------------------------------------------------------------\u001b[0m",
            "\u001b[0;31mKeyboardInterrupt\u001b[0m                         Traceback (most recent call last)",
            "\u001b[0;32m<ipython-input-40-1573c65a9436>\u001b[0m in \u001b[0;36m<module>\u001b[0;34m()\u001b[0m\n\u001b[1;32m     12\u001b[0m \u001b[0;32mfor\u001b[0m \u001b[0me\u001b[0m \u001b[0;32min\u001b[0m \u001b[0mrange\u001b[0m\u001b[0;34m(\u001b[0m\u001b[0mepoch\u001b[0m\u001b[0;34m)\u001b[0m\u001b[0;34m:\u001b[0m\u001b[0;34m\u001b[0m\u001b[0;34m\u001b[0m\u001b[0m\n\u001b[1;32m     13\u001b[0m     \u001b[0;31m# At each epoch, we restart to a fresh game and get the initial state\u001b[0m\u001b[0;34m\u001b[0m\u001b[0;34m\u001b[0m\u001b[0;34m\u001b[0m\u001b[0m\n\u001b[0;32m---> 14\u001b[0;31m     \u001b[0mstate\u001b[0m \u001b[0;34m=\u001b[0m \u001b[0menv\u001b[0m\u001b[0;34m.\u001b[0m\u001b[0mreset\u001b[0m\u001b[0;34m(\u001b[0m\u001b[0;34m)\u001b[0m\u001b[0;34m\u001b[0m\u001b[0;34m\u001b[0m\u001b[0m\n\u001b[0m\u001b[1;32m     15\u001b[0m     \u001b[0;31m# This assumes that the games will end\u001b[0m\u001b[0;34m\u001b[0m\u001b[0;34m\u001b[0m\u001b[0;34m\u001b[0m\u001b[0m\n\u001b[1;32m     16\u001b[0m     \u001b[0mgame_over\u001b[0m \u001b[0;34m=\u001b[0m \u001b[0;32mFalse\u001b[0m\u001b[0;34m\u001b[0m\u001b[0;34m\u001b[0m\u001b[0m\n",
            "\u001b[0;32m<ipython-input-31-41d6a4a56b99>\u001b[0m in \u001b[0;36mreset\u001b[0;34m(self)\u001b[0m\n\u001b[1;32m    105\u001b[0m         \u001b[0mmalus\u001b[0m \u001b[0;34m=\u001b[0m \u001b[0mmalus\u001b[0m\u001b[0;34m.\u001b[0m\u001b[0mreshape\u001b[0m\u001b[0;34m(\u001b[0m\u001b[0mself\u001b[0m\u001b[0;34m.\u001b[0m\u001b[0mgrid_size\u001b[0m\u001b[0;34m,\u001b[0m \u001b[0mself\u001b[0m\u001b[0;34m.\u001b[0m\u001b[0mgrid_size\u001b[0m\u001b[0;34m)\u001b[0m\u001b[0;34m\u001b[0m\u001b[0;34m\u001b[0m\u001b[0m\n\u001b[1;32m    106\u001b[0m \u001b[0;34m\u001b[0m\u001b[0m\n\u001b[0;32m--> 107\u001b[0;31m         \u001b[0mself\u001b[0m\u001b[0;34m.\u001b[0m\u001b[0mto_draw\u001b[0m \u001b[0;34m=\u001b[0m \u001b[0mnp\u001b[0m\u001b[0;34m.\u001b[0m\u001b[0mzeros\u001b[0m\u001b[0;34m(\u001b[0m\u001b[0;34m(\u001b[0m\u001b[0mself\u001b[0m\u001b[0;34m.\u001b[0m\u001b[0mmax_time\u001b[0m\u001b[0;34m+\u001b[0m\u001b[0;36m2\u001b[0m\u001b[0;34m,\u001b[0m \u001b[0mself\u001b[0m\u001b[0;34m.\u001b[0m\u001b[0mgrid_size\u001b[0m\u001b[0;34m*\u001b[0m\u001b[0mself\u001b[0m\u001b[0;34m.\u001b[0m\u001b[0mscale\u001b[0m\u001b[0;34m,\u001b[0m \u001b[0mself\u001b[0m\u001b[0;34m.\u001b[0m\u001b[0mgrid_size\u001b[0m\u001b[0;34m*\u001b[0m\u001b[0mself\u001b[0m\u001b[0;34m.\u001b[0m\u001b[0mscale\u001b[0m\u001b[0;34m,\u001b[0m \u001b[0;36m3\u001b[0m\u001b[0;34m)\u001b[0m\u001b[0;34m)\u001b[0m\u001b[0;34m\u001b[0m\u001b[0;34m\u001b[0m\u001b[0m\n\u001b[0m\u001b[1;32m    108\u001b[0m \u001b[0;34m\u001b[0m\u001b[0m\n\u001b[1;32m    109\u001b[0m \u001b[0;34m\u001b[0m\u001b[0m\n",
            "\u001b[0;31mKeyboardInterrupt\u001b[0m: "
          ]
        }
      ]
    },
    {
      "metadata": {
        "id": "R1LO2EAK2LCO",
        "colab_type": "text"
      },
      "cell_type": "markdown",
      "source": [
        "# The game, *eat cheese*"
      ]
    },
    {
      "metadata": {
        "id": "SRvjAgHc2LCT",
        "colab_type": "text"
      },
      "cell_type": "markdown",
      "source": [
        "A rat runs on an island and tries to eat as much as possible. The island is subdivided into $N\\times N$ cells, in which there are cheese (+0.5) and poisonous cells (-1). The rat has a visibility of 2 cells (thus it can see $5^2$ cells). The rat is given a time $T$ to accumulate as much food as possible. It can perform 4 actions: going up, down, left, right. \n",
        "\n",
        "The goal is to code an agent to solve this task that will learn by trial and error. We propose the following environment:"
      ]
    },
    {
      "metadata": {
        "id": "vhcqtotW2LCU",
        "colab_type": "code",
        "colab": {}
      },
      "cell_type": "code",
      "source": [
        "class Environment(object):\n",
        "    def __init__(self, grid_size=13, max_time=500, temperature=0.1):\n",
        "        grid_size = grid_size+4\n",
        "        self.grid_size = grid_size\n",
        "        self.max_time = max_time\n",
        "        self.temperature = temperature\n",
        "\n",
        "        #board on which one plays\n",
        "        self.board = np.zeros((grid_size,grid_size))\n",
        "        self.position = np.zeros((grid_size,grid_size))\n",
        "\n",
        "        # coordinate of the rat\n",
        "        self.x = 0\n",
        "        self.y = 1\n",
        "\n",
        "        # self time\n",
        "        self.t = 0\n",
        "\n",
        "        self.scale=16\n",
        "\n",
        "        self.to_draw = np.zeros((max_time+2, grid_size*self.scale, grid_size*self.scale, 3))\n",
        "\n",
        "\n",
        "    def draw(self,e):\n",
        "        skvideo.io.vwrite(str(e) + '.mp4', self.to_draw)\n",
        "\n",
        "    def get_frame(self,t):\n",
        "        b = np.zeros((self.grid_size,self.grid_size,3))+128\n",
        "        b[self.board>0,0] = 256\n",
        "        b[self.board<0,2] = 256\n",
        "        b[self.x,self.y,:]= 256\n",
        "        b[-2:,:,:]=0\n",
        "        b[:,-2:,:]=0\n",
        "        b[:2,:,:]=0\n",
        "        b[:,:2,:]=0\n",
        "        \n",
        "        b =  cv2.resize(b, None, fx=self.scale, fy=self.scale, interpolation=cv2.INTER_NEAREST)\n",
        "\n",
        "        self.to_draw[t,:,:,:]=b\n",
        "\n",
        "\n",
        "    def act(self, action,train=True):\n",
        "        \"\"\"This function returns the new state, reward and decides if the\n",
        "        game ends.\"\"\"\n",
        "\n",
        "        self.get_frame(int(self.t))\n",
        "\n",
        "        self.position = np.zeros((self.grid_size, self.grid_size))\n",
        "\n",
        "        self.position[0:2,:]= -1\n",
        "        self.position[:,0:2] = -1\n",
        "        self.position[-2:,:] = -1\n",
        "        self.position[:,-2:] = -1\n",
        "        \n",
        "        # set the current position\n",
        "        self.position[self.x, self.y] = 1\n",
        "        if action == 0:\n",
        "            if self.x == self.grid_size-3:\n",
        "                self.x = self.x-1\n",
        "            else:\n",
        "                self.x = self.x + 1\n",
        "        elif action == 1:\n",
        "            if self.x == 2:\n",
        "                self.x = self.x+1\n",
        "            else:\n",
        "                self.x = self.x-1\n",
        "        elif action == 2:\n",
        "            if self.y == self.grid_size - 3:\n",
        "                self.y = self.y - 1\n",
        "            else:\n",
        "                self.y = self.y + 1\n",
        "        elif action == 3:\n",
        "            if self.y == 2:\n",
        "                self.y = self.y + 1\n",
        "            else:\n",
        "                self.y = self.y - 1\n",
        "        else:\n",
        "            RuntimeError('Error: action not recognized')\n",
        "\n",
        "        self.t = self.t + 1\n",
        "        \n",
        "        # take the old value\n",
        "        reward = self.board[self.x, self.y]\n",
        "        # in the bord there's nothing, in the correspondent position\n",
        "        self.board[self.x, self.y] = 0\n",
        "        game_over = self.t > self.max_time\n",
        "        \n",
        "        state = np.concatenate((self.board.reshape(self.grid_size, self.grid_size,1),\n",
        "                        self.position.reshape(self.grid_size, self.grid_size,1)),axis=2)\n",
        "        state = state[self.x-2:self.x+3,self.y-2:self.y+3,:]\n",
        "\n",
        "        return state, reward, game_over\n",
        "\n",
        "    def reset(self):\n",
        "        \"\"\"This function resets the game and returns the initial state\"\"\"\n",
        "\n",
        "        self.x = np.random.randint(3, self.grid_size-3, size=1)[0]\n",
        "        self.y = np.random.randint(3, self.grid_size-3, size=1)[0]\n",
        "\n",
        "\n",
        "        bonus = 0.5*np.random.binomial(1,self.temperature,size=self.grid_size**2)\n",
        "        bonus = bonus.reshape(self.grid_size,self.grid_size)\n",
        "\n",
        "        malus = -1.0*np.random.binomial(1,self.temperature,size=self.grid_size**2)\n",
        "        malus = malus.reshape(self.grid_size, self.grid_size)\n",
        "\n",
        "        self.to_draw = np.zeros((self.max_time+2, self.grid_size*self.scale, self.grid_size*self.scale, 3))\n",
        "\n",
        "\n",
        "        malus[bonus>0]=0\n",
        "\n",
        "        self.board = bonus + malus\n",
        "\n",
        "        self.position = np.zeros((self.grid_size, self.grid_size))\n",
        "        self.position[0:2,:]= -1\n",
        "        self.position[:,0:2] = -1\n",
        "        self.position[-2:,:] = -1\n",
        "        self.position[:,-2:] = -1\n",
        "        self.board[self.x,self.y] = 0\n",
        "        self.t = 0\n",
        "\n",
        "        state = np.concatenate((\n",
        "                               self.board.reshape(self.grid_size, self.grid_size,1),\n",
        "                        self.position.reshape(self.grid_size, self.grid_size,1)),axis=2)\n",
        "\n",
        "        state = state[self.x - 2:self.x + 3, self.y - 2:self.y + 3, :]\n",
        "        return state"
      ],
      "execution_count": 0,
      "outputs": []
    },
    {
      "metadata": {
        "id": "gfpeFmDZ2LCX",
        "colab_type": "text"
      },
      "cell_type": "markdown",
      "source": [
        "The following elements are important because they correspond to the hyper parameters for this project:"
      ]
    },
    {
      "metadata": {
        "id": "UaKRwPit2LCZ",
        "colab_type": "code",
        "colab": {}
      },
      "cell_type": "code",
      "source": [
        "# parameters\n",
        "size = 13\n",
        "T=50\n",
        "temperature=0.3\n",
        "epochs_train=10 # set small when debugging\n",
        "epochs_test=10 # set small when debugging\n",
        "\n",
        "# display videos\n",
        "def display_videos(name):\n",
        "    video = io.open(name, 'r+b').read()\n",
        "    encoded = base64.b64encode(video)\n",
        "    return '''<video alt=\"test\" controls>\n",
        "                <source src=\"data:video/mp4;base64,{0}\" type=\"video/mp4\" />\n",
        "             </video>'''.format(encoded.decode('ascii'))"
      ],
      "execution_count": 0,
      "outputs": []
    },
    {
      "metadata": {
        "id": "OX-maj1n2LCc",
        "colab_type": "text"
      },
      "cell_type": "markdown",
      "source": [
        "#__Question 2__ :Explain the use of the arrays ```position``` and ```board```."
      ]
    },
    {
      "metadata": {
        "id": "FgyIU8sN2LCc",
        "colab_type": "text"
      },
      "cell_type": "markdown",
      "source": [
        "Both `position` and board are two matrixes of dimension (grid_size+4)  $\\times$ (grid_size+4), the term +4 accounting for the the grid boards.\n",
        "\n",
        "1.   `position`: it tracks the postion during the game. it's  inizialized to 0. Takes 1 in the position $\\left( x,y \\right) $ as value if the agent has passed in the $\\left( x,y \\right) $  position. Bords entries, i.e., entries whose indexes are $\\left( [0:2,:], [:,0:2], [-2:,:], [:,-2:]\\right)$ equal  - 1 and cannot be visited.\n",
        "2.   `board`: it acts like a reward field.  Its $\\left( i, j \\right)$ element are initialized to the value $bonus_{\\left( i, j \\right)}$ + $1\\!\\!1_{bonus_{\\left( i, j \\right)} > 0}$ $\\cdot$ $malus_{\\left( i, j \\right)}$, where ${\\{bonus \\}}_{  i, j  = 1 }^{grid size}$  = $\\frac{B\\left(temperature)\\right)}{2}$ and ${\\{malus\\}}_{  i, j  = 1 }^{grid size}$  = $- B\\left(temperature\\right)$, \n",
        "$B\\left(temperature\\right)$ indicating a r.v. of parameter `temperature`.\n",
        "\n",
        "Those two matrix defines the state of the game."
      ]
    },
    {
      "metadata": {
        "id": "ooUSRnq-2LCd",
        "colab_type": "text"
      },
      "cell_type": "markdown",
      "source": [
        "## Random Agent"
      ]
    },
    {
      "metadata": {
        "id": "2twqUJpi2LCe",
        "colab_type": "text"
      },
      "cell_type": "markdown",
      "source": [
        "***\n",
        "__Question 3__ Implement a random Agent (only ```learned_act``` needs to be implemented):"
      ]
    },
    {
      "metadata": {
        "id": "d_POlrgy2LCf",
        "colab_type": "code",
        "colab": {}
      },
      "cell_type": "code",
      "source": [
        "class RandomAgent(Agent):\n",
        "    def __init__(self):\n",
        "        super(RandomAgent, self).__init__()\n",
        "        pass\n",
        "\n",
        "    def learned_act(self, s):\n",
        "        return np.random.randint(0, 4, size=1)[0]"
      ],
      "execution_count": 0,
      "outputs": []
    },
    {
      "metadata": {
        "id": "TLe7NZqh2LCi",
        "colab_type": "text"
      },
      "cell_type": "markdown",
      "source": [
        "***\n",
        "***\n",
        "__Question 4__ Visualize the game moves. You need to fill in the following function for the evaluation:"
      ]
    },
    {
      "metadata": {
        "id": "qWRuyHFP2LCk",
        "colab_type": "code",
        "colab": {}
      },
      "cell_type": "code",
      "source": [
        "def test(agent,env,epochs,prefix=''):\n",
        "    # Number of won games\n",
        "    score = 0\n",
        "        \n",
        "    for e in range(epochs):\n",
        "        # At each epoch, we restart to a fresh game and get the initial state\n",
        "        state = env.reset()\n",
        "        # This assumes that the games will end\n",
        "        game_over = False\n",
        "\n",
        "        win = 0\n",
        "        lose = 0\n",
        "    \n",
        "        while not game_over:\n",
        "            # The agent performs an action\n",
        "            action = agent.learned_act(state)\n",
        "\n",
        "            # Apply an action to the environment, get the next state, the reward\n",
        "            # and if the games end\n",
        "            state, reward, game_over = env.act(action, False)\n",
        "\n",
        "            # Update the counters\n",
        "            if reward > 0:\n",
        "                win = win + reward\n",
        "            if reward < 0:\n",
        "                lose = lose -reward\n",
        "\n",
        "            # Apply the reinforcement strategy\n",
        "            #loss = agent.reinforce(prev_state, state,  action, reward, game_over)\n",
        "\n",
        "    # Save as a mp4\n",
        "    #if e % 10 == 0:\n",
        "        #env.draw(e)\n",
        "\n",
        "    # Update stats\n",
        "    #score += win-lose\n",
        "\n",
        "    #print(\"Epoch {:03d}/{:03d} | Loss {:.4f} | Win/lose count {}/{} ({})\"\n",
        "          #.format(e, epoch, loss, win, lose, win-lose))\n",
        "    #agent.save()\n",
        "        ##### FILL IN HERE\n",
        "        \n",
        "        # Save as a mp4\n",
        "        env.draw(prefix+str(e))\n",
        "\n",
        "        # Update stats\n",
        "        score = score + win-lose\n",
        "\n",
        "        print(\"Win/lose count {}/{}. Average score ({})\"\n",
        "              .format(win, lose, score/(1+e)))\n",
        "    print('Final score: '+str(score/epochs))"
      ],
      "execution_count": 0,
      "outputs": []
    },
    {
      "metadata": {
        "id": "q0hq1HoX2LCm",
        "colab_type": "code",
        "outputId": "00fa88d3-be99-498a-bce6-cb0013fd589c",
        "colab": {
          "base_uri": "https://localhost:8080/",
          "height": 481
        }
      },
      "cell_type": "code",
      "source": [
        "# Initialize the game\n",
        "env = Environment(grid_size=size, max_time=T,temperature=temperature)\n",
        "\n",
        "# Initialize the agent!\n",
        "agent = RandomAgent()\n",
        "\n",
        "test(agent,env,epochs_test,prefix='random')\n",
        "HTML(display_videos('random0.mp4'))"
      ],
      "execution_count": 0,
      "outputs": [
        {
          "output_type": "stream",
          "text": [
            "Win/lose count 3.5/9.0. Average score (-5.5)\n",
            "Win/lose count 4.0/9.0. Average score (-5.25)\n",
            "Win/lose count 1.5/1.0. Average score (-3.3333333333333335)\n",
            "Win/lose count 2.5/1.0. Average score (-2.125)\n",
            "Win/lose count 4.5/3.0. Average score (-1.4)\n",
            "Win/lose count 2.5/2.0. Average score (-1.0833333333333333)\n",
            "Win/lose count 4.5/3.0. Average score (-0.7142857142857143)\n",
            "Win/lose count 2.5/5.0. Average score (-0.9375)\n",
            "Win/lose count 3.5/7.0. Average score (-1.2222222222222223)\n",
            "Win/lose count 3.5/8.0. Average score (-1.55)\n",
            "Final score: -1.55\n"
          ],
          "name": "stdout"
        },
        {
          "output_type": "execute_result",
          "data": {
            "text/html": [
              "<video alt=\"test\" controls>\n",
              "                <source src=\"data:video/mp4;base64,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\" type=\"video/mp4\" />\n",
              "             </video>"
            ],
            "text/plain": [
              "<IPython.core.display.HTML object>"
            ]
          },
          "metadata": {
            "tags": []
          },
          "execution_count": 46
        }
      ]
    },
    {
      "metadata": {
        "id": "-_fiWa0N2LCt",
        "colab_type": "text"
      },
      "cell_type": "markdown",
      "source": [
        "***\n",
        "## DQN"
      ]
    },
    {
      "metadata": {
        "id": "GG1-xC6Q2LCu",
        "colab_type": "text"
      },
      "cell_type": "markdown",
      "source": [
        "Let us assume here that $T=\\infty$.\n",
        "\n",
        "***\n",
        "#__Question 5__: Let $\\pi$ be a policy, show that:\n",
        "\n",
        "\\begin{equation*}\n",
        "Q^{\\pi}(s,a)=E_{(s',a')\\sim p(.|s,a)}[r(s,a)+\\gamma Q^{\\pi}(s',a')]\n",
        "\\end{equation*}\n",
        "\n",
        "##Proof\n",
        "\n",
        "\\begin{equation*}\n",
        "\n",
        "\\begin{split}\n",
        "Q^{\\pi}(s,a) &=E[  \\sum_{k = 0}^{\\infty}{{\\gamma}^{k}r_{k+1}\\mid s_{0} = s, a_{0} = a]} \\\\\n",
        " &=E [ r(s,a) + \\gamma \\sum_{k = 0}^{\\infty}{{\\gamma}^{k}r_{k+2}\\mid s_{0} = s, a_{0} = a]} \\\\\n",
        " &=E [ r(s,a) + \\gamma  E[ \\sum_{k = 0}^{\\infty}{{\\gamma}^{k}r_{k+2} \\mid s_{1} = s', a_{1} = a'] \\mid s_{0} = s, a_{0} = a]} \\\\\n",
        " &=E_{\\sim p(.|s,a)}[r(s,a)+\\gamma Q^{\\pi}(s',a')]\n",
        "\\end{split}\n",
        "\n",
        "\\end{equation*}\n",
        "\n",
        "Then, show that for the optimal policy $\\pi^*$ (we assume its existence), the following holds: \n",
        "\n",
        "\\begin{equation*}\n",
        "Q^{*}(s,a)=E_{s'\\sim \\pi^*(.|s,a)}[r(s,a)+\\gamma\\max_{a'}Q^{*}(s',a')].\n",
        "\\end{equation*}\n",
        "\n",
        "## Proof\n",
        "\n",
        "Let be $\\pi^*$ the optmila policy. Then $q^{*}$ must satisfy :\n",
        "\\begin{equation*}\n",
        "Q^{*}(s,a)=E_{s'\\sim \\pi^*(.|s,a)}[r(s,a)] +\\gamma \\sum_{s' \\in S} p(s'\\mid s,a) v^{*}(s').\n",
        "\\end{equation*}\n",
        "since $v^{*}(s) = {\\max}_{a \\in A} Q^{*}(s,a)$, we conclude.\n",
        "\n",
        "\n",
        "# Finally, deduce that a plausible objective is:\n",
        "\n",
        "\\begin{equation*}\n",
        "\\mathcal{L}(\\theta)=E_{s' \\sim \\pi^*(.|s,a)}\\Vert r+\\gamma\\max_{a'}Q(s',a',\\theta)-Q(s,a,\\theta)\\Vert^{2}.\n",
        "\\end{equation*}\n",
        "\n",
        "We want our NN to learn the optimal Q function by penalizing the difference between  the predicted function and the structure of the optimal one. Notice that we don't have acces to the true Q function value and therefore this is not a supervised problem. The only feedbacks the algorithm receives from the environment  are the next state and the reward. In this case the target is $ r+\\gamma\\max_{a'}Q(s',a',\\theta)$ and we look for $Q(s,a,\\theta)$ which has the property to obey to the bellman optimality equation.\n"
      ]
    },
    {
      "metadata": {
        "id": "8oPp1k9O2LCv",
        "colab_type": "text"
      },
      "cell_type": "markdown",
      "source": [
        ""
      ]
    },
    {
      "metadata": {
        "id": "lwABBETx2LCw",
        "colab_type": "text"
      },
      "cell_type": "markdown",
      "source": [
        "***\n",
        "The DQN-learning algorithm relies on these derivations to train the parameters $\\theta$ of a Deep Neural Network:\n",
        "\n",
        "1. At the state $s_t$, select the action $a_t$ with best reward using $Q_t$ and store the results;\n",
        "\n",
        "2. Obtain the new state $s_{t+1}$ from the environment $p$;\n",
        "\n",
        "3. Store $(s_t,a_t,s_{t+1})$;\n",
        "\n",
        "4. Obtain $Q_{t+1}$ by minimizing  $\\mathcal{L}$ from a recovered batch from the previously stored results.\n",
        "\n",
        "***\n",
        "__Question 6__ Implement the class ```Memory``` that stores moves (in a replay buffer) via ```remember``` and provides a ```random_access``` to these. Specify a maximum memory size to avoid side effects. You can for example use a ```list()``` and set by default ```max_memory=100```."
      ]
    },
    {
      "metadata": {
        "id": "strDBSIW2LCy",
        "colab_type": "code",
        "colab": {}
      },
      "cell_type": "code",
      "source": [
        "class Memory(object):\n",
        "    def __init__(self, max_memory=100):\n",
        "        self.max_memory = max_memory\n",
        "        self.memory = list()\n",
        "\n",
        "    def remember(self, m):\n",
        "        if(len(self.memory) < self.max_memory):\n",
        "            self.memory.append(m)\n",
        "            self.max_memory += 1\n",
        "        else:\n",
        "            self.memory[np.random.randint(len(self.max_memory))] = m\n",
        "\n",
        "    def random_access(self):\n",
        "        return self.memory[np.random.randint(len(self.memory))]"
      ],
      "execution_count": 0,
      "outputs": []
    },
    {
      "metadata": {
        "id": "ISq55gvk2LC1",
        "colab_type": "text"
      },
      "cell_type": "markdown",
      "source": [
        "***\n",
        "The pipeline we will use for training is given below:"
      ]
    },
    {
      "metadata": {
        "id": "X6apPIeN2LC3",
        "colab_type": "code",
        "colab": {}
      },
      "cell_type": "code",
      "source": [
        "def train(agent,env,epoch,prefix=''):\n",
        "    # Number of won games\n",
        "    score = 0\n",
        "    loss = 0\n",
        "\n",
        "    for e in range(epoch):\n",
        "        # At each epoch, we restart to a fresh game and get the initial state\n",
        "        state = env.reset()\n",
        "        # This assumes that the games will terminate\n",
        "        game_over = False\n",
        "\n",
        "        win = 0\n",
        "        lose = 0\n",
        "\n",
        "        while not game_over:\n",
        "            # The agent performs an action\n",
        "            \n",
        "            action = agent.act(state)\n",
        "                        \n",
        "            # Apply an action to the environment, get the next state, the reward\n",
        "            # and if the games end\n",
        "            prev_state = state\n",
        "            state, reward, game_over = env.act(action)\n",
        "\n",
        "            # Update the counters\n",
        "            if reward > 0:\n",
        "                win = win + reward\n",
        "            if reward < 0:\n",
        "                lose = lose - reward\n",
        "\n",
        "            # Apply the reinforcement strategy\n",
        "            loss = agent.reinforce(prev_state, state,  action, reward, game_over)\n",
        "\n",
        "        # Save as a mp4\n",
        "        if e % 10 == 0:\n",
        "            env.draw(prefix+str(e))\n",
        "\n",
        "        # Update stats\n",
        "        score += win-lose\n",
        "\n",
        "        print(\"Epoch {:03d}/{:03d} | Loss {:.4f} | Win/lose count {}/{} ({})\"\n",
        "              .format(e, epoch, loss, win, lose, win-lose))\n",
        "        agent.save(name_weights=prefix+'model.h5',name_model=prefix+'model.json')"
      ],
      "execution_count": 0,
      "outputs": []
    },
    {
      "metadata": {
        "id": "5muOJqv52LC7",
        "colab_type": "text"
      },
      "cell_type": "markdown",
      "source": [
        "***\n",
        "__Question 7__ Implement the DQN training algorithm using a cascade of fully connected layers. You can use different learning rate, batch size or memory size parameters. In particular, the loss might oscillate while the player will start to win the games. You have to find a good criterium."
      ]
    },
    {
      "metadata": {
        "id": "kabDkePE2LC8",
        "colab_type": "code",
        "colab": {}
      },
      "cell_type": "code",
      "source": [
        "import random\n",
        "class DQN(Agent):\n",
        "    def __init__(self, grid_size,  epsilon = 0.1, memory_size=100, batch_size = 16, n_state=3):\n",
        "        super(DQN, self).__init__(epsilon = epsilon)\n",
        "\n",
        "        # Discount for Q learning\n",
        "        self.discount = 0.01\n",
        "        \n",
        "        self.grid_size = grid_size\n",
        "        \n",
        "        # number of state\n",
        "        self.n_state = n_state\n",
        "\n",
        "        # Memory\n",
        "        self.memory = Memory(memory_size)\n",
        "        \n",
        "        # Batch size when learning\n",
        "        self.batch_size = batch_size\n",
        "\n",
        "    def learned_act(self, s):\n",
        "        pass\n",
        "\n",
        "    def reinforce(self, s_, n_s_, a_, r_, game_over_):\n",
        "        # Two steps: first memorize the states, second learn from the pool\n",
        "        self.memory.remember([s_, n_s_, a_, r_, game_over_])\n",
        "        \n",
        "        input_states = np.zeros((self.batch_size,5,5,self.n_state))\n",
        "        target_q = np.zeros((self.batch_size, 4))\n",
        "                \n",
        "        for i in range(self.batch_size):\n",
        "            \n",
        "            episode = self.memory.random_access()\n",
        "            \n",
        "            if episode[4]:\n",
        "                input_states[i] = episode[0]\n",
        "                target_q[i,:] = episode[3]\n",
        "            else:\n",
        "                input_states[i] = episode[0]\n",
        "                target_q[i,int(episode[2])] = episode[3] + self.discount*np.amax(self.model.predict(episode[1].reshape((1,5,5,self.n_state)))) \n",
        "                \n",
        "        target_q = np.clip(target_q, -8, 8)\n",
        "        l = self.model.train_on_batch(input_states, target_q)\n",
        "\n",
        "        return l\n",
        "\n",
        "\n",
        "    def save(self,name_weights='model.h5',name_model='model.json'):\n",
        "        self.model.save_weights(name_weights, overwrite=True)\n",
        "        with open(name_model, \"w\") as outfile:\n",
        "            json.dump(self.model.to_json(), outfile)\n",
        "            \n",
        "    def load(self,name_weights='model.h5',name_model='model.json'):\n",
        "        with open(name_model, \"r\") as jfile:\n",
        "            model = model_from_json(json.load(jfile))\n",
        "        model.load_weights(name_weights)\n",
        "        model.compile(\"sgd\", \"mse\")\n",
        "        self.model = model\n",
        "\n",
        "            \n",
        "class DQN_FC(DQN):\n",
        "    def __init__(self, *args, lr=0.1,**kwargs):\n",
        "        super(DQN_FC, self).__init__( *args,**kwargs)\n",
        "        \n",
        "        # NN Model\n",
        "                \n",
        "        model = keras.Sequential()\n",
        "        model.add(Dense(200,activation='relu',input_shape=(5,5,self.n_state)))\n",
        "        model.add(Dropout(0.25))\n",
        "        model.add(Dense(1000,activation='relu'))\n",
        "        model.add(Dropout(0.25))\n",
        "        model.add(Dense(50,activation='relu'))\n",
        "        model.add(Flatten())\n",
        "        model.add(Dense(4,activation='softmax'))\n",
        "        \n",
        "        model.compile(sgd(lr=lr, decay=1e-4, momentum=0.0), \"mse\")\n",
        "        self.model = model\n",
        "        model.summary()\n",
        "    \n",
        "    def learned_act(self, s):\n",
        "        return np.argmax(self.model.predict(s.reshape((1,5,5,self.n_state))))"
      ],
      "execution_count": 0,
      "outputs": []
    },
    {
      "metadata": {
        "scrolled": true,
        "id": "YIJL4boR2LC_",
        "colab_type": "code",
        "outputId": "da4a24cc-1edc-4efa-97e1-ef8671784d66",
        "colab": {
          "base_uri": "https://localhost:8080/",
          "height": 1317
        }
      },
      "cell_type": "code",
      "source": [
        "epochs_train = 60\n",
        "T = 50\n",
        "env = Environment(grid_size=size, max_time=T, temperature=0.2)\n",
        "agent = DQN_FC(size, lr=.1, epsilon = 0.45, memory_size=2000, batch_size = 32, n_state = 2)\n",
        "train(agent, env, epochs_train, prefix='fc_train')\n",
        "HTML(display_videos('fc_train0.mp4'))"
      ],
      "execution_count": 0,
      "outputs": [
        {
          "output_type": "stream",
          "text": [
            "Epoch 000/060 | Loss 0.0852 | Win/lose count 3.5/3.0 (0.5)\n",
            "Epoch 001/060 | Loss 0.1322 | Win/lose count 2.5/3.0 (-0.5)\n",
            "Epoch 002/060 | Loss 0.0853 | Win/lose count 1.5/3.0 (-1.5)\n",
            "Epoch 003/060 | Loss 0.0734 | Win/lose count 1.0/4.0 (-3.0)\n",
            "Epoch 004/060 | Loss 0.1085 | Win/lose count 2.5/7.0 (-4.5)\n",
            "Epoch 005/060 | Loss 0.0622 | Win/lose count 0.5/0 (0.5)\n",
            "Epoch 006/060 | Loss 0.0970 | Win/lose count 1.0/4.0 (-3.0)\n",
            "Epoch 007/060 | Loss 0.0622 | Win/lose count 2.0/5.0 (-3.0)\n",
            "Epoch 008/060 | Loss 0.1091 | Win/lose count 0.5/7.0 (-6.5)\n",
            "Epoch 009/060 | Loss 0.0970 | Win/lose count 1.5/3.0 (-1.5)\n",
            "Epoch 010/060 | Loss 0.0623 | Win/lose count 1.0/2.0 (-1.0)\n",
            "Epoch 011/060 | Loss 0.1086 | Win/lose count 2.5/2.0 (0.5)\n",
            "Epoch 012/060 | Loss 0.1206 | Win/lose count 1.5/2.0 (-0.5)\n",
            "Epoch 013/060 | Loss 0.0621 | Win/lose count 0/3.0 (-3.0)\n",
            "Epoch 014/060 | Loss 0.0856 | Win/lose count 3.0/2.0 (1.0)\n",
            "Epoch 015/060 | Loss 0.0853 | Win/lose count 4.5/1.0 (3.5)\n",
            "Epoch 016/060 | Loss 0.0737 | Win/lose count 0.5/1.0 (-0.5)\n",
            "Epoch 017/060 | Loss 0.0973 | Win/lose count 2.0/4.0 (-2.0)\n",
            "Epoch 018/060 | Loss 0.0970 | Win/lose count 4.0/2.0 (2.0)\n",
            "Epoch 019/060 | Loss 0.0743 | Win/lose count 1.0/2.0 (-1.0)\n",
            "Epoch 020/060 | Loss 0.0737 | Win/lose count 3.0/2.0 (1.0)\n",
            "Epoch 021/060 | Loss 0.0854 | Win/lose count 1.0/3.0 (-2.0)\n",
            "Epoch 022/060 | Loss 0.0622 | Win/lose count 1.0/2.0 (-1.0)\n",
            "Epoch 023/060 | Loss 0.0853 | Win/lose count 1.5/3.0 (-1.5)\n",
            "Epoch 024/060 | Loss 0.0853 | Win/lose count 1.5/4.0 (-2.5)\n",
            "Epoch 025/060 | Loss 0.0623 | Win/lose count 4.0/3.0 (1.0)\n",
            "Epoch 026/060 | Loss 0.0622 | Win/lose count 2.0/2.0 (0.0)\n",
            "Epoch 027/060 | Loss 0.0623 | Win/lose count 1.5/2.0 (-0.5)\n",
            "Epoch 028/060 | Loss 0.0852 | Win/lose count 1.5/2.0 (-0.5)\n",
            "Epoch 029/060 | Loss 0.0738 | Win/lose count 2.0/2.0 (0.0)\n",
            "Epoch 030/060 | Loss 0.0622 | Win/lose count 4.5/1.0 (3.5)\n",
            "Epoch 031/060 | Loss 0.0856 | Win/lose count 3.0/1.0 (2.0)\n",
            "Epoch 032/060 | Loss 0.0621 | Win/lose count 2.0/1.0 (1.0)\n",
            "Epoch 033/060 | Loss 0.0854 | Win/lose count 1.5/4.0 (-2.5)\n",
            "Epoch 034/060 | Loss 0.0851 | Win/lose count 1.0/4.0 (-3.0)\n",
            "Epoch 035/060 | Loss 0.1085 | Win/lose count 0.5/1.0 (-0.5)\n",
            "Epoch 036/060 | Loss 0.0736 | Win/lose count 1.5/2.0 (-0.5)\n",
            "Epoch 037/060 | Loss 0.0623 | Win/lose count 0.5/2.0 (-1.5)\n",
            "Epoch 038/060 | Loss 0.0852 | Win/lose count 4.0/1.0 (3.0)\n",
            "Epoch 039/060 | Loss 0.0970 | Win/lose count 2.0/2.0 (0.0)\n",
            "Epoch 040/060 | Loss 0.0621 | Win/lose count 1.0/4.0 (-3.0)\n",
            "Epoch 041/060 | Loss 0.0622 | Win/lose count 0.5/2.0 (-1.5)\n",
            "Epoch 042/060 | Loss 0.0738 | Win/lose count 3.0/3.0 (0.0)\n",
            "Epoch 043/060 | Loss 0.0965 | Win/lose count 2.5/0 (2.5)\n",
            "Epoch 044/060 | Loss 0.0738 | Win/lose count 3.0/2.0 (1.0)\n",
            "Epoch 045/060 | Loss 0.0965 | Win/lose count 3.0/3.0 (0.0)\n",
            "Epoch 046/060 | Loss 0.0737 | Win/lose count 2.5/4.0 (-1.5)\n",
            "Epoch 047/060 | Loss 0.0735 | Win/lose count 3.0/3.0 (0.0)\n",
            "Epoch 048/060 | Loss 0.0734 | Win/lose count 1.0/1.0 (0.0)\n",
            "Epoch 049/060 | Loss 0.0622 | Win/lose count 3.0/0 (3.0)\n",
            "Epoch 050/060 | Loss 0.0967 | Win/lose count 2.0/3.0 (-1.0)\n",
            "Epoch 051/060 | Loss 0.0622 | Win/lose count 1.5/3.0 (-1.5)\n",
            "Epoch 052/060 | Loss 0.0851 | Win/lose count 2.0/1.0 (1.0)\n",
            "Epoch 053/060 | Loss 0.0851 | Win/lose count 3.0/5.0 (-2.0)\n",
            "Epoch 054/060 | Loss 0.0972 | Win/lose count 3.0/1.0 (2.0)\n",
            "Epoch 055/060 | Loss 0.1320 | Win/lose count 3.5/2.0 (1.5)\n",
            "Epoch 056/060 | Loss 0.0623 | Win/lose count 2.5/3.0 (-0.5)\n",
            "Epoch 057/060 | Loss 0.0967 | Win/lose count 5.0/2.0 (3.0)\n",
            "Epoch 058/060 | Loss 0.0735 | Win/lose count 2.5/3.0 (-0.5)\n",
            "Epoch 059/060 | Loss 0.0621 | Win/lose count 1.5/5.0 (-3.5)\n"
          ],
          "name": "stdout"
        },
        {
          "output_type": "execute_result",
          "data": {
            "text/html": [
              "<video alt=\"test\" controls>\n",
              "                <source src=\"data:video/mp4;base64,AAAAIGZ0eXBpc29tAAACAGlzb21pc28yYXZjMW1wNDEAAAAIZnJlZQAACg1tZGF0AAACrQYF//+p3EXpvebZSLeWLNgg2SPu73gyNjQgLSBjb3JlIDE1MiByMjg1NCBlOWE1OTAzIC0gSC4yNjQvTVBFRy00IEFWQyBjb2RlYyAtIENvcHlsZWZ0IDIwMDMtMjAxNyAtIGh0dHA6Ly93d3cudmlkZW9sYW4ub3JnL3gyNjQuaHRtbCAtIG9wdGlvbnM6IGNhYmFjPTEgcmVmPTMgZGVibG9jaz0xOjA6MCBhbmFseXNlPTB4MToweDExMSBtZT1oZXggc3VibWU9NyBwc3k9MSBwc3lfcmQ9MS4wMDowLjAwIG1peGVkX3JlZj0xIG1lX3JhbmdlPTE2IGNocm9tYV9tZT0xIHRyZWxsaXM9MSA4eDhkY3Q9MCBjcW09MCBkZWFkem9uZT0yMSwxMSBmYXN0X3Bza2lwPTEgY2hyb21hX3FwX29mZnNldD00IHRocmVhZHM9MyBsb29rYWhlYWRfdGhyZWFkcz0xIHNsaWNlZF90aHJlYWRzPTAgbnI9MCBkZWNpbWF0ZT0xIGludGVybGFjZWQ9MCBibHVyYXlfY29tcGF0PTAgY29uc3RyYWluZWRfaW50cmE9MCBiZnJhbWVzPTMgYl9weXJhbWlkPTIgYl9hZGFwdD0xIGJfYmlhcz0wIGRpcmVjdD0xIHdlaWdodGI9MSBvcGVuX2dvcD0wIHdlaWdodHA9MiBrZXlpbnQ9MjUwIGtleWludF9taW49MjUgc2NlbmVjdXQ9NDAgaW50cmFfcmVmcmVzaD0wIHJjX2xvb2thaGVhZD00MCByYz1jcmYgbWJ0cmVlPTEgY3JmPTIzLjAgcWNvbXA9MC42MCBxcG1pbj0wIHFwbWF4PTY5IHFwc3RlcD00IGlwX3JhdGlvPTEuNDAgYXE9MToxLjAwAIAAAAKvZYiEADP//vaG+BTYUyP+T7/8I/+5H7cfWfrixkIJvrVeQ9GAMl8a/5lGYaXpyc8t7R+vTNAEZz8ZS8pY/so8y5CMyOpB8ClwE+/AppMihFKGfylPFKspSixl/0MZc6qtdTIGJ87uSqqqvohE6CgpOmSqBKYHruaUTiTqPqh0mYAPFJf7yU41QqY0pc0bhRiKoq7ceG/tg6/PTP+iIEm0jlwM6HXYLuz8nu7YZh12SKmX53b92JBRzpTOT5fRueFI8bLyrCM6ox8HXyoQI5DCVIiRRICa52A9e86klSUK+L79tZ8+z9xyM4Sb8O9+AVmybOeKnx3BHZcij9/TwnLBIxvwHQtEFgEafOeA/0GUT2xNDl+XN5w3oHdeTzITpy2KkADnliBCylLugvSXCRQwx73tpfxxtcuqe5Mmp+2ynufonDLNc88gL5mdqqTg+ZpjjCYq0Fs5/aF9DAKO1kSv4ADzoa0NylzKXDR1+JQl9hj9/lms4UlP/8bFyuOtQ7SEstWsx3DTgGrL62A3I1Ez9jNejYs10lGBKAs4TjYBD6zjhwM0HjD97goXuRrcxOHZvSEIvM8AFHepRGjnkhDYHajkkfvbgbqU7Kvp5QcycLH6XvHx4EyDMaAAIDP7L7yS8S6A/V5TKRmQyfPlfjpezIjoilkAGjVF9mK4A1U0h8ksCLTUrK9bXpQr/+QmMyO2szPHPY1D1negizXAG0OG8CcLj2aHmKgtfYiQMWYFxAU9C5VDYldWU3ExYMCIw6JMNnFFe5lJajCAKsQe3KFQ8vmesLndCQJP3ko6xSfrZrYBqyH5jCJzvdK+BzQ/pi0qIv45j0Ze28kAH0VLwnV59xbOKb5g9437C7pa+E3upMabTLpDIyGcAk3+jDxSgV2LTGaHaMmB9HCWTRAAAJGBAAAAE0GaIWxDf/6nhABsfYPY/nwRXoIAAAAbQZpDPCGTKYQz//6eEAJ985s63XEc/odd7og5AAAAEAGeYmpCvwCCvNEyJpWbekAAAAAbQZpkSeEPJlMCG//+p4QAn3yOATXr2Z8EV2zBAAAAGUGahUnhDyZTAhv//qeEAOwcZ/qt8x+IN6EAAAAZQZqoSeEPJlMCG//+p4QA8YPCnWdPutrpgQAAAA9BnsZFETwr/wDIkaBrUkEAAAAPAZ7nakK/AMjYsC6/v3/AAAAAGUGa6UmoQWiZTAhv//6nhAGOCCza+SBNqmAAAAAYQZsKSeEKUmUwId/+qZYCJEw3RDk4PlpBAAAAHUGbLknhDomUwIb//qeEBDBBZs/2fTZkE1fILqqgAAAAEEGfTEURPC//AWUPQ9rLJOAAAAAQAZ9rdEK/Ad5/AZJZ/WWtgQAAAA8Bn21qQr8B0e0OhaNp00EAAAAbQZtxSahBaJlMCG///qeEA9nGf6gfLso+zabhAAAAD0Gfj0URLCv/AdG2ISVvQAAAAA0Bn7BqQr8B0mgoGk6aAAAAGUGbtEmoQWyZTAhv//6nhAPvvsx/h9TA0k8AAAARQZ/SRRUsK/8B3w8GuMsF+S8AAAAOAZ/zakK/Ad6zp0HCpLwAAAAcQZv1SahBbJlMCHf//qmWAdXiEA/v5EmHR+kwIQAAABJBmhlJ4QpSZTAh3/6plgAAlYAAAAAMQZ43RTRML/8AALKBAAAAEAGeVnRCvwEjVI78AH26bcEAAAAQAZ5YakK/AcY1Dn+Zbv1xwAAAABxBml1JqEFomUwId//+qZYB89UC0SbUnePPl4bNAAAAEEGee0URLC//AVsRrbrBdMAAAAAQAZ6adEK/AdJCtV4EV2yygQAAAA8BnpxqQr8B0mglyv79b0EAAAAZQZqBSahBbJlMCG///qeEA+++z6Y1LQAkHAAAABBBnr9FFSwv/wFbEa26wXTAAAAAEAGe3nRCvwHRfwGSW/1ssoEAAAAPAZ7AakK/AcY1DoWjadVAAAAAGUGaxUmoQWyZTAhv//6nhAPbAJGt7B+mVbUAAAAQQZ7jRRUsL/8BW1XW8EBdMAAAAA8BnwJ0Qr8BxrFYwhVp1UEAAAAQAZ8EakK/AdIeDyYHr2yygQAAABlBmwZJqEFsmUwIb//+p4QELjMeSDH5teLLAAAAF0GbKUnhClJlMCG//qeEBDFHNKuQ4tpfAAAAD0GfR0U0TCv/Ad62BSJswAAAAA0Bn2hqQr8B32gkmjKGAAAAGUGbakmoQWiZTAhv//6nhAGditIIRP8bcaEAAAAfQZuOSeEKUmUwIb/+p4QFCFapj/SBj8ePnhxsuKWhYAAAABFBn6xFNEwv/wF6+0KWaTyBgAAAAA8Bn8t0Qr8B+eaoHTpgyRcAAAAPAZ/NakK/Afoavlr++mfBAAAAEkGb0kmoQWiZTAhf//6MsAAEjQAAAAxBn/BFESwv/wAAsoAAAAAQAZ4PdEK/AfKxbsbq/gHXwAAAABABnhFqQr8B8rFuwKj7cH5BAAAAGkGaE0uoQhBbJEYIKAfyAf2HgCFf/jhAABFwAAAFSG1vb3YAAABsbXZoZAAAAAAAAAAAAAAAAAAAA+gAAAggAAEAAAEAAAAAAAAAAAAAAAABAAAAAAAAAAAAAAAAAAAAAQAAAAAAAAAAAAAAAAAAQAAAAAAAAAAAAAAAAAAAAAAAAAAAAAAAAAAAAAAAAAIAAARydHJhawAAAFx0a2hkAAAAAwAAAAAAAAAAAAAAAQAAAAAAAAggAAAAAAAAAAAAAAAAAAAAAAABAAAAAAAAAAAAAAAAAAAAAQAAAAAAAAAAAAAAAAAAQAAAAAEQAAABEAAAAAAAJGVkdHMAAAAcZWxzdAAAAAAAAAABAAAIIAAABAAAAQAAAAAD6m1kaWEAAAAgbWRoZAAAAAAAAAAAAAAAAAAAMgAAAGgAVcQAAAAAAC1oZGxyAAAAAAAAAAB2aWRlAAAAAAAAAAAAAAAAVmlkZW9IYW5kbGVyAAAAA5VtaW5mAAAAFHZtaGQAAAABAAAAAAAAAAAAAAAkZGluZgAAABxkcmVmAAAAAAAAAAEAAAAMdXJsIAAAAAEAAANVc3RibAAAAJVzdHNkAAAAAAAAAAEAAACFYXZjMQAAAAAAAAABAAAAAAAAAAAAAAAAAAAAAAEQARAASAAAAEgAAAAAAAAAAQAAAAAAAAAAAAAAAAAAAAAAAAAAAAAAAAAAAAAAAAAAABj//wAAAC9hdmNDAfQADf/hABdn9AANkZsoIhHQgAAAAwCAAAAZB4oUywEABWjr48RIAAAAGHN0dHMAAAAAAAAAAQAAADQAAAIAAAAAFHN0c3MAAAAAAAAAAQAAAAEAAAF4Y3R0cwAAAAAAAAAtAAAAAgAABAAAAAABAAAGAAAAAAEAAAIAAAAAAgAABAAAAAABAAAIAAAAAAIAAAIAAAAAAgAABAAAAAABAAAKAAAAAAEAAAQAAAAAAQAAAAAAAAABAAACAAAAAAEAAAgAAAAAAgAAAgAAAAABAAAIAAAAAAIAAAIAAAAAAQAABAAAAAABAAAKAAAAAAEAAAQAAAAAAQAAAAAAAAABAAACAAAAAAEAAAoAAAAAAQAABAAAAAABAAAAAAAAAAEAAAIAAAAAAQAACgAAAAABAAAEAAAAAAEAAAAAAAAAAQAAAgAAAAABAAAKAAAAAAEAAAQAAAAAAQAAAAAAAAABAAACAAAAAAEAAAQAAAAAAQAACAAAAAACAAACAAAAAAEAAAQAAAAAAQAACgAAAAABAAAEAAAAAAEAAAAAAAAAAQAAAgAAAAABAAAKAAAAAAEAAAQAAAAAAQAAAAAAAAABAAACAAAAAAEAAAQAAAAAHHN0c2MAAAAAAAAAAQAAAAEAAAA0AAAAAQAAAORzdHN6AAAAAAAAAAAAAAA0AAAFZAAAABcAAAAfAAAAFAAAAB8AAAAdAAAAHQAAABMAAAATAAAAHQAAABwAAAAhAAAAFAAAABQAAAATAAAAHwAAABMAAAARAAAAHQAAABUAAAASAAAAIAAAABYAAAAQAAAAFAAAABQAAAAgAAAAFAAAABQAAAATAAAAHQAAABQAAAAUAAAAEwAAAB0AAAAUAAAAEwAAABQAAAAdAAAAGwAAABMAAAARAAAAHQAAACMAAAAVAAAAEwAAABMAAAAWAAAAEAAAABQAAAAUAAAAHgAAABRzdGNvAAAAAAAAAAEAAAAwAAAAYnVkdGEAAABabWV0YQAAAAAAAAAhaGRscgAAAAAAAAAAbWRpcmFwcGwAAAAAAAAAAAAAAAAtaWxzdAAAACWpdG9vAAAAHWRhdGEAAAABAAAAAExhdmY1Ny44My4xMDA=\" type=\"video/mp4\" />\n",
              "             </video>"
            ],
            "text/plain": [
              "<IPython.core.display.HTML object>"
            ]
          },
          "metadata": {
            "tags": []
          },
          "execution_count": 50
        }
      ]
    },
    {
      "metadata": {
        "id": "BmOZozYGKcmt",
        "colab_type": "code",
        "outputId": "efdbe6d5-5ceb-4cf8-8b1f-d19b236298f9",
        "colab": {
          "base_uri": "https://localhost:8080/",
          "height": 293
        }
      },
      "cell_type": "code",
      "source": [
        "HTML(display_videos('fc_train0.mp4'))"
      ],
      "execution_count": 0,
      "outputs": [
        {
          "output_type": "execute_result",
          "data": {
            "text/html": [
              "<video alt=\"test\" controls>\n",
              "                <source src=\"data:video/mp4;base64,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\" type=\"video/mp4\" />\n",
              "             </video>"
            ],
            "text/plain": [
              "<IPython.core.display.HTML object>"
            ]
          },
          "metadata": {
            "tags": []
          },
          "execution_count": 51
        }
      ]
    },
    {
      "metadata": {
        "id": "yncjc53n2LDD",
        "colab_type": "text"
      },
      "cell_type": "markdown",
      "source": [
        "***\n",
        "***\n",
        "__Question 8__ Implement the DQN training algorithm using a CNN (for example, 2 convolutional layers and one final fully connected layer)."
      ]
    },
    {
      "metadata": {
        "id": "HXNs6AmA2LDD",
        "colab_type": "code",
        "colab": {}
      },
      "cell_type": "code",
      "source": [
        "class DQN_CNN(DQN):\n",
        "    def __init__(self, *args,lr=0.1,**kwargs):\n",
        "        super(DQN_CNN, self).__init__(*args,**kwargs)\n",
        "        model = Sequential()\n",
        "        model.add(Convolution2D(32, (2, 2), input_shape=(5,5,self.n_state)))\n",
        "        model.add(Convolution2D(64, (2, 2)))\n",
        "        model.add(Flatten())\n",
        "        model.add(Dense(1024)) \n",
        "        model.add(Activation('relu'))\n",
        "        model.add(Dense(4))\n",
        "        model.add(Activation('softmax'))        \n",
        "        model.compile(sgd(lr=lr, decay=1e-4, momentum=0.0), \"mse\")\n",
        "        self.model = model\n",
        "        model.summary()\n",
        "\n",
        "        \n",
        "    def learned_act(self, s):\n",
        "        return np.argmax(self.model.predict(s.reshape((1,5,5,self.n_state))))"
      ],
      "execution_count": 0,
      "outputs": []
    },
    {
      "metadata": {
        "id": "fICu_UUf2LDG",
        "colab_type": "code",
        "outputId": "a1cfc9e6-6ea8-412b-a2e5-9001061bcced",
        "colab": {
          "base_uri": "https://localhost:8080/",
          "height": 2236
        }
      },
      "cell_type": "code",
      "source": [
        "env = Environment(grid_size=size, max_time=T, temperature=0.3)\n",
        "agent = DQN_CNN(size, lr=.1, epsilon = 0.3, memory_size=2000, batch_size = 32,n_state = 2)\n",
        "train(agent,env,epochs_train,prefix='cnn_train')\n",
        "HTML(display_videos('cnn_train0.mp4'))"
      ],
      "execution_count": 87,
      "outputs": [
        {
          "output_type": "stream",
          "text": [
            "_________________________________________________________________\n",
            "Layer (type)                 Output Shape              Param #   \n",
            "=================================================================\n",
            "conv2d_21 (Conv2D)           (None, 4, 4, 32)          288       \n",
            "_________________________________________________________________\n",
            "conv2d_22 (Conv2D)           (None, 3, 3, 64)          8256      \n",
            "_________________________________________________________________\n",
            "flatten_17 (Flatten)         (None, 576)               0         \n",
            "_________________________________________________________________\n",
            "dense_45 (Dense)             (None, 1024)              590848    \n",
            "_________________________________________________________________\n",
            "activation_21 (Activation)   (None, 1024)              0         \n",
            "_________________________________________________________________\n",
            "dense_46 (Dense)             (None, 4)                 4100      \n",
            "_________________________________________________________________\n",
            "activation_22 (Activation)   (None, 4)                 0         \n",
            "=================================================================\n",
            "Total params: 603,492\n",
            "Trainable params: 603,492\n",
            "Non-trainable params: 0\n",
            "_________________________________________________________________\n",
            "Epoch 000/100 | Loss 0.0613 | Win/lose count 8.5/2.0 (6.5)\n",
            "Epoch 001/100 | Loss 0.0727 | Win/lose count 3.5/4.0 (-0.5)\n",
            "Epoch 002/100 | Loss 0.0607 | Win/lose count 5.0/5.0 (0.0)\n",
            "Epoch 003/100 | Loss 0.0711 | Win/lose count 2.0/2.0 (0.0)\n",
            "Epoch 004/100 | Loss 0.0704 | Win/lose count 8.5/8.0 (0.5)\n",
            "Epoch 005/100 | Loss 0.0603 | Win/lose count 2.5/1.0 (1.5)\n",
            "Epoch 006/100 | Loss 0.0600 | Win/lose count 6.0/2.0 (4.0)\n",
            "Epoch 007/100 | Loss 0.0928 | Win/lose count 3.0/4.0 (-1.0)\n",
            "Epoch 008/100 | Loss 0.0608 | Win/lose count 5.0/2.0 (3.0)\n",
            "Epoch 009/100 | Loss 0.0836 | Win/lose count 5.0/4.0 (1.0)\n",
            "Epoch 010/100 | Loss 0.0819 | Win/lose count 7.0/5.0 (2.0)\n",
            "Epoch 011/100 | Loss 0.0858 | Win/lose count 5.0/4.0 (1.0)\n",
            "Epoch 012/100 | Loss 0.0617 | Win/lose count 1.0/3.0 (-2.0)\n",
            "Epoch 013/100 | Loss 0.0822 | Win/lose count 6.5/7.0 (-0.5)\n",
            "Epoch 014/100 | Loss 0.0726 | Win/lose count 5.0/3.0 (2.0)\n",
            "Epoch 015/100 | Loss 0.0736 | Win/lose count 10.0/4.0 (6.0)\n",
            "Epoch 016/100 | Loss 0.0607 | Win/lose count 4.0/2.0 (2.0)\n",
            "Epoch 017/100 | Loss 0.0816 | Win/lose count 6.0/6.0 (0.0)\n",
            "Epoch 018/100 | Loss 0.0849 | Win/lose count 4.5/3.0 (1.5)\n",
            "Epoch 019/100 | Loss 0.0711 | Win/lose count 10.0/5.0 (5.0)\n",
            "Epoch 020/100 | Loss 0.0826 | Win/lose count 9.5/3.0 (6.5)\n",
            "Epoch 021/100 | Loss 0.0705 | Win/lose count 7.5/4.0 (3.5)\n",
            "Epoch 022/100 | Loss 0.0923 | Win/lose count 12.5/4.0 (8.5)\n",
            "Epoch 023/100 | Loss 0.0709 | Win/lose count 3.5/2.0 (1.5)\n",
            "Epoch 024/100 | Loss 0.1132 | Win/lose count 6.0/2.0 (4.0)\n",
            "Epoch 025/100 | Loss 0.0702 | Win/lose count 8.0/1.0 (7.0)\n",
            "Epoch 026/100 | Loss 0.0843 | Win/lose count 8.5/2.0 (6.5)\n",
            "Epoch 027/100 | Loss 0.0722 | Win/lose count 7.5/1.0 (6.5)\n",
            "Epoch 028/100 | Loss 0.0827 | Win/lose count 3.0/2.0 (1.0)\n",
            "Epoch 029/100 | Loss 0.0698 | Win/lose count 7.5/6.0 (1.5)\n",
            "Epoch 030/100 | Loss 0.0838 | Win/lose count 4.5/5.0 (-0.5)\n",
            "Epoch 031/100 | Loss 0.0706 | Win/lose count 4.0/4.0 (0.0)\n",
            "Epoch 032/100 | Loss 0.0602 | Win/lose count 10.5/2.0 (8.5)\n",
            "Epoch 033/100 | Loss 0.0695 | Win/lose count 8.0/4.0 (4.0)\n",
            "Epoch 034/100 | Loss 0.0915 | Win/lose count 3.0/3.0 (0.0)\n",
            "Epoch 035/100 | Loss 0.0725 | Win/lose count 5.5/6.0 (-0.5)\n",
            "Epoch 036/100 | Loss 0.0611 | Win/lose count 13.0/1.0 (12.0)\n",
            "Epoch 037/100 | Loss 0.0712 | Win/lose count 5.5/2.0 (3.5)\n",
            "Epoch 038/100 | Loss 0.1070 | Win/lose count 5.5/2.0 (3.5)\n",
            "Epoch 039/100 | Loss 0.0602 | Win/lose count 11.0/2.0 (9.0)\n",
            "Epoch 040/100 | Loss 0.0935 | Win/lose count 6.0/4.0 (2.0)\n",
            "Epoch 041/100 | Loss 0.0731 | Win/lose count 3.0/3.0 (0.0)\n",
            "Epoch 042/100 | Loss 0.0607 | Win/lose count 7.0/3.0 (4.0)\n",
            "Epoch 043/100 | Loss 0.0842 | Win/lose count 7.5/5.0 (2.5)\n",
            "Epoch 044/100 | Loss 0.0937 | Win/lose count 4.0/3.0 (1.0)\n",
            "Epoch 045/100 | Loss 0.0699 | Win/lose count 18.0/4.0 (14.0)\n",
            "Epoch 046/100 | Loss 0.0830 | Win/lose count 7.0/6.0 (1.0)\n",
            "Epoch 047/100 | Loss 0.0701 | Win/lose count 10.0/6.0 (4.0)\n",
            "Epoch 048/100 | Loss 0.0808 | Win/lose count 9.5/4.0 (5.5)\n",
            "Epoch 049/100 | Loss 0.0606 | Win/lose count 4.5/2.0 (2.5)\n",
            "Epoch 050/100 | Loss 0.0793 | Win/lose count 6.0/4.0 (2.0)\n",
            "Epoch 051/100 | Loss 0.0828 | Win/lose count 10.5/4.0 (6.5)\n",
            "Epoch 052/100 | Loss 0.0698 | Win/lose count 5.0/8.0 (-3.0)\n",
            "Epoch 053/100 | Loss 0.0813 | Win/lose count 14.0/3.0 (11.0)\n",
            "Epoch 054/100 | Loss 0.0617 | Win/lose count 9.0/3.0 (6.0)\n",
            "Epoch 055/100 | Loss 0.0697 | Win/lose count 9.5/6.0 (3.5)\n",
            "Epoch 056/100 | Loss 0.0592 | Win/lose count 11.0/5.0 (6.0)\n",
            "Epoch 057/100 | Loss 0.0730 | Win/lose count 4.0/8.0 (-4.0)\n",
            "Epoch 058/100 | Loss 0.0738 | Win/lose count 6.0/5.0 (1.0)\n",
            "Epoch 059/100 | Loss 0.0805 | Win/lose count 8.0/2.0 (6.0)\n",
            "Epoch 060/100 | Loss 0.0596 | Win/lose count 8.0/1.0 (7.0)\n",
            "Epoch 061/100 | Loss 0.0727 | Win/lose count 9.5/5.0 (4.5)\n",
            "Epoch 062/100 | Loss 0.0601 | Win/lose count 12.5/3.0 (9.5)\n",
            "Epoch 063/100 | Loss 0.0908 | Win/lose count 9.5/4.0 (5.5)\n",
            "Epoch 064/100 | Loss 0.0792 | Win/lose count 10.0/3.0 (7.0)\n",
            "Epoch 065/100 | Loss 0.0810 | Win/lose count 13.0/3.0 (10.0)\n",
            "Epoch 066/100 | Loss 0.0697 | Win/lose count 8.0/10.0 (-2.0)\n",
            "Epoch 067/100 | Loss 0.0722 | Win/lose count 11.5/2.0 (9.5)\n",
            "Epoch 068/100 | Loss 0.1003 | Win/lose count 10.5/5.0 (5.5)\n",
            "Epoch 069/100 | Loss 0.0825 | Win/lose count 7.0/2.0 (5.0)\n",
            "Epoch 070/100 | Loss 0.0724 | Win/lose count 7.5/3.0 (4.5)\n",
            "Epoch 071/100 | Loss 0.0738 | Win/lose count 11.0/4.0 (7.0)\n",
            "Epoch 072/100 | Loss 0.0692 | Win/lose count 12.5/5.0 (7.5)\n",
            "Epoch 073/100 | Loss 0.0944 | Win/lose count 9.0/5.0 (4.0)\n",
            "Epoch 074/100 | Loss 0.0625 | Win/lose count 12.0/1.0 (11.0)\n",
            "Epoch 075/100 | Loss 0.0719 | Win/lose count 15.0/4.0 (11.0)\n",
            "Epoch 076/100 | Loss 0.0708 | Win/lose count 13.0/3.0 (10.0)\n",
            "Epoch 077/100 | Loss 0.0730 | Win/lose count 8.0/7.0 (1.0)\n",
            "Epoch 078/100 | Loss 0.0618 | Win/lose count 10.5/4.0 (6.5)\n",
            "Epoch 079/100 | Loss 0.0815 | Win/lose count 11.0/2.0 (9.0)\n",
            "Epoch 080/100 | Loss 0.0786 | Win/lose count 11.0/6.0 (5.0)\n",
            "Epoch 081/100 | Loss 0.0584 | Win/lose count 9.0/4.0 (5.0)\n",
            "Epoch 082/100 | Loss 0.1001 | Win/lose count 7.0/7.0 (0.0)\n",
            "Epoch 083/100 | Loss 0.0600 | Win/lose count 8.5/1.0 (7.5)\n",
            "Epoch 084/100 | Loss 0.0729 | Win/lose count 12.5/6.0 (6.5)\n",
            "Epoch 085/100 | Loss 0.0816 | Win/lose count 12.0/3.0 (9.0)\n",
            "Epoch 086/100 | Loss 0.0712 | Win/lose count 14.5/3.0 (11.5)\n",
            "Epoch 087/100 | Loss 0.0704 | Win/lose count 4.0/5.0 (-1.0)\n",
            "Epoch 088/100 | Loss 0.0782 | Win/lose count 13.5/4.0 (9.5)\n",
            "Epoch 089/100 | Loss 0.0711 | Win/lose count 13.5/3.0 (10.5)\n",
            "Epoch 090/100 | Loss 0.0630 | Win/lose count 8.0/3.0 (5.0)\n",
            "Epoch 091/100 | Loss 0.0586 | Win/lose count 13.5/2.0 (11.5)\n",
            "Epoch 092/100 | Loss 0.0672 | Win/lose count 13.0/8.0 (5.0)\n",
            "Epoch 093/100 | Loss 0.0610 | Win/lose count 8.5/3.0 (5.5)\n",
            "Epoch 094/100 | Loss 0.0584 | Win/lose count 9.5/6.0 (3.5)\n",
            "Epoch 095/100 | Loss 0.0693 | Win/lose count 14.0/4.0 (10.0)\n",
            "Epoch 096/100 | Loss 0.0608 | Win/lose count 10.0/4.0 (6.0)\n",
            "Epoch 097/100 | Loss 0.0807 | Win/lose count 11.5/6.0 (5.5)\n",
            "Epoch 098/100 | Loss 0.0554 | Win/lose count 16.5/8.0 (8.5)\n",
            "Epoch 099/100 | Loss 0.0827 | Win/lose count 7.5/5.0 (2.5)\n"
          ],
          "name": "stdout"
        },
        {
          "output_type": "execute_result",
          "data": {
            "text/html": [
              "<video alt=\"test\" controls>\n",
              "                <source src=\"data:video/mp4;base64,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\" type=\"video/mp4\" />\n",
              "             </video>"
            ],
            "text/plain": [
              "<IPython.core.display.HTML object>"
            ]
          },
          "metadata": {
            "tags": []
          },
          "execution_count": 87
        }
      ]
    },
    {
      "metadata": {
        "id": "i_h70foB2LDI",
        "colab_type": "text"
      },
      "cell_type": "markdown",
      "source": [
        "***\n",
        "***\n",
        "__Question 9__ Test both algorithms and compare their performances. Which issue(s) do you observe? Observe also different behaviors by changing the temperature."
      ]
    },
    {
      "metadata": {
        "id": "0kIZtGEOs1b5",
        "colab_type": "code",
        "outputId": "8f07f29d-f9f9-4143-9b12-4d993fa9e7e8",
        "colab": {
          "base_uri": "https://localhost:8080/",
          "height": 375
        }
      },
      "cell_type": "code",
      "source": [
        "env = Environment(grid_size=size, max_time=T,temperature=0.2)\n",
        "agent_cnn = DQN_CNN(size, lr=.1, epsilon = 0.1, memory_size=2000, batch_size = 32, n_state = 2)\n",
        "agent_cnn.load(name_weights='cnn_trainmodel.h5',name_model='cnn_trainmodel.json')\n",
        "\n",
        "agent_fc = DQN_FC(size, lr=.1, epsilon = 0.1, memory_size=2000, batch_size = 32, n_state = 2)\n",
        "agent_cnn.load(name_weights='fc_trainmodel.h5',name_model='fc_trainmodel.json')"
      ],
      "execution_count": 88,
      "outputs": [
        {
          "output_type": "stream",
          "text": [
            "_________________________________________________________________\n",
            "Layer (type)                 Output Shape              Param #   \n",
            "=================================================================\n",
            "conv2d_23 (Conv2D)           (None, 4, 4, 32)          288       \n",
            "_________________________________________________________________\n",
            "conv2d_24 (Conv2D)           (None, 3, 3, 64)          8256      \n",
            "_________________________________________________________________\n",
            "flatten_18 (Flatten)         (None, 576)               0         \n",
            "_________________________________________________________________\n",
            "dense_47 (Dense)             (None, 1024)              590848    \n",
            "_________________________________________________________________\n",
            "activation_23 (Activation)   (None, 1024)              0         \n",
            "_________________________________________________________________\n",
            "dense_48 (Dense)             (None, 4)                 4100      \n",
            "_________________________________________________________________\n",
            "activation_24 (Activation)   (None, 4)                 0         \n",
            "=================================================================\n",
            "Total params: 603,492\n",
            "Trainable params: 603,492\n",
            "Non-trainable params: 0\n",
            "_________________________________________________________________\n"
          ],
          "name": "stdout"
        }
      ]
    },
    {
      "metadata": {
        "id": "Beu9w8A9sZ32",
        "colab_type": "text"
      },
      "cell_type": "markdown",
      "source": [
        "## Test of the FC\n"
      ]
    },
    {
      "metadata": {
        "id": "nTyHhDTI2LDJ",
        "colab_type": "code",
        "outputId": "5b79bcfe-9553-471e-f557-4875d2cd07e9",
        "colab": {
          "base_uri": "https://localhost:8080/",
          "height": 204
        }
      },
      "cell_type": "code",
      "source": [
        "test(agent_fc,env,epochs_test,prefix='fc_test')"
      ],
      "execution_count": 89,
      "outputs": [
        {
          "output_type": "stream",
          "text": [
            "Win/lose count 0.5/4.0. Average score (-3.5)\n",
            "Win/lose count 2.0/3.0. Average score (-2.25)\n",
            "Win/lose count 0.5/0. Average score (-1.3333333333333333)\n",
            "Win/lose count 0/1.0. Average score (-1.25)\n",
            "Win/lose count 0/1.0. Average score (-1.2)\n",
            "Win/lose count 1.5/0. Average score (-0.75)\n",
            "Win/lose count 1.0/1.0. Average score (-0.6428571428571429)\n",
            "Win/lose count 0/0. Average score (-0.5625)\n",
            "Win/lose count 1.5/0. Average score (-0.3333333333333333)\n",
            "Win/lose count 0/1.0. Average score (-0.4)\n",
            "Final score: -0.4\n"
          ],
          "name": "stdout"
        }
      ]
    },
    {
      "metadata": {
        "id": "B7TboTI1tNmn",
        "colab_type": "code",
        "outputId": "2d4f34cf-db65-41fa-fb5d-8e1aaa9d9f71",
        "colab": {
          "base_uri": "https://localhost:8080/",
          "height": 293
        }
      },
      "cell_type": "code",
      "source": [
        " HTML(display_videos('fc_test0.mp4'))"
      ],
      "execution_count": 90,
      "outputs": [
        {
          "output_type": "execute_result",
          "data": {
            "text/html": [
              "<video alt=\"test\" controls>\n",
              "                <source src=\"data:video/mp4;base64,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\" type=\"video/mp4\" />\n",
              "             </video>"
            ],
            "text/plain": [
              "<IPython.core.display.HTML object>"
            ]
          },
          "metadata": {
            "tags": []
          },
          "execution_count": 90
        }
      ]
    },
    {
      "metadata": {
        "id": "M_faIh0ss9MB",
        "colab_type": "text"
      },
      "cell_type": "markdown",
      "source": [
        "## Test of the CNN"
      ]
    },
    {
      "metadata": {
        "id": "X_RRrYZ6tBAT",
        "colab_type": "code",
        "outputId": "3cf0f057-3925-4e64-c753-b55e7762c29f",
        "colab": {
          "base_uri": "https://localhost:8080/",
          "height": 204
        }
      },
      "cell_type": "code",
      "source": [
        "test(agent_cnn,env,epochs_test,prefix='cnn_test')"
      ],
      "execution_count": 91,
      "outputs": [
        {
          "output_type": "stream",
          "text": [
            "Win/lose count 1.0/0. Average score (1.0)\n",
            "Win/lose count 0.5/0. Average score (0.75)\n",
            "Win/lose count 2.0/0. Average score (1.1666666666666667)\n",
            "Win/lose count 1.0/0. Average score (1.125)\n",
            "Win/lose count 1.0/0. Average score (1.1)\n",
            "Win/lose count 3.0/0. Average score (1.4166666666666667)\n",
            "Win/lose count 0.5/0. Average score (1.2857142857142858)\n",
            "Win/lose count 0.5/0. Average score (1.1875)\n",
            "Win/lose count 2.5/0. Average score (1.3333333333333333)\n",
            "Win/lose count 0/0. Average score (1.2)\n",
            "Final score: 1.2\n"
          ],
          "name": "stdout"
        }
      ]
    },
    {
      "metadata": {
        "id": "vneufCio2LDO",
        "colab_type": "code",
        "outputId": "cb6ddd42-c07a-4750-d1a9-9f365713a2e5",
        "colab": {
          "base_uri": "https://localhost:8080/",
          "height": 293
        }
      },
      "cell_type": "code",
      "source": [
        "HTML(display_videos('cnn_test0.mp4'))"
      ],
      "execution_count": 92,
      "outputs": [
        {
          "output_type": "execute_result",
          "data": {
            "text/html": [
              "<video alt=\"test\" controls>\n",
              "                <source src=\"data:video/mp4;base64,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\" type=\"video/mp4\" />\n",
              "             </video>"
            ],
            "text/plain": [
              "<IPython.core.display.HTML object>"
            ]
          },
          "metadata": {
            "tags": []
          },
          "execution_count": 92
        }
      ]
    },
    {
      "metadata": {
        "id": "cJL4Fhwx2LDU",
        "colab_type": "text"
      },
      "cell_type": "markdown",
      "source": [
        "# Comment\n",
        "Three temperature values has been considered: T =0.2,  0.4, 0.8\n",
        "\n",
        "[T = 0.2]:  since the beginning the agent does not explore the map and often turns around to its initial position. In the testing phase: with the FF NN the agent starts oscillating since the very beginning, with the CNN one the agent explores few cells before being stuck visiting the sames cells.\n",
        "\n",
        "[T = 0.4] :   the agent's behaviour is very similar to the previous case. CNN improves this aspect, but still the agent visits many times the same cells.\n",
        "\n",
        "[T = 0.8] :  in the training phase,  the agent explores new cells more frequently than the previous case. Nevertheless, in the testing phase the agent starts oscillating after few steps. \n"
      ]
    },
    {
      "metadata": {
        "id": "BkWpjTYV2LDY",
        "colab_type": "text"
      },
      "cell_type": "markdown",
      "source": [
        "***\n",
        "\n",
        "The algorithm tends to not explore the map which can be an issue. We propose two ideas in order to encourage exploration:\n",
        "1. Incorporating a decreasing $\\epsilon$-greedy exploration. You can use the method ```set_epsilon```\n",
        "2. Append via the environment a new state that describes if a cell has been visited or not\n",
        "\n",
        "***\n",
        "__Question 10__ Design a new ```train_explore``` function and environment class ```EnvironmentExploring``` to tackle the issue of exploration.\n",
        "\n"
      ]
    },
    {
      "metadata": {
        "id": "PRUTwOc62LDZ",
        "colab_type": "code",
        "colab": {}
      },
      "cell_type": "code",
      "source": [
        "def train_explore(agent,env,epoch,prefix=''):\n",
        "    # Number of won games\n",
        "    score = 0\n",
        "    loss = 0\n",
        "    \n",
        "    dc = 0.99\n",
        "    for e in range(epoch):\n",
        "        # At each epoch, we restart to a fresh game and get the initial state\n",
        "        state = env.reset()\n",
        "        # This assumes that the games will terminate\n",
        "        game_over = False\n",
        "\n",
        "        win = 0\n",
        "        lose = 0\n",
        "\n",
        "        while not game_over:\n",
        "            # The agent performs an action\n",
        "            \n",
        "            action = agent.act(state)\n",
        "            \n",
        "            # Apply an action to the environment, get the next state, the reward\n",
        "            # and if the games end\n",
        "            prev_state = state\n",
        "            state, reward, game_over = env.act(action)\n",
        "\n",
        "            # Update the counters\n",
        "            if reward > 0:\n",
        "                win = round(win + reward,2)\n",
        "                \n",
        "            if reward < 0:\n",
        "                lose = round(lose - reward,2)\n",
        "\n",
        "            # Apply the reinforcement strategy\n",
        "            loss = round(agent.reinforce(prev_state, state,  action, reward, game_over),2)\n",
        "            \n",
        "        # Update the epsilon when the game is over\n",
        "        agent.set_epsilon(agent.epsilon*dc)          \n",
        "\n",
        "        # Save as a mp4\n",
        "        if e % 10 == 0:\n",
        "            env.draw(prefix+str(e))\n",
        "\n",
        "        # Update stats\n",
        "        score += round(win-lose,2)\n",
        "        \n",
        "\n",
        "        print(\"Epoch {:03d}/{:03d} | Loss {:.4f} | Win/lose count {}/{} ({})\"\n",
        "              .format(e, epoch, loss, win, lose, win-lose))\n",
        "        agent.save(name_weights=prefix+'model.h5',name_model=prefix+'model.json')\n",
        "        \n",
        "class EnvironmentExploring(object):\n",
        "    def __init__(self, grid_size=13, max_time=500, temperature=0.1):\n",
        "        grid_size = grid_size+4\n",
        "        self.grid_size = grid_size\n",
        "        self.max_time = max_time\n",
        "        self.temperature = temperature\n",
        "\n",
        "        #board on which one plays\n",
        "        self.board = np.zeros((grid_size,grid_size))\n",
        "        self.position = np.zeros((grid_size,grid_size))\n",
        "        self.malus_position = np.zeros((grid_size,grid_size))\n",
        "\n",
        "        # coordinate of the rat\n",
        "        self.x = 0\n",
        "        self.y = 1\n",
        "\n",
        "        # self time\n",
        "        self.t = 0\n",
        "\n",
        "        self.scale=16\n",
        "\n",
        "        self.to_draw = np.zeros((max_time+2, grid_size*self.scale, grid_size*self.scale, 3))\n",
        "\n",
        "\n",
        "    def draw(self,e):\n",
        "        skvideo.io.vwrite(str(e) + '.mp4', self.to_draw)\n",
        "\n",
        "    def get_frame(self,t):\n",
        "        b = np.zeros((self.grid_size,self.grid_size,3))+128\n",
        "        b[self.board>0,0] = 256\n",
        "        b[self.board<0,2] = 256\n",
        "        b[self.x,self.y,:]= 256\n",
        "        b[-2:,:,:]=0\n",
        "        b[:,-2:,:]=0\n",
        "        b[:2,:,:]=0\n",
        "        b[:,:2,:]=0\n",
        "        \n",
        "        b =  cv2.resize(b, None, fx=self.scale, fy=self.scale, interpolation=cv2.INTER_NEAREST)\n",
        "\n",
        "        self.to_draw[t,:,:,:]=b\n",
        "\n",
        "\n",
        "    def act(self, action, train = True):\n",
        "        \"\"\"This function returns the new state, reward and decides if the\n",
        "        game ends.\"\"\"\n",
        "\n",
        "        self.get_frame(int(self.t))\n",
        "\n",
        "        self.position = np.zeros((self.grid_size, self.grid_size))\n",
        "\n",
        "        self.position[0:2,:]= -1\n",
        "        self.position[:,0:2] = -1\n",
        "        self.position[-2:,:] = -1\n",
        "        self.position[:,-2:] = -1\n",
        "\n",
        "        self.position[self.x, self.y] = 1\n",
        "        if action == 0:\n",
        "            if self.x == self.grid_size-3:\n",
        "                self.x = self.x-1\n",
        "            else:\n",
        "                self.x = self.x + 1\n",
        "        elif action == 1:\n",
        "            if self.x == 2:\n",
        "                self.x = self.x+1\n",
        "            else:\n",
        "                self.x = self.x-1\n",
        "        elif action == 2:\n",
        "            if self.y == self.grid_size - 3:\n",
        "                self.y = self.y - 1\n",
        "            else:\n",
        "                self.y = self.y + 1\n",
        "        elif action == 3:\n",
        "            if self.y == 2:\n",
        "                self.y = self.y + 1\n",
        "            else:\n",
        "                self.y = self.y - 1\n",
        "        else:\n",
        "            RuntimeError('Error: action not recognized')\n",
        "\n",
        "        self.t = self.t + 1\n",
        "        \n",
        "        reward = 0\n",
        "        if train:\n",
        "            reward = - self.malus_position[self.x, self.y] \n",
        "        self.malus_position[self.x, self.y] += 0.55 \n",
        "        reward += self.board[self.x, self.y]\n",
        "        \n",
        "        self.board[self.x, self.y] = 0\n",
        "        game_over = self.t > self.max_time\n",
        "        state = np.concatenate((self.malus_position.reshape(self.grid_size, self.grid_size,1),\n",
        "                                        self.board.reshape(self.grid_size, self.grid_size,1),\n",
        "                                self.position.reshape(self.grid_size, self.grid_size,1)),axis=2)\n",
        "          \n",
        "        state = state[self.x-2:self.x+3,self.y-2:self.y+3,:]\n",
        "\n",
        "        return state, reward, game_over\n",
        "\n",
        "    def reset(self):\n",
        "        \"\"\"This function resets the game and returns the initial state\"\"\"\n",
        "\n",
        "        self.x = np.random.randint(3, self.grid_size-3, size=1)[0]\n",
        "        self.y = np.random.randint(3, self.grid_size-3, size=1)[0]\n",
        "\n",
        "\n",
        "        bonus = 0.5*np.random.binomial(1,self.temperature,size=self.grid_size**2)\n",
        "        bonus = bonus.reshape(self.grid_size,self.grid_size)\n",
        "\n",
        "        malus = -1.0*np.random.binomial(1,self.temperature,size=self.grid_size**2)\n",
        "        malus = malus.reshape(self.grid_size, self.grid_size)\n",
        "\n",
        "        self.to_draw = np.zeros((self.max_time+2, self.grid_size*self.scale, self.grid_size*self.scale, 3))\n",
        "\n",
        "\n",
        "        malus[bonus>0]=0\n",
        "        \n",
        "        # Reset the board\n",
        "        self.board = bonus + malus\n",
        "        \n",
        "        # Reset the position\n",
        "        self.position = np.zeros((self.grid_size, self.grid_size))\n",
        "        self.position[0:2,:]= -1\n",
        "        self.position[:,0:2] = -1\n",
        "        self.position[-2:,:] = -1\n",
        "        self.position[:,-2:] = -1\n",
        "        self.board[self.x,self.y] = 0\n",
        "        self.t = 0\n",
        "        \n",
        "        # Reset the malus\n",
        "        self.malus_position = np.zeros((self.grid_size,self.grid_size))\n",
        "\n",
        "\n",
        "        state = np.concatenate((self.malus_position.reshape(self.grid_size, self.grid_size,1),\n",
        "                                        self.board.reshape(self.grid_size, self.grid_size,1),\n",
        "                                self.position.reshape(self.grid_size, self.grid_size,1)),axis=2)\n",
        "\n",
        "        state = state[self.x - 2:self.x + 3, self.y - 2:self.y + 3, :]\n",
        "        \n",
        "        return state\n",
        "    \n",
        "        ## use those samples of code:\n",
        "        #In train explore:\n",
        "        #state, reward, game_over = env.act(action, train=True)  \n",
        "        \n",
        "        #reward = reward + self.board[self.x, self.y]\n",
        "        # 3 \"feature\" states instead of 2\n",
        "        #state = np.concatenate((self.malus_position.reshape(self.grid_size, self.grid_size,1),\n",
        "        #                                self.board.reshape(self.grid_size, self.grid_size,1),\n",
        "        #                        self.position.reshape(self.grid_size, self.grid_size,1)),axis=2)"
      ],
      "execution_count": 0,
      "outputs": []
    },
    {
      "metadata": {
        "id": "7SsK-yBR2LDc",
        "colab_type": "code",
        "outputId": "e0a2fc6a-dbef-4a89-ca8e-43707c7543a4",
        "colab": {
          "base_uri": "https://localhost:8080/",
          "height": 392
        }
      },
      "cell_type": "code",
      "source": [
        "# Training\n",
        "epochs_train = 100 \n",
        "T = 120\n",
        "env = EnvironmentExploring(grid_size=size, max_time=T, temperature=0.4)\n",
        "print(env.grid_size)\n",
        "agent = DQN_CNN(size, lr=.1, epsilon = 1, memory_size=20000,batch_size = 32, n_state = 3)\n"
      ],
      "execution_count": 100,
      "outputs": [
        {
          "output_type": "stream",
          "text": [
            "17\n",
            "_________________________________________________________________\n",
            "Layer (type)                 Output Shape              Param #   \n",
            "=================================================================\n",
            "conv2d_29 (Conv2D)           (None, 4, 4, 32)          416       \n",
            "_________________________________________________________________\n",
            "conv2d_30 (Conv2D)           (None, 3, 3, 64)          8256      \n",
            "_________________________________________________________________\n",
            "flatten_22 (Flatten)         (None, 576)               0         \n",
            "_________________________________________________________________\n",
            "dense_57 (Dense)             (None, 1024)              590848    \n",
            "_________________________________________________________________\n",
            "activation_29 (Activation)   (None, 1024)              0         \n",
            "_________________________________________________________________\n",
            "dense_58 (Dense)             (None, 4)                 4100      \n",
            "_________________________________________________________________\n",
            "activation_30 (Activation)   (None, 4)                 0         \n",
            "=================================================================\n",
            "Total params: 603,620\n",
            "Trainable params: 603,620\n",
            "Non-trainable params: 0\n",
            "_________________________________________________________________\n"
          ],
          "name": "stdout"
        }
      ]
    },
    {
      "metadata": {
        "id": "OzQdU2CHxTtG",
        "colab_type": "code",
        "outputId": "0678b4fb-43da-4234-a9bf-ef5dca0a7399",
        "colab": {
          "base_uri": "https://localhost:8080/",
          "height": 1878
        }
      },
      "cell_type": "code",
      "source": [
        "train_explore(agent, env, epochs_train, prefix='cnn_train_explore')\n",
        "HTML(display_videos('cnn_train_explore0.mp4'))"
      ],
      "execution_count": 101,
      "outputs": [
        {
          "output_type": "stream",
          "text": [
            "Epoch 000/100 | Loss 0.6400 | Win/lose count 10.0/100.3 (-90.3)\n",
            "Epoch 001/100 | Loss 0.4600 | Win/lose count 9.5/109.45 (-99.95)\n",
            "Epoch 002/100 | Loss 0.4700 | Win/lose count 11.0/88.1 (-77.1)\n",
            "Epoch 003/100 | Loss 0.4300 | Win/lose count 9.0/103.1 (-94.1)\n",
            "Epoch 004/100 | Loss 0.3900 | Win/lose count 7.0/96.25 (-89.25)\n",
            "Epoch 005/100 | Loss 0.5500 | Win/lose count 9.0/97.9 (-88.9)\n",
            "Epoch 006/100 | Loss 0.6200 | Win/lose count 8.0/116.1 (-108.1)\n",
            "Epoch 007/100 | Loss 0.3500 | Win/lose count 8.0/95.0 (-87.0)\n",
            "Epoch 008/100 | Loss 0.6400 | Win/lose count 11.5/87.35 (-75.85)\n",
            "Epoch 009/100 | Loss 0.4300 | Win/lose count 14.0/67.75 (-53.75)\n",
            "Epoch 010/100 | Loss 0.5100 | Win/lose count 12.0/94.1 (-82.1)\n",
            "Epoch 011/100 | Loss 0.5300 | Win/lose count 10.5/110.95 (-100.45)\n",
            "Epoch 012/100 | Loss 0.3100 | Win/lose count 15.5/66.35 (-50.849999999999994)\n",
            "Epoch 013/100 | Loss 0.4500 | Win/lose count 2.5/163.85 (-161.35)\n",
            "Epoch 014/100 | Loss 0.7200 | Win/lose count 9.5/100.35 (-90.85)\n",
            "Epoch 015/100 | Loss 0.3900 | Win/lose count 9.5/90.1 (-80.6)\n",
            "Epoch 016/100 | Loss 0.4500 | Win/lose count 9.5/91.55 (-82.05)\n",
            "Epoch 017/100 | Loss 0.5800 | Win/lose count 11.5/64.35 (-52.849999999999994)\n",
            "Epoch 018/100 | Loss 0.4200 | Win/lose count 14.0/73.75 (-59.75)\n",
            "Epoch 019/100 | Loss 0.3100 | Win/lose count 13.0/63.4 (-50.4)\n",
            "Epoch 020/100 | Loss 0.3900 | Win/lose count 10.0/79.1 (-69.1)\n",
            "Epoch 021/100 | Loss 0.3200 | Win/lose count 16.5/55.15 (-38.65)\n",
            "Epoch 022/100 | Loss 0.6500 | Win/lose count 8.5/86.0 (-77.5)\n",
            "Epoch 023/100 | Loss 0.2700 | Win/lose count 7.0/91.75 (-84.75)\n",
            "Epoch 024/100 | Loss 0.3100 | Win/lose count 8.5/89.1 (-80.6)\n",
            "Epoch 025/100 | Loss 0.3400 | Win/lose count 12.0/68.95 (-56.95)\n",
            "Epoch 026/100 | Loss 0.3000 | Win/lose count 13.0/57.0 (-44.0)\n",
            "Epoch 027/100 | Loss 0.5300 | Win/lose count 10.0/89.85 (-79.85)\n",
            "Epoch 028/100 | Loss 0.4100 | Win/lose count 24.0/39.55 (-15.549999999999997)\n",
            "Epoch 029/100 | Loss 0.2300 | Win/lose count 12.5/64.05 (-51.55)\n",
            "Epoch 030/100 | Loss 0.3400 | Win/lose count 15.0/50.6 (-35.6)\n",
            "Epoch 031/100 | Loss 0.3000 | Win/lose count 20.0/43.5 (-23.5)\n",
            "Epoch 032/100 | Loss 0.2900 | Win/lose count 18.0/45.95 (-27.950000000000003)\n",
            "Epoch 033/100 | Loss 0.3200 | Win/lose count 9.5/89.75 (-80.25)\n",
            "Epoch 034/100 | Loss 0.6200 | Win/lose count 17.0/54.4 (-37.4)\n",
            "Epoch 035/100 | Loss 0.4500 | Win/lose count 13.0/73.15 (-60.150000000000006)\n",
            "Epoch 036/100 | Loss 0.4000 | Win/lose count 19.5/36.3 (-16.799999999999997)\n",
            "Epoch 037/100 | Loss 0.2100 | Win/lose count 21.0/53.05 (-32.05)\n",
            "Epoch 038/100 | Loss 0.3100 | Win/lose count 15.0/72.45 (-57.45)\n",
            "Epoch 039/100 | Loss 0.2800 | Win/lose count 10.0/92.85 (-82.85)\n",
            "Epoch 040/100 | Loss 0.4700 | Win/lose count 15.0/72.45 (-57.45)\n",
            "Epoch 041/100 | Loss 0.3200 | Win/lose count 16.5/47.45 (-30.950000000000003)\n",
            "Epoch 042/100 | Loss 0.3800 | Win/lose count 14.0/80.85 (-66.85)\n",
            "Epoch 043/100 | Loss 0.3600 | Win/lose count 11.5/68.35 (-56.849999999999994)\n",
            "Epoch 044/100 | Loss 0.3800 | Win/lose count 17.0/52.7 (-35.7)\n",
            "Epoch 045/100 | Loss 0.2700 | Win/lose count 18.0/55.85 (-37.85)\n",
            "Epoch 046/100 | Loss 0.4300 | Win/lose count 18.5/53.55 (-35.05)\n",
            "Epoch 047/100 | Loss 0.2700 | Win/lose count 8.5/74.65 (-66.15)\n",
            "Epoch 048/100 | Loss 0.4200 | Win/lose count 13.5/57.0 (-43.5)\n",
            "Epoch 049/100 | Loss 0.2700 | Win/lose count 13.5/53.15 (-39.65)\n",
            "Epoch 050/100 | Loss 0.4600 | Win/lose count 18.0/44.9 (-26.9)\n",
            "Epoch 051/100 | Loss 0.2800 | Win/lose count 21.0/36.35 (-15.350000000000001)\n",
            "Epoch 052/100 | Loss 0.4000 | Win/lose count 13.0/76.2 (-63.2)\n",
            "Epoch 053/100 | Loss 0.3700 | Win/lose count 17.0/59.2 (-42.2)\n",
            "Epoch 054/100 | Loss 0.2700 | Win/lose count 18.0/54.8 (-36.8)\n",
            "Epoch 055/100 | Loss 0.4100 | Win/lose count 8.0/98.35 (-90.35)\n",
            "Epoch 056/100 | Loss 0.2700 | Win/lose count 15.5/55.65 (-40.15)\n",
            "Epoch 057/100 | Loss 0.3100 | Win/lose count 13.5/65.45 (-51.95)\n",
            "Epoch 058/100 | Loss 0.3200 | Win/lose count 17.5/47.5 (-30.0)\n",
            "Epoch 059/100 | Loss 0.2500 | Win/lose count 18.0/61.0 (-43.0)\n",
            "Epoch 060/100 | Loss 0.3700 | Win/lose count 10.0/88.9 (-78.9)\n",
            "Epoch 061/100 | Loss 0.3600 | Win/lose count 16.0/44.8 (-28.799999999999997)\n",
            "Epoch 062/100 | Loss 0.1700 | Win/lose count 16.0/54.35 (-38.35)\n",
            "Epoch 063/100 | Loss 0.4000 | Win/lose count 21.5/46.65 (-25.15)\n",
            "Epoch 064/100 | Loss 0.3700 | Win/lose count 19.0/46.95 (-27.950000000000003)\n",
            "Epoch 065/100 | Loss 0.2300 | Win/lose count 21.0/46.9 (-25.9)\n",
            "Epoch 066/100 | Loss 0.4100 | Win/lose count 17.5/39.9 (-22.4)\n",
            "Epoch 067/100 | Loss 0.2700 | Win/lose count 17.0/50.05 (-33.05)\n",
            "Epoch 068/100 | Loss 0.3700 | Win/lose count 24.0/31.1 (-7.100000000000001)\n",
            "Epoch 069/100 | Loss 0.2900 | Win/lose count 11.0/63.8 (-52.8)\n",
            "Epoch 070/100 | Loss 0.2700 | Win/lose count 13.5/60.15 (-46.65)\n",
            "Epoch 071/100 | Loss 0.2700 | Win/lose count 11.0/66.25 (-55.25)\n",
            "Epoch 072/100 | Loss 0.4600 | Win/lose count 15.5/74.8 (-59.3)\n",
            "Epoch 073/100 | Loss 0.2700 | Win/lose count 13.0/62.7 (-49.7)\n",
            "Epoch 074/100 | Loss 0.1600 | Win/lose count 12.5/51.5 (-39.0)\n",
            "Epoch 075/100 | Loss 0.2400 | Win/lose count 16.5/46.05 (-29.549999999999997)\n",
            "Epoch 076/100 | Loss 0.2900 | Win/lose count 22.5/41.85 (-19.35)\n",
            "Epoch 077/100 | Loss 0.3500 | Win/lose count 22.5/30.45 (-7.949999999999999)\n",
            "Epoch 078/100 | Loss 0.3700 | Win/lose count 22.0/37.85 (-15.850000000000001)\n",
            "Epoch 079/100 | Loss 0.2700 | Win/lose count 26.0/27.6 (-1.6000000000000014)\n",
            "Epoch 080/100 | Loss 0.2500 | Win/lose count 19.5/47.8 (-28.299999999999997)\n",
            "Epoch 081/100 | Loss 0.4000 | Win/lose count 14.5/43.2 (-28.700000000000003)\n",
            "Epoch 082/100 | Loss 0.2300 | Win/lose count 22.5/41.6 (-19.1)\n",
            "Epoch 083/100 | Loss 0.2500 | Win/lose count 17.0/37.7 (-20.700000000000003)\n",
            "Epoch 084/100 | Loss 0.2500 | Win/lose count 15.0/54.35 (-39.35)\n",
            "Epoch 085/100 | Loss 0.3300 | Win/lose count 19.5/43.0 (-23.5)\n",
            "Epoch 086/100 | Loss 0.4000 | Win/lose count 18.5/40.8 (-22.299999999999997)\n",
            "Epoch 087/100 | Loss 0.3000 | Win/lose count 20.5/35.95 (-15.450000000000003)\n",
            "Epoch 088/100 | Loss 0.4200 | Win/lose count 26.0/29.15 (-3.1499999999999986)\n",
            "Epoch 089/100 | Loss 0.2600 | Win/lose count 17.5/49.9 (-32.4)\n",
            "Epoch 090/100 | Loss 0.3700 | Win/lose count 19.0/42.45 (-23.450000000000003)\n",
            "Epoch 091/100 | Loss 0.2300 | Win/lose count 19.5/50.7 (-31.200000000000003)\n",
            "Epoch 092/100 | Loss 0.3100 | Win/lose count 22.0/38.95 (-16.950000000000003)\n",
            "Epoch 093/100 | Loss 0.2600 | Win/lose count 18.5/46.15 (-27.65)\n",
            "Epoch 094/100 | Loss 0.1800 | Win/lose count 24.0/40.5 (-16.5)\n",
            "Epoch 095/100 | Loss 0.4000 | Win/lose count 19.5/45.3 (-25.799999999999997)\n",
            "Epoch 096/100 | Loss 0.2600 | Win/lose count 17.5/43.4 (-25.9)\n",
            "Epoch 097/100 | Loss 0.4700 | Win/lose count 15.5/53.3 (-37.8)\n",
            "Epoch 098/100 | Loss 0.3700 | Win/lose count 17.5/67.1 (-49.599999999999994)\n",
            "Epoch 099/100 | Loss 0.3600 | Win/lose count 18.0/49.1 (-31.1)\n"
          ],
          "name": "stdout"
        },
        {
          "output_type": "execute_result",
          "data": {
            "text/html": [
              "<video alt=\"test\" controls>\n",
              "                <source src=\"data:video/mp4;base64,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\" type=\"video/mp4\" />\n",
              "             </video>"
            ],
            "text/plain": [
              "<IPython.core.display.HTML object>"
            ]
          },
          "metadata": {
            "tags": []
          },
          "execution_count": 101
        }
      ]
    },
    {
      "metadata": {
        "id": "kdCGz2je2LDf",
        "colab_type": "code",
        "outputId": "443486d0-60c3-4cae-b90d-7c5a0af85730",
        "colab": {
          "base_uri": "https://localhost:8080/",
          "height": 481
        }
      },
      "cell_type": "code",
      "source": [
        "# Evaluation\n",
        "test(agent,env,epochs_test,prefix='cnn_test_explore')\n",
        "HTML(display_videos('cnn_test_explore0.mp4'))"
      ],
      "execution_count": 103,
      "outputs": [
        {
          "output_type": "stream",
          "text": [
            "Win/lose count 25.5/4.0. Average score (21.5)\n",
            "Win/lose count 13.5/6.0. Average score (14.5)\n",
            "Win/lose count 26.0/4.0. Average score (17.0)\n",
            "Win/lose count 31.5/2.0. Average score (20.125)\n",
            "Win/lose count 33.5/1.0. Average score (22.6)\n",
            "Win/lose count 27.5/4.0. Average score (22.75)\n",
            "Win/lose count 22.5/5.0. Average score (22.0)\n",
            "Win/lose count 25.5/4.0. Average score (21.9375)\n",
            "Win/lose count 16.5/7.0. Average score (20.555555555555557)\n",
            "Win/lose count 28.0/6.0. Average score (20.7)\n",
            "Final score: 20.7\n"
          ],
          "name": "stdout"
        },
        {
          "output_type": "execute_result",
          "data": {
            "text/html": [
              "<video alt=\"test\" controls>\n",
              "                <source src=\"data:video/mp4;base64,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\" type=\"video/mp4\" />\n",
              "             </video>"
            ],
            "text/plain": [
              "<IPython.core.display.HTML object>"
            ]
          },
          "metadata": {
            "tags": []
          },
          "execution_count": 103
        }
      ]
    },
    {
      "metadata": {
        "id": "XMnW0uAA2LDj",
        "colab_type": "text"
      },
      "cell_type": "markdown",
      "source": [
        "***\n",
        "***\n",
        "__BONUS question__ Use the expert DQN from the previous question to generate some winning games. Train a model that mimicks its behavior. Compare the performances."
      ]
    },
    {
      "metadata": {
        "id": "4qaJIARM2LDk",
        "colab_type": "text"
      },
      "cell_type": "markdown",
      "source": [
        ""
      ]
    },
    {
      "metadata": {
        "id": "r5_H-Vs52LDl",
        "colab_type": "code",
        "colab": {}
      },
      "cell_type": "code",
      "source": [
        ""
      ],
      "execution_count": 0,
      "outputs": []
    },
    {
      "metadata": {
        "id": "TYU_VfH-2LDn",
        "colab_type": "text"
      },
      "cell_type": "markdown",
      "source": [
        "***"
      ]
    }
  ]
}