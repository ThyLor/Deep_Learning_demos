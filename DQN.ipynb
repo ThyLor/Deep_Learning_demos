{
  "nbformat": 4,
  "nbformat_minor": 0,
  "metadata": {
    "colab": {
      "name": "MVA-DQN.ipynb",
      "provenance": [],
      "collapsed_sections": []
    },
    "kernelspec": {
      "display_name": "Python 3",
      "language": "python",
      "name": "python3"
    },
    "language_info": {
      "codemirror_mode": {
        "name": "ipython",
        "version": 3
      },
      "file_extension": ".py",
      "mimetype": "text/x-python",
      "name": "python",
      "nbconvert_exporter": "python",
      "pygments_lexer": "ipython3",
      "version": "3.6.3"
    }
  },
  "cells": [
    {
      "cell_type": "markdown",
      "metadata": {
        "id": "hL3povDC32ee"
      },
      "source": [
        "# Deep reinforcement learning assignment - the game, *eat cheese*"
      ]
    },
    {
      "cell_type": "markdown",
      "metadata": {
        "id": "uL1gTjoB32ee"
      },
      "source": [
        "A rat runs on an island and tries to eat as much as possible. The island is subdivided into $N\\times N$ cells, in which there are cheese (+0.5) and poisonous cells (-1). The rat has a visibility of 2 cells (thus it can see $5^2$ cells). The rat is given a time $T$ to accumulate as much food as possible. It can perform 4 actions: going up, down, left, right. \n",
        "\n",
        "The goal is to code an agent to solve this task that will learn by trial and error. \n",
        "\n",
        "To this end we introduce two main classes:\n",
        "- Environment: an abstract class that represents the states, rewards, and actions to obtain the new state.\n",
        "- Agent: interact with the Environment by proposing actions $a_t$ obtained from a given state $s_t$ to attempt to maximize its __reward__ $r(s_t,a_t)$\n",
        "\n",
        "And we will consider:\n",
        "- a Random Agent\n",
        "- an Agent that acts $\\epsilon$-greedily (Q-value function approximation by means of DQN-learning algorithm, using a full connected NN)\n",
        "- an Agent that acts $\\epsilon$-greedily (Q-value function approximation by means of DQN-learning algorithm, using a CNN to incorporate spatial information)\n",
        "- an Agent that has disincentives to rivisit previous states and that acts $\\epsilon$-greedily $\\epsilon$ with $\\epsilon$ that changes dynamically"
      ]
    },
    {
      "cell_type": "markdown",
      "metadata": {
        "id": "rJoe1YUcE8_B"
      },
      "source": [
        "# Importing librarires"
      ]
    },
    {
      "cell_type": "code",
      "metadata": {
        "colab": {
          "base_uri": "https://localhost:8080/"
        },
        "id": "c7SAnDbl4MY5",
        "outputId": "cb8846cf-f6f5-4475-bdc5-8cd1ced2d04a"
      },
      "source": [
        "!pip install scikit-video\n",
        "!pip install keras\n",
        "!pip install opencv-python"
      ],
      "execution_count": null,
      "outputs": [
        {
          "output_type": "stream",
          "text": [
            "Collecting scikit-video\n",
            "\u001b[?25l  Downloading https://files.pythonhosted.org/packages/b1/a6/c69cad508139a342810ae46e946ebb3256aa6e42f690d901bb68f50582e3/scikit_video-1.1.11-py2.py3-none-any.whl (2.3MB)\n",
            "\u001b[K     |████████████████████████████████| 2.3MB 5.4MB/s \n",
            "\u001b[?25hRequirement already satisfied: numpy in /usr/local/lib/python3.6/dist-packages (from scikit-video) (1.18.5)\n",
            "Requirement already satisfied: scipy in /usr/local/lib/python3.6/dist-packages (from scikit-video) (1.4.1)\n",
            "Requirement already satisfied: pillow in /usr/local/lib/python3.6/dist-packages (from scikit-video) (7.0.0)\n",
            "Installing collected packages: scikit-video\n",
            "Successfully installed scikit-video-1.1.11\n",
            "Requirement already satisfied: keras in /usr/local/lib/python3.6/dist-packages (2.4.3)\n",
            "Requirement already satisfied: pyyaml in /usr/local/lib/python3.6/dist-packages (from keras) (3.13)\n",
            "Requirement already satisfied: scipy>=0.14 in /usr/local/lib/python3.6/dist-packages (from keras) (1.4.1)\n",
            "Requirement already satisfied: numpy>=1.9.1 in /usr/local/lib/python3.6/dist-packages (from keras) (1.18.5)\n",
            "Requirement already satisfied: h5py in /usr/local/lib/python3.6/dist-packages (from keras) (2.10.0)\n",
            "Requirement already satisfied: six in /usr/local/lib/python3.6/dist-packages (from h5py->keras) (1.15.0)\n",
            "Requirement already satisfied: opencv-python in /usr/local/lib/python3.6/dist-packages (4.1.2.30)\n",
            "Requirement already satisfied: numpy>=1.11.3 in /usr/local/lib/python3.6/dist-packages (from opencv-python) (1.18.5)\n"
          ],
          "name": "stdout"
        }
      ]
    },
    {
      "cell_type": "code",
      "metadata": {
        "id": "ESrKyyqR32ee"
      },
      "source": [
        "import keras\n",
        "import numpy as np\n",
        "import scipy\n",
        "import io\n",
        "import base64\n",
        "from IPython.display import HTML\n",
        "import skvideo\n",
        "import skvideo.io\n",
        "import cv2\n",
        "import json\n",
        "from keras.models import Sequential,model_from_json\n",
        "from keras.layers.core import Dense\n",
        "from tensorflow.python.keras.optimizers import *\n",
        "from keras.layers import Conv2D,MaxPooling2D,Activation,AveragePooling2D,Reshape,BatchNormalization,Dropout,Flatten, Convolution2D\n",
        "from keras.utils import np_utils\n",
        "import tensorflow as tf"
      ],
      "execution_count": null,
      "outputs": []
    },
    {
      "cell_type": "markdown",
      "metadata": {
        "id": "W-DkQ02EFG2K"
      },
      "source": [
        "# Defining abstract classes: Environment and Agent"
      ]
    },
    {
      "cell_type": "markdown",
      "metadata": {
        "id": "y0dP2UeJ32ee"
      },
      "source": [
        "***\n",
        "### The Environment"
      ]
    },
    {
      "cell_type": "code",
      "metadata": {
        "id": "fBRJ7t3T32ee"
      },
      "source": [
        "class Environment(object):\n",
        "    def __init__(self, grid_size=10, max_time=500, temperature=0.1):\n",
        "        \"\"\"\n",
        "        board is a matrix whose elements can be 0, +0.5, -1 representing rispectively the presence of nothing, cheese and poisoned cheese.\n",
        "        position is a matrix that contains a one in the current position of the rat.\n",
        "        \"\"\"\n",
        "        grid_size = grid_size+4\n",
        "        self.grid_size = grid_size\n",
        "        self.max_time = max_time\n",
        "        self.temperature = temperature\n",
        "\n",
        "        #board on which one plays\n",
        "        self.board = np.zeros((grid_size,grid_size))\n",
        "        self.position = np.zeros((grid_size,grid_size))\n",
        "\n",
        "        # coordinate of the rat\n",
        "        self.x = 0\n",
        "        self.y = 1\n",
        "\n",
        "        # self time\n",
        "        self.t = 0\n",
        "\n",
        "        self.scale=16\n",
        "\n",
        "        self.to_draw = np.zeros((max_time+2, grid_size*self.scale, grid_size*self.scale, 3))\n",
        "\n",
        "\n",
        "    def draw(self,e):\n",
        "        skvideo.io.vwrite(str(e) + '.mp4', self.to_draw)\n",
        "\n",
        "    def get_frame(self,t):\n",
        "        b = np.zeros((self.grid_size,self.grid_size,3))+128\n",
        "        b[self.board>0,0] = 256\n",
        "        b[self.board<0,2] = 256\n",
        "        b[self.x,self.y,:]= 256\n",
        "        b[-2:,:,:]=0\n",
        "        b[:,-2:,:]=0\n",
        "        b[:2,:,:]=0\n",
        "        b[:,:2,:]=0\n",
        "        \n",
        "        b =  cv2.resize(b, None, fx=self.scale, fy=self.scale, interpolation=cv2.INTER_NEAREST)\n",
        "\n",
        "        self.to_draw[t,:,:,:]=b\n",
        "\n",
        "\n",
        "    def act(self, action, train=True):\n",
        "        \"\"\"This function returns the new state, reward and decides if the\n",
        "        game ends.\"\"\"\n",
        "\n",
        "        self.get_frame(int(self.t))\n",
        "\n",
        "        self.position = np.zeros((self.grid_size, self.grid_size))\n",
        "\n",
        "        self.position[0:2,:]= -1\n",
        "        self.position[:,0:2] = -1\n",
        "        self.position[-2:,:] = -1\n",
        "        self.position[:,-2:] = -1\n",
        "\n",
        "        self.position[self.x, self.y] = 1\n",
        "        if action == 0:\n",
        "            if self.x == self.grid_size-3:\n",
        "                self.x = self.x-1\n",
        "            else:\n",
        "                self.x = self.x + 1\n",
        "        elif action == 1:\n",
        "            if self.x == 2:\n",
        "                self.x = self.x+1\n",
        "            else:\n",
        "                self.x = self.x-1\n",
        "        elif action == 2:\n",
        "            if self.y == self.grid_size - 3:\n",
        "                self.y = self.y - 1\n",
        "            else:\n",
        "                self.y = self.y + 1\n",
        "        elif action == 3:\n",
        "            if self.y == 2:\n",
        "                self.y = self.y + 1\n",
        "            else:\n",
        "                self.y = self.y - 1\n",
        "        else:\n",
        "            RuntimeError('Error: action not recognized')\n",
        "\n",
        "        self.t = self.t + 1\n",
        "        reward = self.board[self.x, self.y]\n",
        "        self.board[self.x, self.y] = 0\n",
        "        game_over = self.t > self.max_time\n",
        "        state = np.concatenate((self.board.reshape(self.grid_size, self.grid_size,1),\n",
        "                        self.position.reshape(self.grid_size, self.grid_size,1)),axis=2)\n",
        "        state = state[self.x-2:self.x+3,self.y-2:self.y+3,:]\n",
        "\n",
        "        return state, reward, game_over, reward\n",
        "\n",
        "    def reset(self):\n",
        "        \"\"\"This function resets the game and returns the initial state\"\"\"\n",
        "\n",
        "        self.x = np.random.randint(3, self.grid_size-3, size=1)[0]\n",
        "        self.y = np.random.randint(3, self.grid_size-3, size=1)[0]\n",
        "\n",
        "\n",
        "        bonus = 0.5*np.random.binomial(1,self.temperature,size=self.grid_size**2)\n",
        "        bonus = bonus.reshape(self.grid_size,self.grid_size)\n",
        "\n",
        "        malus = -1.0*np.random.binomial(1,self.temperature,size=self.grid_size**2)\n",
        "        malus = malus.reshape(self.grid_size, self.grid_size)\n",
        "\n",
        "        self.to_draw = np.zeros((self.max_time+2, self.grid_size*self.scale, self.grid_size*self.scale, 3))\n",
        "\n",
        "\n",
        "        malus[bonus>0]=0\n",
        "\n",
        "        self.board = bonus + malus\n",
        "\n",
        "        self.position = np.zeros((self.grid_size, self.grid_size))\n",
        "        self.position[0:2,:]= -1\n",
        "        self.position[:,0:2] = -1\n",
        "        self.position[-2:,:] = -1\n",
        "        self.position[:,-2:] = -1\n",
        "        self.board[self.x,self.y] = 0\n",
        "        self.t = 0\n",
        "\n",
        "        state = np.concatenate((\n",
        "                               self.board.reshape(self.grid_size, self.grid_size,1),\n",
        "                        self.position.reshape(self.grid_size, self.grid_size,1)),axis=2)\n",
        "\n",
        "        state = state[self.x - 2:self.x + 3, self.y - 2:self.y + 3, :]\n",
        "        return state"
      ],
      "execution_count": null,
      "outputs": []
    },
    {
      "cell_type": "markdown",
      "metadata": {
        "id": "cj9iV_tlCsYQ"
      },
      "source": [
        "# The Agent"
      ]
    },
    {
      "cell_type": "code",
      "metadata": {
        "id": "Fg2Yse2vCroO"
      },
      "source": [
        "class Agent(object):\n",
        "    def __init__(self, epsilon=0.1, n_action=4):\n",
        "        self.epsilon = epsilon\n",
        "        self.n_action = n_action\n",
        "    \n",
        "    def set_epsilon(self,e):\n",
        "        self.epsilon = e\n",
        "\n",
        "    def act(self,s,train=True):\n",
        "        \"\"\" This function should return the next action to do:\n",
        "        an integer between 0 and 4 (not included) with a random exploration of epsilon\"\"\"\n",
        "        if train:\n",
        "            if np.random.rand() <= self.epsilon:\n",
        "                a = np.random.randint(0, self.n_action, size=1)[0]\n",
        "            else:\n",
        "                a = self.learned_act(s)\n",
        "        else: # in some cases, this can improve the performance.. remove it if poor performances\n",
        "            a = self.learned_act(s)\n",
        "\n",
        "        return a\n",
        "\n",
        "    def learned_act(self,s):\n",
        "        \"\"\" Act via the policy of the agent, from a given state s\n",
        "        it proposes an action a\"\"\"\n",
        "        pass\n",
        "\n",
        "    def reinforce(self, s, n_s, a, r, game_over_):\n",
        "        \"\"\" This function is the core of the learning algorithm. \n",
        "        It takes as an input the current state s_, the next state n_s_\n",
        "        the action a_ used to move from s_ to n_s_ and the reward r_.\n",
        "        \n",
        "        Its goal is to learn a policy.\n",
        "        \"\"\"\n",
        "        pass\n",
        "\n",
        "    def save(self):\n",
        "        \"\"\" This function returns basic stats if applicable: the\n",
        "        loss and/or the model\"\"\"\n",
        "        pass\n",
        "\n",
        "    def load(self):\n",
        "        \"\"\" This function allows to restore a model\"\"\"\n",
        "        pass"
      ],
      "execution_count": null,
      "outputs": []
    },
    {
      "cell_type": "markdown",
      "metadata": {
        "id": "fqE7pIXu32ee"
      },
      "source": [
        "# Hyperparameters and utility methods of the Game"
      ]
    },
    {
      "cell_type": "code",
      "metadata": {
        "id": "nheGObaE32ee"
      },
      "source": [
        "# parameters\n",
        "size = 13\n",
        "T=50\n",
        "temperature=0.3\n",
        "epochs_train=10 # set small when debugging\n",
        "epochs_test=10 # set small when debugging\n",
        "\n",
        "# display videos\n",
        "def display_videos(name):\n",
        "    video = io.open(name, 'r+b').read()\n",
        "    encoded = base64.b64encode(video)\n",
        "    return '''<video alt=\"test\" controls>\n",
        "                <source src=\"data:video/mp4;base64,{0}\" type=\"video/mp4\" />\n",
        "             </video>'''.format(encoded.decode('ascii'))"
      ],
      "execution_count": null,
      "outputs": []
    },
    {
      "cell_type": "markdown",
      "metadata": {
        "id": "Z8nr29H_32ee"
      },
      "source": [
        "## A1) Random Agent"
      ]
    },
    {
      "cell_type": "code",
      "metadata": {
        "id": "nh1zA1lE32ee"
      },
      "source": [
        "class RandomAgent(Agent):\n",
        "    def __init__(self):\n",
        "        super(RandomAgent, self).__init__()\n",
        "        pass\n",
        "\n",
        "    def learned_act(self, s):\n",
        "        return np.random.randint(0, 4, size=1)[0]"
      ],
      "execution_count": null,
      "outputs": []
    },
    {
      "cell_type": "code",
      "metadata": {
        "id": "TGLDXDXH32ef"
      },
      "source": [
        "def test(agent,env,epochs,prefix=''):\n",
        "    # Number of won games\n",
        "    score = 0\n",
        "        \n",
        "    for e in range(epochs):\n",
        "        # At each epoch, we restart to a fresh game and get the initial state\n",
        "        state = env.reset()\n",
        "        # This assumes that the games will end\n",
        "        game_over = False\n",
        "\n",
        "        win = 0\n",
        "        lose = 0\n",
        "    \n",
        "        while not game_over:\n",
        "            # The agent performs an action\n",
        "            action = agent.learned_act(state)\n",
        "\n",
        "            # Apply an action to the environment, get the next state, the reward\n",
        "            # and if the games end\n",
        "            state, reward, game_over, reward_1 = env.act(action, False)\n",
        "\n",
        "            # Update the counters\n",
        "            if reward > 0:\n",
        "                win = win + reward\n",
        "            if reward < 0:\n",
        "                lose = lose -reward\n",
        "\n",
        "        ##### FILL IN HERE\n",
        "        \n",
        "        # Save as a mp4\n",
        "        if e % 10 == 0:\n",
        "            env.draw(prefix+str(e))\n",
        "\n",
        "        # Update stats\n",
        "        score = score + win-lose\n",
        "\n",
        "        print(\"Win/lose count {}/{}. Average score ({})\"\n",
        "              .format(win, lose, score/(1+e)))\n",
        "    print('Final score: '+str(score/epochs))"
      ],
      "execution_count": null,
      "outputs": []
    },
    {
      "cell_type": "code",
      "metadata": {
        "colab": {
          "base_uri": "https://localhost:8080/",
          "height": 480
        },
        "id": "p1NM4AWM32ef",
        "scrolled": true,
        "outputId": "58f9c03e-af43-4bf6-b311-8d61f25cb315"
      },
      "source": [
        "# Initialize the game\n",
        "env = Environment(grid_size=size, max_time=T,temperature=temperature)\n",
        "\n",
        "# Initialize the agent!\n",
        "agent = RandomAgent()\n",
        "\n",
        "test(agent,env,epochs_test,prefix='random')\n",
        "HTML(display_videos('random0.mp4'))"
      ],
      "execution_count": null,
      "outputs": [
        {
          "output_type": "stream",
          "text": [
            "Win/lose count 3.5/2.0. Average score (1.5)\n",
            "Win/lose count 3.0/3.0. Average score (0.75)\n",
            "Win/lose count 3.0/2.0. Average score (0.8333333333333334)\n",
            "Win/lose count 1.0/8.0. Average score (-1.125)\n",
            "Win/lose count 3.5/6.0. Average score (-1.4)\n",
            "Win/lose count 4.5/2.0. Average score (-0.75)\n",
            "Win/lose count 4.5/3.0. Average score (-0.42857142857142855)\n",
            "Win/lose count 3.0/6.0. Average score (-0.75)\n",
            "Win/lose count 3.5/5.0. Average score (-0.8333333333333334)\n",
            "Win/lose count 4.5/4.0. Average score (-0.7)\n",
            "Final score: -0.7\n"
          ],
          "name": "stdout"
        },
        {
          "output_type": "execute_result",
          "data": {
            "text/html": [
              "<video alt=\"test\" controls>\n",
              "                <source src=\"data:video/mp4;base64,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\" type=\"video/mp4\" />\n",
              "             </video>"
            ],
            "text/plain": [
              "<IPython.core.display.HTML object>"
            ]
          },
          "metadata": {
            "tags": []
          },
          "execution_count": 9
        }
      ]
    },
    {
      "cell_type": "markdown",
      "metadata": {
        "id": "fQpyMJKW32ef"
      },
      "source": [
        "***\n",
        "## A2) DQN - FC"
      ]
    },
    {
      "cell_type": "markdown",
      "metadata": {
        "id": "lACrajQT32ef"
      },
      "source": [
        "***\n",
        "The DQN-learning algorithm relies on these derivations to train the parameters $\\theta$ of a Deep Neural Network:\n",
        "\n",
        "1. At the state $s_t$, select the action $a_t$ with best reward using $Q_t$ and store the results;\n",
        "\n",
        "2. Obtain the new state $s_{t+1}$ from the environment $p$;\n",
        "\n",
        "3. Store $(s_t,a_t,s_{t+1})$;\n",
        "\n",
        "4. Obtain $Q_{t+1}$ by minimizing  $\\mathcal{L}$ from a recovered batch from the previously stored results."
      ]
    },
    {
      "cell_type": "code",
      "metadata": {
        "id": "-C49lu4c32ef"
      },
      "source": [
        "class Memory(object):\n",
        "     \"\"\"\n",
        "     The Memory class stores moves (in a replay buffer) \n",
        "     via remember and provides a random_access to these.\n",
        "     \"\"\"\n",
        "     def __init__(self, max_memory=100):\n",
        "        self.max_memory = max_memory\n",
        "        self.memory = list()\n",
        "\n",
        "     def remember(self, m):\n",
        "        if(len(self.memory) < self.max_memory):\n",
        "            self.memory.append(m)\n",
        "            self.max_memory += 1\n",
        "        else:\n",
        "            self.memory[np.random.randint(len(self.memory))] = m\n",
        "\n",
        "     def random_access(self):\n",
        "        return self.memory[np.random.randint(len(self.memory))]"
      ],
      "execution_count": null,
      "outputs": []
    },
    {
      "cell_type": "code",
      "metadata": {
        "id": "aSbSkHRE32ef"
      },
      "source": [
        "def train(agent,env,epoch,prefix=''):\n",
        "    # Number of won games\n",
        "    score = 0\n",
        "    loss = 0\n",
        "\n",
        "    for e in range(epoch):\n",
        "        # At each epoch, we restart to a fresh game and get the initial state\n",
        "        state = env.reset()\n",
        "        # This assumes that the games will terminate\n",
        "        game_over = False\n",
        "\n",
        "        win = 0\n",
        "        lose = 0\n",
        "\n",
        "        while not game_over:\n",
        "            # The agent performs an action\n",
        "            \n",
        "            action = agent.act(state)\n",
        "                        \n",
        "            # Apply an action to the environment, get the next state, the reward\n",
        "            # and if the games end\n",
        "            prev_state = state\n",
        "            state, reward, game_over, reward_1 = env.act(action)\n",
        "\n",
        "            # Update the counters\n",
        "            if reward > 0:\n",
        "                win = win + reward\n",
        "            if reward < 0:\n",
        "                lose = lose - reward\n",
        "\n",
        "            # Apply the reinforcement strategy\n",
        "            loss = agent.reinforce(prev_state, state,  action, reward, game_over)\n",
        "\n",
        "        # Save as a mp4\n",
        "        if e % 10 == 0:\n",
        "            env.draw(prefix+str(e))\n",
        "\n",
        "        # Update stats\n",
        "        score += win-lose\n",
        "\n",
        "        print(\"Epoch {:03d}/{:03d} | Loss {:.4f} | Win/lose count {}/{} ({})\"\n",
        "              .format(e, epoch, loss, win, lose, win-lose))\n",
        "        agent.save(name_weights=prefix+'model.h5',name_model=prefix+'model.json')"
      ],
      "execution_count": null,
      "outputs": []
    },
    {
      "cell_type": "code",
      "metadata": {
        "id": "NRHEgseL32ef"
      },
      "source": [
        "class DQN(Agent):\n",
        "    def __init__(self, grid_size,  epsilon = 0.1, memory_size=100, batch_size = 16, n_state=2):\n",
        "        super(DQN, self).__init__(epsilon = epsilon)\n",
        "\n",
        "        # Discount for Q learning\n",
        "        self.discount = 0.99\n",
        "        \n",
        "        self.grid_size = grid_size\n",
        "        \n",
        "        # number of state\n",
        "        self.n_state = n_state\n",
        "\n",
        "        # Memory\n",
        "        self.memory = Memory(memory_size)\n",
        "        \n",
        "        # Batch size when learning\n",
        "        self.batch_size = batch_size\n",
        "\n",
        "    def learned_act(self, s):\n",
        "        pass\n",
        "\n",
        "    def reinforce(self, s_, n_s_, a_, r_, game_over_):\n",
        "        # Two steps: first memorize the states, second learn from the pool\n",
        "\n",
        "        self.memory.remember([s_, n_s_, a_, r_, game_over_])\n",
        "        \n",
        "        input_states = np.zeros((self.batch_size,5,5,self.n_state))\n",
        "        target_q = np.zeros((self.batch_size, 4))\n",
        "        \n",
        "        for i in range(self.batch_size):\n",
        "            ######## FILL IN\n",
        "            \n",
        "            episode = self.memory.random_access()\n",
        "                        \n",
        "            if episode[4]:\n",
        "                ######## FILL IN\n",
        "                input_states[i] = episode[0]\n",
        "                target_q[i,:] = self.model.predict(episode[0].reshape((1,5,5,self.n_state)))\n",
        "                target_q[i,int(episode[2])] = episode[3]\n",
        "            else:\n",
        "                ######## FILL IN\n",
        "                input_states[i] = episode[0]\n",
        "                target_q[i,:] = self.model.predict(episode[0].reshape((1,5,5,self.n_state)))\n",
        "                target_q[i,int(episode[2])] = episode[3] + self.discount*int(np.amax(self.model.predict(episode[1].reshape((1,5,5,self.n_state))))) \n",
        "\n",
        "            \n",
        "        # instead of clipping we use tanh as activation function of the last layer\n",
        "        l = self.model.train_on_batch(input_states, target_q)\n",
        "\n",
        "        return l\n",
        "\n",
        "    def save(self,name_weights='model.h5',name_model='model.json'):\n",
        "        self.model.save_weights(name_weights, overwrite=True)\n",
        "        with open(name_model, \"w\") as outfile:\n",
        "            json.dump(self.model.to_json(), outfile)\n",
        "            \n",
        "    def load(self,name_weights='model.h5',name_model='model.json'):\n",
        "        with open(name_model, \"r\") as jfile:\n",
        "            model = model_from_json(json.load(jfile))\n",
        "        model.load_weights(name_weights)\n",
        "        model.compile(\"sgd\", \"mse\")\n",
        "        model.run_eagerly = True\n",
        "        self.model = model\n",
        "\n",
        "            \n",
        "class DQN_FC(DQN):\n",
        "    def __init__(self, *args, lr=0.1,**kwargs):\n",
        "        super(DQN_FC, self).__init__( *args,**kwargs)\n",
        "        \n",
        "        # NN Model\n",
        "        ####### FILL IN\n",
        "        \n",
        "        model = keras.Sequential()\n",
        "        model.add(Dense(250,activation='relu',input_shape=(5,5,self.n_state)))\n",
        "        model.add(Dense(1000,activation='relu'))\n",
        "        model.add(Dense(25,activation='relu'))\n",
        "        model.add(Flatten())\n",
        "        model.add(Dense(4,activation='tanh'))\n",
        "        opt = tf.keras.optimizers.SGD(learning_rate=0.1, decay=1e-4, momentum=0.0)\n",
        "        model.compile(opt, \"mse\")\n",
        "        model.run_eagerly = True\n",
        "        self.model = model\n",
        "        model.summary()\n",
        "    \n",
        "    def learned_act(self, s):\n",
        "        return np.argmax(self.model.predict(s.reshape((1,5,5,self.n_state))))"
      ],
      "execution_count": null,
      "outputs": []
    },
    {
      "cell_type": "code",
      "metadata": {
        "colab": {
          "base_uri": "https://localhost:8080/",
          "height": 1000
        },
        "id": "xtcTqhEe32ef",
        "scrolled": false,
        "outputId": "ac2dd915-419b-41e9-f614-f1345dbbb596"
      },
      "source": [
        "T = 50\n",
        "epochs_train = 50\n",
        "env = Environment(grid_size=size, max_time=T, temperature=0.3)\n",
        "agent = DQN_FC(size, lr=.1, epsilon = 0.4, memory_size=2000, batch_size = 32, n_state=2)\n",
        "train(agent, env, epochs_train, prefix='fc_train10')\n",
        "HTML(display_videos('fc_train100.mp4'))"
      ],
      "execution_count": null,
      "outputs": [
        {
          "output_type": "stream",
          "text": [
            "Model: \"sequential\"\n",
            "_________________________________________________________________\n",
            "Layer (type)                 Output Shape              Param #   \n",
            "=================================================================\n",
            "dense (Dense)                (None, 5, 5, 250)         750       \n",
            "_________________________________________________________________\n",
            "dense_1 (Dense)              (None, 5, 5, 1000)        251000    \n",
            "_________________________________________________________________\n",
            "dense_2 (Dense)              (None, 5, 5, 25)          25025     \n",
            "_________________________________________________________________\n",
            "flatten (Flatten)            (None, 625)               0         \n",
            "_________________________________________________________________\n",
            "dense_3 (Dense)              (None, 4)                 2504      \n",
            "=================================================================\n",
            "Total params: 279,279\n",
            "Trainable params: 279,279\n",
            "Non-trainable params: 0\n",
            "_________________________________________________________________\n",
            "Epoch 000/050 | Loss 0.0206 | Win/lose count 1.5/6.0 (-4.5)\n",
            "Epoch 001/050 | Loss 0.0271 | Win/lose count 3.5/6.0 (-2.5)\n",
            "Epoch 002/050 | Loss 0.0463 | Win/lose count 4.0/1.0 (3.0)\n",
            "Epoch 003/050 | Loss 0.0212 | Win/lose count 3.5/3.0 (0.5)\n",
            "Epoch 004/050 | Loss 0.0315 | Win/lose count 3.5/4.0 (-0.5)\n",
            "Epoch 005/050 | Loss 0.0289 | Win/lose count 4.0/5.0 (-1.0)\n",
            "Epoch 006/050 | Loss 0.0298 | Win/lose count 1.0/2.0 (-1.0)\n",
            "Epoch 007/050 | Loss 0.0151 | Win/lose count 2.5/0 (2.5)\n",
            "Epoch 008/050 | Loss 0.0093 | Win/lose count 4.5/6.0 (-1.5)\n",
            "Epoch 009/050 | Loss 0.0142 | Win/lose count 4.0/4.0 (0.0)\n",
            "Epoch 010/050 | Loss 0.0197 | Win/lose count 3.5/2.0 (1.5)\n",
            "Epoch 011/050 | Loss 0.0136 | Win/lose count 1.5/1.0 (0.5)\n",
            "Epoch 012/050 | Loss 0.0399 | Win/lose count 5.0/11.0 (-6.0)\n",
            "Epoch 013/050 | Loss 0.0136 | Win/lose count 6.0/1.0 (5.0)\n",
            "Epoch 014/050 | Loss 0.0224 | Win/lose count 1.0/4.0 (-3.0)\n",
            "Epoch 015/050 | Loss 0.0137 | Win/lose count 6.0/1.0 (5.0)\n",
            "Epoch 016/050 | Loss 0.0172 | Win/lose count 5.5/3.0 (2.5)\n",
            "Epoch 017/050 | Loss 0.0237 | Win/lose count 6.0/1.0 (5.0)\n",
            "Epoch 018/050 | Loss 0.0115 | Win/lose count 4.0/4.0 (0.0)\n",
            "Epoch 019/050 | Loss 0.0171 | Win/lose count 5.0/1.0 (4.0)\n",
            "Epoch 020/050 | Loss 0.0108 | Win/lose count 7.5/1.0 (6.5)\n",
            "Epoch 021/050 | Loss 0.0123 | Win/lose count 4.0/0 (4.0)\n",
            "Epoch 022/050 | Loss 0.0029 | Win/lose count 6.0/3.0 (3.0)\n",
            "Epoch 023/050 | Loss 0.0084 | Win/lose count 4.5/3.0 (1.5)\n",
            "Epoch 024/050 | Loss 0.0063 | Win/lose count 2.5/4.0 (-1.5)\n",
            "Epoch 025/050 | Loss 0.0027 | Win/lose count 8.0/4.0 (4.0)\n",
            "Epoch 026/050 | Loss 0.0060 | Win/lose count 7.5/6.0 (1.5)\n",
            "Epoch 027/050 | Loss 0.0062 | Win/lose count 3.5/1.0 (2.5)\n",
            "Epoch 028/050 | Loss 0.0024 | Win/lose count 4.0/0 (4.0)\n",
            "Epoch 029/050 | Loss 0.0024 | Win/lose count 3.5/5.0 (-1.5)\n",
            "Epoch 030/050 | Loss 0.0023 | Win/lose count 6.5/2.0 (4.5)\n",
            "Epoch 031/050 | Loss 0.0035 | Win/lose count 8.0/6.0 (2.0)\n",
            "Epoch 032/050 | Loss 0.0026 | Win/lose count 8.5/5.0 (3.5)\n",
            "Epoch 033/050 | Loss 0.0013 | Win/lose count 4.5/2.0 (2.5)\n",
            "Epoch 034/050 | Loss 0.0008 | Win/lose count 9.0/3.0 (6.0)\n",
            "Epoch 035/050 | Loss 0.0021 | Win/lose count 6.5/2.0 (4.5)\n",
            "Epoch 036/050 | Loss 0.0041 | Win/lose count 7.5/6.0 (1.5)\n",
            "Epoch 037/050 | Loss 0.0019 | Win/lose count 6.5/2.0 (4.5)\n",
            "Epoch 038/050 | Loss 0.0021 | Win/lose count 5.5/1.0 (4.5)\n",
            "Epoch 039/050 | Loss 0.0051 | Win/lose count 5.0/5.0 (0.0)\n",
            "Epoch 040/050 | Loss 0.0009 | Win/lose count 6.0/3.0 (3.0)\n",
            "Epoch 041/050 | Loss 0.0005 | Win/lose count 3.5/5.0 (-1.5)\n",
            "Epoch 042/050 | Loss 0.0044 | Win/lose count 4.0/3.0 (1.0)\n",
            "Epoch 043/050 | Loss 0.0005 | Win/lose count 7.0/2.0 (5.0)\n",
            "Epoch 044/050 | Loss 0.0040 | Win/lose count 5.0/2.0 (3.0)\n",
            "Epoch 045/050 | Loss 0.0042 | Win/lose count 4.0/4.0 (0.0)\n",
            "Epoch 046/050 | Loss 0.0007 | Win/lose count 3.0/3.0 (0.0)\n",
            "Epoch 047/050 | Loss 0.0010 | Win/lose count 3.5/2.0 (1.5)\n",
            "Epoch 048/050 | Loss 0.0016 | Win/lose count 6.0/3.0 (3.0)\n",
            "Epoch 049/050 | Loss 0.0008 | Win/lose count 4.0/1.0 (3.0)\n"
          ],
          "name": "stdout"
        },
        {
          "output_type": "execute_result",
          "data": {
            "text/html": [
              "<video alt=\"test\" controls>\n",
              "                <source src=\"data:video/mp4;base64,AAAAIGZ0eXBpc29tAAACAGlzb21pc28yYXZjMW1wNDEAAAAIZnJlZQAACqFtZGF0AAACrQYF//+p3EXpvebZSLeWLNgg2SPu73gyNjQgLSBjb3JlIDE1MiByMjg1NCBlOWE1OTAzIC0gSC4yNjQvTVBFRy00IEFWQyBjb2RlYyAtIENvcHlsZWZ0IDIwMDMtMjAxNyAtIGh0dHA6Ly93d3cudmlkZW9sYW4ub3JnL3gyNjQuaHRtbCAtIG9wdGlvbnM6IGNhYmFjPTEgcmVmPTMgZGVibG9jaz0xOjA6MCBhbmFseXNlPTB4MToweDExMSBtZT1oZXggc3VibWU9NyBwc3k9MSBwc3lfcmQ9MS4wMDowLjAwIG1peGVkX3JlZj0xIG1lX3JhbmdlPTE2IGNocm9tYV9tZT0xIHRyZWxsaXM9MSA4eDhkY3Q9MCBjcW09MCBkZWFkem9uZT0yMSwxMSBmYXN0X3Bza2lwPTEgY2hyb21hX3FwX29mZnNldD00IHRocmVhZHM9MyBsb29rYWhlYWRfdGhyZWFkcz0xIHNsaWNlZF90aHJlYWRzPTAgbnI9MCBkZWNpbWF0ZT0xIGludGVybGFjZWQ9MCBibHVyYXlfY29tcGF0PTAgY29uc3RyYWluZWRfaW50cmE9MCBiZnJhbWVzPTMgYl9weXJhbWlkPTIgYl9hZGFwdD0xIGJfYmlhcz0wIGRpcmVjdD0xIHdlaWdodGI9MSBvcGVuX2dvcD0wIHdlaWdodHA9MiBrZXlpbnQ9MjUwIGtleWludF9taW49MjUgc2NlbmVjdXQ9NDAgaW50cmFfcmVmcmVzaD0wIHJjX2xvb2thaGVhZD00MCByYz1jcmYgbWJ0cmVlPTEgY3JmPTIzLjAgcWNvbXA9MC42MCBxcG1pbj0wIHFwbWF4PTY5IHFwc3RlcD00IGlwX3JhdGlvPTEuNDAgYXE9MToxLjAwAIAAAAMLZYiEADf//vaH+BTZWBP+Wb/9DX/cj9uPrP1xYyEE31qvIejAGS+1H+b/rFFs6Z6UB/fgCJQAc24ZwpJw4v/ApLdW+BTLYTnE+Uwo5XT/KBbJHQMxCOjSmWlprSxpNyE+JOjrB7dwUkkTZD2L4QJY02vUoFzAvsulgXaCO0JMz60KFMQAEmsGfRp4/xIKJaJnq5QLDmEh88+yJeNpGVrJZAdDSn1Zcn87wTdsXMdWD9qjIypSxHV97n7hbrqMlYID0m0BYGjhih6Ig5klNlgryIeE7PzkzttU8a7K5IeR0xKQVoKQ68rVv8hmgLMbBink1pDcEzJN5rx7X0kTiCwlcNcHEST8ryEiryzFXVOTiVWGv7hLn52F2pIjsLi6LNjYQ+ErQrjc+o4DqnJKlj+0n5R8w7qEv55JYrqPCRZrPkAWq2+KW2nTEN2C80v0TkUgVVACvmqiBHyLmHfExkZv7u15m73CEECuwZIlQpk6tlmL+SqpoX9lkZAGnLf82UkcNcsXTKjbwNW4jqOcer9gcdphDdf+88YPVRUdkGpVOX1CipEew07YrX/l3AAMH92nIETgc5W31I9QJ+Sw29WKHvg2qTw199U2mO9Y92QDLvDWLik4K8v4/b+PW58pX2RTGwo8E/CJbLVFC1e28HgWMDXUmCfB5WcF+eZxHCLegPhoMyuKiye2dHj/UpkpTfBGKMm8H9l0+hFOSGZy85Iz0TF667LnKeJtUk0SdZ9O7r5G8JQ4EDntqwEXtU39VmTUozxwLVGIdYsrIOS7IMbJqzgPanhxhGQvFxenyqP/2MorzLTeUYcvatHBMUYNXb8jsgdwttTSBdhtAo3URHqCRiq11QFxUwuJkjllx3nM2JKbhHwZ7KIMsDjunkeSo+WLaF4fOgHKHzRFyYA6fKv2340QU8YQmPgHt8KW4hd7zWXI/j4fxWtcCV0txKWT6njwbTL3J7CWg3SoOzkuugEB0mU3i0pl6tWM/M0x4yABOc32AxuKRIoJ2KxPd9wYWIjsZjaboD9jEXAANuEAAAAWQZokbEM//p4QAaV964jn9I7+/pfhQAAAAA5BnkJ4hf8AP41Y5QKNsQAAABgBnmF0Qr8AOtaFzwlKn//EIDkn/yyrXFgAAAAQAZ5jakK/AFisiE3GfXpxOQAAABlBmmVJqEFomUwIb//+p4QAbH2D17M+CK9BAAAAGEGah0nhClJlMFESw3/+p4QAQ76OfiapgQAAAA8BnqZqQr8AVnlYF1/f68EAAAAbQZqpSeEOiZTBRMM//p4QAZ339/UOVkfWl+PAAAAAEAGeyGpCvwBYqUbzTFW0nuAAAAAZQZrKSeEPJlMCG//+p4QARb46fUcaEhxgQQAAABhBmutJ4Q8mUwIb//6nhAAtnupx/h9W3BMAAAARQZsPSeEPJlMCGf/+nhAABHwAAAAMQZ8tRRE8L/8AALKBAAAADwGfTHRCvwAjSpHEdl2WSQAAAA8Bn05qQr8AI0qRus9WfC8AAAAaQZtQSahBaJlMCGf//p4QAK17wP/Wjl7nH9IAAAAaQZtxSeEKUmUwIb/+p4QAK18fo5egrWZTX8wAAAAaQZuSSeEOiZTAhv/+p4QAP2cZ/qt9VlH4jPkAAAAYQZu0SeEPJlMFETw3//6nhAA+XsH+XheAAAAAEAGf02pCvwA00NLtnyX/X8gAAAAWQZvYSeEPJlMCG//+p4QAQb46fa7PgQAAAA5Bn/ZFETwv/wAn1AQb0AAAABEBnhV0Qr8ANMoQi3KKX/X8gQAAABABnhdqQr8ANgCxr6oOnmF5AAAAEkGaGkmoQWiZTBTw3/6nhAABJwAAABABnjlqQr8ANDqJyBkbRfyBAAAAEkGaPEnhClJlMFLDf/6nhAABJwAAABABnltqQr8ANDqJyBkbRfyBAAAAEkGaXknhDomUwUTDP/6eEAAEfQAAABABnn1qQr8ANDqJyBkbRfyAAAAAGUGaf0nhDyZTAhn//p4QAPl8JH8ZcmyrdegAAAAYQZqASeEPJlMCGf/+nhAA8/r7+RIj6wm9AAAAGUGaoUnhDyZTAhv//qeEACke6n6jjQkOUkAAAAAZQZrCSeEPJlMCG//+p4QAGvdWkEIn+W5lgQAAABZBmuZJ4Q8mUwIb//6nhAAbv2D/L22AAAAADkGfBEURPC//ABBaAFlhAAAADwGfI3RCvwAWu0d0dt8LfwAAAA8BnyVqQr8AFrUaILUeXr0AAAAaQZsnSahBaJlMCG///qeEACn+if6rfMfiUEEAAAAcQZtLSeEKUmUwIb/+p4QAQUfM1Nm3Gb3hpX7oBwAAABVBn2lFNEwv/wAn1Bs29+uNiJz4NxAAAAAQAZ+IdEK/ADTWVdyGypSX4QAAABABn4pqQr8ANg6p5LmfJSuAAAAAGUGbjEmoQWiZTAhv//6nhABBvjpj/D6tt3kAAAARQZuwSeEKUmUwIZ/+nhAABH0AAAAMQZ/ORTRML/8AALKBAAAAEAGf7XRCvwA0OonPcJFWG4EAAAAQAZ/vakK/ADYAsa+qDp5heAAAABpBm/NLqEIQWiRGCCgH8gH9h4AhX/44QAARcAAAACdBnhFFESwr/wKvY+1BxN2qw0km5aqGByy1vOFT9Va7Z8EZR1WnwRkAAAAiAZ4yakK/Aq9j7UHE3arDSSblqoYHLLW84cVY9GAfxBmDUwAABUhtb292AAAAbG12aGQAAAAAAAAAAAAAAAAAAAPoAAAIIAABAAABAAAAAAAAAAAAAAAAAQAAAAAAAAAAAAAAAAAAAAEAAAAAAAAAAAAAAAAAAEAAAAAAAAAAAAAAAAAAAAAAAAAAAAAAAAAAAAAAAAACAAAEcnRyYWsAAABcdGtoZAAAAAMAAAAAAAAAAAAAAAEAAAAAAAAIIAAAAAAAAAAAAAAAAAAAAAAAAQAAAAAAAAAAAAAAAAAAAAEAAAAAAAAAAAAAAAAAAEAAAAABEAAAARAAAAAAACRlZHRzAAAAHGVsc3QAAAAAAAAAAQAACCAAAAQAAAEAAAAAA+ptZGlhAAAAIG1kaGQAAAAAAAAAAAAAAAAAADIAAABoAFXEAAAAAAAtaGRscgAAAAAAAAAAdmlkZQAAAAAAAAAAAAAAAFZpZGVvSGFuZGxlcgAAAAOVbWluZgAAABR2bWhkAAAAAQAAAAAAAAAAAAAAJGRpbmYAAAAcZHJlZgAAAAAAAAABAAAADHVybCAAAAABAAADVXN0YmwAAACVc3RzZAAAAAAAAAABAAAAhWF2YzEAAAAAAAAAAQAAAAAAAAAAAAAAAAAAAAABEAEQAEgAAABIAAAAAAAAAAEAAAAAAAAAAAAAAAAAAAAAAAAAAAAAAAAAAAAAAAAAAAAY//8AAAAvYXZjQwH0AA3/4QAXZ/QADZGbKCIR0IAAAAMAgAAAGQeKFMsBAAVo6+PESAAAABhzdHRzAAAAAAAAAAEAAAA0AAACAAAAABRzdHNzAAAAAAAAAAEAAAABAAABeGN0dHMAAAAAAAAALQAAAAEAAAQAAAAAAQAACgAAAAABAAAEAAAAAAEAAAAAAAAAAQAAAgAAAAABAAAEAAAAAAEAAAYAAAAAAQAAAgAAAAABAAAGAAAAAAEAAAIAAAAAAgAABAAAAAABAAAKAAAAAAEAAAQAAAAAAQAAAAAAAAABAAACAAAAAAMAAAQAAAAAAQAABgAAAAABAAACAAAAAAEAAAoAAAAAAQAABAAAAAABAAAAAAAAAAEAAAIAAAAAAQAABgAAAAABAAACAAAAAAEAAAYAAAAAAQAAAgAAAAABAAAGAAAAAAEAAAIAAAAABAAABAAAAAABAAAKAAAAAAEAAAQAAAAAAQAAAAAAAAABAAACAAAAAAEAAAQAAAAAAQAACgAAAAABAAAEAAAAAAEAAAAAAAAAAQAAAgAAAAABAAAEAAAAAAEAAAoAAAAAAQAABAAAAAABAAAAAAAAAAEAAAIAAAAAAQAACAAAAAACAAACAAAAABxzdHNjAAAAAAAAAAEAAAABAAAANAAAAAEAAADkc3RzegAAAAAAAAAAAAAANAAABcAAAAAaAAAAEgAAABwAAAAUAAAAHQAAABwAAAATAAAAHwAAABQAAAAdAAAAHAAAABUAAAAQAAAAEwAAABMAAAAeAAAAHgAAAB4AAAAcAAAAFAAAABoAAAASAAAAFQAAABQAAAAWAAAAFAAAABYAAAAUAAAAFgAAABQAAAAdAAAAHAAAAB0AAAAdAAAAGgAAABIAAAATAAAAEwAAAB4AAAAgAAAAGQAAABQAAAAUAAAAHQAAABUAAAAQAAAAFAAAABQAAAAeAAAAKwAAACYAAAAUc3RjbwAAAAAAAAABAAAAMAAAAGJ1ZHRhAAAAWm1ldGEAAAAAAAAAIWhkbHIAAAAAAAAAAG1kaXJhcHBsAAAAAAAAAAAAAAAALWlsc3QAAAAlqXRvbwAAAB1kYXRhAAAAAQAAAABMYXZmNTcuODMuMTAw\" type=\"video/mp4\" />\n",
              "             </video>"
            ],
            "text/plain": [
              "<IPython.core.display.HTML object>"
            ]
          },
          "metadata": {
            "tags": []
          },
          "execution_count": 13
        }
      ]
    },
    {
      "cell_type": "markdown",
      "metadata": {
        "id": "L6MQJG95JUpq"
      },
      "source": [
        "***\n",
        "## A3) DQN - CNN"
      ]
    },
    {
      "cell_type": "code",
      "metadata": {
        "id": "k_SSeLwq32ef"
      },
      "source": [
        "class DQN_CNN(DQN):\n",
        "    def __init__(self, *args,lr=0.1,**kwargs):\n",
        "        super(DQN_CNN, self).__init__(*args,**kwargs)\n",
        "        \n",
        "        ###### FILL IN\n",
        "        \n",
        "        nb_actions = 4\n",
        "        model = Sequential()\n",
        "        model.add(Convolution2D(32, (2, 2), input_shape=(5,5,self.n_state))) \n",
        "        model.add(Convolution2D(64, (2, 2))) \n",
        "        model.add(Flatten())\n",
        "        model.add(Dense(1024))\n",
        "        model.add(Activation('relu'))\n",
        "        model.add(Dense(nb_actions))\n",
        "        model.add(Activation('tanh')) \n",
        "        opt = tf.keras.optimizers.SGD(learning_rate=0.1, decay=1e-4, momentum=0.0)\n",
        "        model.compile(opt, \"mse\")\n",
        "        self.model = model\n",
        "        model.summary()\n",
        "        \n",
        "    def learned_act(self, s):\n",
        "        return np.argmax(self.model.predict(s.reshape((1,5,5,self.n_state))))"
      ],
      "execution_count": null,
      "outputs": []
    },
    {
      "cell_type": "code",
      "metadata": {
        "colab": {
          "background_save": true,
          "base_uri": "https://localhost:8080/"
        },
        "id": "7Rlm5t3U32ef",
        "outputId": "49701036-3efc-4b78-ef07-f3463031c3c0"
      },
      "source": [
        "T = 50\n",
        "epochs_train = 50\n",
        "\n",
        "env = Environment(grid_size=size, max_time=T, temperature=0.3)\n",
        "agent = DQN_CNN(size, lr=.1, epsilon = 0.4, memory_size=2000, batch_size = 32, n_state=2)\n",
        "train(agent,env,epochs_train,prefix='cnn_train')\n",
        "HTML(display_videos('cnn_train0.mp4'))"
      ],
      "execution_count": null,
      "outputs": [
        {
          "output_type": "stream",
          "text": [
            "Model: \"sequential\"\n",
            "_________________________________________________________________\n",
            "Layer (type)                 Output Shape              Param #   \n",
            "=================================================================\n",
            "conv2d (Conv2D)              (None, 4, 4, 32)          288       \n",
            "_________________________________________________________________\n",
            "conv2d_1 (Conv2D)            (None, 3, 3, 64)          8256      \n",
            "_________________________________________________________________\n",
            "flatten (Flatten)            (None, 576)               0         \n",
            "_________________________________________________________________\n",
            "dense (Dense)                (None, 1024)              590848    \n",
            "_________________________________________________________________\n",
            "activation (Activation)      (None, 1024)              0         \n",
            "_________________________________________________________________\n",
            "dense_1 (Dense)              (None, 4)                 4100      \n",
            "_________________________________________________________________\n",
            "activation_1 (Activation)    (None, 4)                 0         \n",
            "=================================================================\n",
            "Total params: 603,492\n",
            "Trainable params: 603,492\n",
            "Non-trainable params: 0\n",
            "_________________________________________________________________\n",
            "Epoch 000/050 | Loss 0.0092 | Win/lose count 7.0/3.0 (4.0)\n",
            "Epoch 001/050 | Loss 0.0143 | Win/lose count 6.0/3.0 (3.0)\n",
            "Epoch 002/050 | Loss 0.0046 | Win/lose count 6.0/1.0 (5.0)\n",
            "Epoch 003/050 | Loss 0.0044 | Win/lose count 5.5/6.0 (-0.5)\n",
            "Epoch 004/050 | Loss 0.0057 | Win/lose count 0.5/3.0 (-2.5)\n",
            "Epoch 005/050 | Loss 0.0067 | Win/lose count 6.5/2.0 (4.5)\n",
            "Epoch 006/050 | Loss 0.0054 | Win/lose count 8.0/2.0 (6.0)\n",
            "Epoch 007/050 | Loss 0.0057 | Win/lose count 6.5/5.0 (1.5)\n",
            "Epoch 008/050 | Loss 0.0095 | Win/lose count 7.0/5.0 (2.0)\n",
            "Epoch 009/050 | Loss 0.0173 | Win/lose count 4.5/2.0 (2.5)\n",
            "Epoch 010/050 | Loss 0.0171 | Win/lose count 8.0/1.0 (7.0)\n",
            "Epoch 011/050 | Loss 0.0034 | Win/lose count 5.5/5.0 (0.5)\n",
            "Epoch 012/050 | Loss 0.0032 | Win/lose count 10.0/1.0 (9.0)\n",
            "Epoch 013/050 | Loss 0.0024 | Win/lose count 3.5/3.0 (0.5)\n",
            "Epoch 014/050 | Loss 0.0023 | Win/lose count 6.0/3.0 (3.0)\n",
            "Epoch 015/050 | Loss 0.0022 | Win/lose count 7.0/3.0 (4.0)\n",
            "Epoch 016/050 | Loss 0.0013 | Win/lose count 10.0/2.0 (8.0)\n",
            "Epoch 017/050 | Loss 0.0030 | Win/lose count 11.0/6.0 (5.0)\n",
            "Epoch 018/050 | Loss 0.0041 | Win/lose count 5.5/2.0 (3.5)\n",
            "Epoch 019/050 | Loss 0.0006 | Win/lose count 5.5/1.0 (4.5)\n",
            "Epoch 020/050 | Loss 0.0020 | Win/lose count 9.0/2.0 (7.0)\n",
            "Epoch 021/050 | Loss 0.0004 | Win/lose count 7.5/1.0 (6.5)\n",
            "Epoch 022/050 | Loss 0.0009 | Win/lose count 11.5/4.0 (7.5)\n",
            "Epoch 023/050 | Loss 0.0028 | Win/lose count 3.5/4.0 (-0.5)\n",
            "Epoch 024/050 | Loss 0.0072 | Win/lose count 4.5/2.0 (2.5)\n",
            "Epoch 025/050 | Loss 0.0015 | Win/lose count 10.0/2.0 (8.0)\n",
            "Epoch 026/050 | Loss 0.0017 | Win/lose count 7.5/2.0 (5.5)\n",
            "Epoch 027/050 | Loss 0.0011 | Win/lose count 2.0/1.0 (1.0)\n",
            "Epoch 028/050 | Loss 0.0018 | Win/lose count 7.0/5.0 (2.0)\n",
            "Epoch 029/050 | Loss 0.0027 | Win/lose count 5.0/1.0 (4.0)\n",
            "Epoch 030/050 | Loss 0.0006 | Win/lose count 6.5/2.0 (4.5)\n",
            "Epoch 031/050 | Loss 0.0009 | Win/lose count 2.5/3.0 (-0.5)\n",
            "Epoch 032/050 | Loss 0.0010 | Win/lose count 2.5/1.0 (1.5)\n",
            "Epoch 033/050 | Loss 0.0043 | Win/lose count 5.5/7.0 (-1.5)\n",
            "Epoch 034/050 | Loss 0.0005 | Win/lose count 5.5/4.0 (1.5)\n",
            "Epoch 035/050 | Loss 0.0012 | Win/lose count 8.5/3.0 (5.5)\n",
            "Epoch 036/050 | Loss 0.0046 | Win/lose count 11.5/4.0 (7.5)\n",
            "Epoch 037/050 | Loss 0.0021 | Win/lose count 2.5/2.0 (0.5)\n",
            "Epoch 038/050 | Loss 0.0028 | Win/lose count 11.5/5.0 (6.5)\n",
            "Epoch 039/050 | Loss 0.0035 | Win/lose count 8.0/2.0 (6.0)\n",
            "Epoch 040/050 | Loss 0.0021 | Win/lose count 7.5/5.0 (2.5)\n",
            "Epoch 041/050 | Loss 0.0013 | Win/lose count 7.5/3.0 (4.5)\n",
            "Epoch 042/050 | Loss 0.0009 | Win/lose count 3.5/1.0 (2.5)\n",
            "Epoch 043/050 | Loss 0.0005 | Win/lose count 6.5/6.0 (0.5)\n",
            "Epoch 044/050 | Loss 0.0010 | Win/lose count 2.0/4.0 (-2.0)\n",
            "Epoch 045/050 | Loss 0.0004 | Win/lose count 6.0/3.0 (3.0)\n",
            "Epoch 046/050 | Loss 0.0007 | Win/lose count 3.0/3.0 (0.0)\n",
            "Epoch 047/050 | Loss 0.0038 | Win/lose count 8.5/3.0 (5.5)\n",
            "Epoch 048/050 | Loss 0.0006 | Win/lose count 2.0/1.0 (1.0)\n",
            "Epoch 049/050 | Loss 0.0012 | Win/lose count 7.0/2.0 (5.0)\n"
          ],
          "name": "stdout"
        },
        {
          "output_type": "execute_result",
          "data": {
            "text/html": [
              "<video alt=\"test\" controls>\n",
              "                <source src=\"data:video/mp4;base64,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\" type=\"video/mp4\" />\n",
              "             </video>"
            ],
            "text/plain": [
              "<IPython.core.display.HTML object>"
            ]
          },
          "metadata": {
            "tags": []
          },
          "execution_count": 0
        }
      ]
    },
    {
      "cell_type": "markdown",
      "metadata": {
        "id": "7kL5O6soKWjY"
      },
      "source": [
        "# A comparison - DQN FC VS DQN CNN"
      ]
    },
    {
      "cell_type": "code",
      "metadata": {
        "colab": {
          "background_save": true
        },
        "id": "ASPceQwS32ef",
        "outputId": "10bb9b52-1934-46ca-bdad-e1680c0f8518"
      },
      "source": [
        "env = Environment(grid_size=size, max_time=T,temperature=0.3)\n",
        "agent_cnn = DQN_CNN(size, lr=.1, epsilon = 0.1, memory_size=2000, batch_size = 32)\n",
        "agent_cnn.load(name_weights='cnn_trainmodel.h5',name_model='cnn_trainmodel.json')\n",
        "\n",
        "agent_fc = DQN_FC(size, lr=.1, epsilon = 0.1, memory_size=2000, batch_size = 32)\n",
        "agent_cnn.load(name_weights='fc_trainmodel.h5',name_model='fc_trainmodel.json')\n",
        "print('Test of the CNN')\n",
        "test(agent_cnn,env,epochs_test,prefix='cnn_test')\n",
        "print('Test of the FC')\n",
        "test(agent_fc,env,epochs_test,prefix='fc_test')"
      ],
      "execution_count": null,
      "outputs": [
        {
          "output_type": "stream",
          "text": [
            "Model: \"sequential_1\"\n",
            "_________________________________________________________________\n",
            "Layer (type)                 Output Shape              Param #   \n",
            "=================================================================\n",
            "conv2d_2 (Conv2D)            (None, 4, 4, 32)          288       \n",
            "_________________________________________________________________\n",
            "conv2d_3 (Conv2D)            (None, 3, 3, 64)          8256      \n",
            "_________________________________________________________________\n",
            "flatten_1 (Flatten)          (None, 576)               0         \n",
            "_________________________________________________________________\n",
            "dense_2 (Dense)              (None, 1024)              590848    \n",
            "_________________________________________________________________\n",
            "activation_2 (Activation)    (None, 1024)              0         \n",
            "_________________________________________________________________\n",
            "dense_3 (Dense)              (None, 4)                 4100      \n",
            "_________________________________________________________________\n",
            "activation_3 (Activation)    (None, 4)                 0         \n",
            "=================================================================\n",
            "Total params: 603,492\n",
            "Trainable params: 603,492\n",
            "Non-trainable params: 0\n",
            "_________________________________________________________________\n",
            "Model: \"sequential_2\"\n",
            "_________________________________________________________________\n",
            "Layer (type)                 Output Shape              Param #   \n",
            "=================================================================\n",
            "dense_4 (Dense)              (None, 5, 5, 250)         750       \n",
            "_________________________________________________________________\n",
            "dense_5 (Dense)              (None, 5, 5, 1000)        251000    \n",
            "_________________________________________________________________\n",
            "dense_6 (Dense)              (None, 5, 5, 25)          25025     \n",
            "_________________________________________________________________\n",
            "flatten_2 (Flatten)          (None, 625)               0         \n",
            "_________________________________________________________________\n",
            "dense_7 (Dense)              (None, 4)                 2504      \n",
            "=================================================================\n",
            "Total params: 279,279\n",
            "Trainable params: 279,279\n",
            "Non-trainable params: 0\n",
            "_________________________________________________________________\n"
          ],
          "name": "stdout"
        },
        {
          "output_type": "error",
          "ename": "FileNotFoundError",
          "evalue": "ignored",
          "traceback": [
            "\u001b[0;31m---------------------------------------------------------------------------\u001b[0m",
            "\u001b[0;31mFileNotFoundError\u001b[0m                         Traceback (most recent call last)",
            "\u001b[0;32m<ipython-input-15-8f72a2c081d4>\u001b[0m in \u001b[0;36m<module>\u001b[0;34m()\u001b[0m\n\u001b[1;32m      4\u001b[0m \u001b[0;34m\u001b[0m\u001b[0m\n\u001b[1;32m      5\u001b[0m \u001b[0magent_fc\u001b[0m \u001b[0;34m=\u001b[0m \u001b[0mDQN_FC\u001b[0m\u001b[0;34m(\u001b[0m\u001b[0msize\u001b[0m\u001b[0;34m,\u001b[0m \u001b[0mlr\u001b[0m\u001b[0;34m=\u001b[0m\u001b[0;36m.1\u001b[0m\u001b[0;34m,\u001b[0m \u001b[0mepsilon\u001b[0m \u001b[0;34m=\u001b[0m \u001b[0;36m0.1\u001b[0m\u001b[0;34m,\u001b[0m \u001b[0mmemory_size\u001b[0m\u001b[0;34m=\u001b[0m\u001b[0;36m2000\u001b[0m\u001b[0;34m,\u001b[0m \u001b[0mbatch_size\u001b[0m \u001b[0;34m=\u001b[0m \u001b[0;36m32\u001b[0m\u001b[0;34m)\u001b[0m\u001b[0;34m\u001b[0m\u001b[0;34m\u001b[0m\u001b[0m\n\u001b[0;32m----> 6\u001b[0;31m \u001b[0magent_cnn\u001b[0m\u001b[0;34m.\u001b[0m\u001b[0mload\u001b[0m\u001b[0;34m(\u001b[0m\u001b[0mname_weights\u001b[0m\u001b[0;34m=\u001b[0m\u001b[0;34m'fc_trainmodel.h5'\u001b[0m\u001b[0;34m,\u001b[0m\u001b[0mname_model\u001b[0m\u001b[0;34m=\u001b[0m\u001b[0;34m'fc_trainmodel.json'\u001b[0m\u001b[0;34m)\u001b[0m\u001b[0;34m\u001b[0m\u001b[0;34m\u001b[0m\u001b[0m\n\u001b[0m\u001b[1;32m      7\u001b[0m \u001b[0mprint\u001b[0m\u001b[0;34m(\u001b[0m\u001b[0;34m'Test of the CNN'\u001b[0m\u001b[0;34m)\u001b[0m\u001b[0;34m\u001b[0m\u001b[0;34m\u001b[0m\u001b[0m\n\u001b[1;32m      8\u001b[0m \u001b[0mtest\u001b[0m\u001b[0;34m(\u001b[0m\u001b[0magent_cnn\u001b[0m\u001b[0;34m,\u001b[0m\u001b[0menv\u001b[0m\u001b[0;34m,\u001b[0m\u001b[0mepochs_test\u001b[0m\u001b[0;34m,\u001b[0m\u001b[0mprefix\u001b[0m\u001b[0;34m=\u001b[0m\u001b[0;34m'cnn_test'\u001b[0m\u001b[0;34m)\u001b[0m\u001b[0;34m\u001b[0m\u001b[0;34m\u001b[0m\u001b[0m\n",
            "\u001b[0;32m<ipython-input-12-625aa18bfedd>\u001b[0m in \u001b[0;36mload\u001b[0;34m(self, name_weights, name_model)\u001b[0m\n\u001b[1;32m     56\u001b[0m \u001b[0;34m\u001b[0m\u001b[0m\n\u001b[1;32m     57\u001b[0m     \u001b[0;32mdef\u001b[0m \u001b[0mload\u001b[0m\u001b[0;34m(\u001b[0m\u001b[0mself\u001b[0m\u001b[0;34m,\u001b[0m\u001b[0mname_weights\u001b[0m\u001b[0;34m=\u001b[0m\u001b[0;34m'model.h5'\u001b[0m\u001b[0;34m,\u001b[0m\u001b[0mname_model\u001b[0m\u001b[0;34m=\u001b[0m\u001b[0;34m'model.json'\u001b[0m\u001b[0;34m)\u001b[0m\u001b[0;34m:\u001b[0m\u001b[0;34m\u001b[0m\u001b[0;34m\u001b[0m\u001b[0m\n\u001b[0;32m---> 58\u001b[0;31m         \u001b[0;32mwith\u001b[0m \u001b[0mopen\u001b[0m\u001b[0;34m(\u001b[0m\u001b[0mname_model\u001b[0m\u001b[0;34m,\u001b[0m \u001b[0;34m\"r\"\u001b[0m\u001b[0;34m)\u001b[0m \u001b[0;32mas\u001b[0m \u001b[0mjfile\u001b[0m\u001b[0;34m:\u001b[0m\u001b[0;34m\u001b[0m\u001b[0;34m\u001b[0m\u001b[0m\n\u001b[0m\u001b[1;32m     59\u001b[0m             \u001b[0mmodel\u001b[0m \u001b[0;34m=\u001b[0m \u001b[0mmodel_from_json\u001b[0m\u001b[0;34m(\u001b[0m\u001b[0mjson\u001b[0m\u001b[0;34m.\u001b[0m\u001b[0mload\u001b[0m\u001b[0;34m(\u001b[0m\u001b[0mjfile\u001b[0m\u001b[0;34m)\u001b[0m\u001b[0;34m)\u001b[0m\u001b[0;34m\u001b[0m\u001b[0;34m\u001b[0m\u001b[0m\n\u001b[1;32m     60\u001b[0m         \u001b[0mmodel\u001b[0m\u001b[0;34m.\u001b[0m\u001b[0mload_weights\u001b[0m\u001b[0;34m(\u001b[0m\u001b[0mname_weights\u001b[0m\u001b[0;34m)\u001b[0m\u001b[0;34m\u001b[0m\u001b[0;34m\u001b[0m\u001b[0m\n",
            "\u001b[0;31mFileNotFoundError\u001b[0m: [Errno 2] No such file or directory: 'fc_trainmodel.json'"
          ]
        }
      ]
    },
    {
      "cell_type": "code",
      "metadata": {
        "id": "4cj00NTJ32ef"
      },
      "source": [
        "HTML(display_videos('cnn_test0.mp4'))"
      ],
      "execution_count": null,
      "outputs": []
    },
    {
      "cell_type": "code",
      "metadata": {
        "id": "QA1eBb2s32ef"
      },
      "source": [
        "HTML(display_videos('fc_test0.mp4'))"
      ],
      "execution_count": null,
      "outputs": []
    },
    {
      "cell_type": "markdown",
      "metadata": {
        "id": "QaVDThGnKODy"
      },
      "source": [
        "### Some considerations:\n",
        "\n",
        "Temperature at 0.4. \n",
        "During the training: with the first network the agent does not explore very well the map and often turns around the initial position. Conersely, with the convolutional network the agent better explores the map but still tends to rivisit many times some cells. in In both cases, during the testing the agent starts oscillating from the beginning.\n",
        "\n",
        "Temperature at 0.8. \n",
        "During the training, in both cases the agent better explores the map since it can follow a path made by only red cases. During the testing, in both cases the agent explores just few cases before starting oscillating.\n",
        "\n",
        "Temperature at 0.2. \n",
        "During the training procedure we observe the agent's behaviour is very similar to the case with temperature=0.4. During the testing: with the fully connected NN the agent starts oscillating since the very beginning, with the convolutional network the agent explores just few cases before starting oscillating."
      ]
    },
    {
      "cell_type": "markdown",
      "metadata": {
        "id": "mdt2SbxNLtDW"
      },
      "source": [
        "# A4) Incorporating the dynamical (decreasing) $\\epsilon$-greedy exploration and introducing a malus bonus for already visited status"
      ]
    },
    {
      "cell_type": "markdown",
      "metadata": {
        "id": "OD8Sv-lv32ef"
      },
      "source": [
        "***\n",
        "\n",
        "The algorithm tends to not explore the map which can be an issue. We propose two ideas in order to encourage exploration:\n",
        "1. Incorporating a decreasing $\\epsilon$-greedy exploration. You can use the method ```set_epsilon```\n",
        "2. Append via the environment a new state that describes if a cell has been visited or not\n",
        "\n",
        "***\n",
        "__Question 10__ Design a new ```train_explore``` function and environment class ```EnvironmentExploring``` to tackle the issue of exploration.\n",
        "\n"
      ]
    },
    {
      "cell_type": "code",
      "metadata": {
        "id": "Uu083lne32ef"
      },
      "source": [
        "def train_explore(agent,env,epoch,prefix=''):\n",
        "    # Number of won games\n",
        "    score = 0\n",
        "    loss = 0\n",
        "    eps = 1\n",
        "    decay_coeff = 0.99 \n",
        "    \n",
        "    for e in range(epoch):\n",
        "        # At each epoch, we restart to a fresh game and get the initial state\n",
        "        state = env.reset()\n",
        "        # This assumes that the games will terminate\n",
        "        game_over = False\n",
        "\n",
        "        win = 0\n",
        "        lose = 0\n",
        "        \n",
        "        eps = eps*decay_coeff \n",
        "        agent.set_epsilon(eps) \n",
        "        \n",
        "        while not game_over:\n",
        "            # The agent performs an action\n",
        "            action = agent.act(state)\n",
        "            \n",
        "            #agent.set_epsilon(agent.epsilon*decay_coeff)\n",
        "            # Apply an action to the environment, get the next state, the reward\n",
        "            # and if the games end\n",
        "            prev_state = state\n",
        "            state, reward, game_over, reward_1 = env.act(action)\n",
        "\n",
        "            # Update the counters\n",
        "            if reward_1 > 0:\n",
        "                win = round(win + reward_1,2)\n",
        "                \n",
        "            if reward_1 < 0:\n",
        "                lose = round(lose - reward_1,2)\n",
        "\n",
        "            # Apply the reinforcement strategy\n",
        "            loss = round(agent.reinforce(prev_state, state, action, reward, game_over), 2)\n",
        "\n",
        "        # Save as a mp4\n",
        "        if e % 10 == 0:\n",
        "            env.draw(prefix+str(e))\n",
        "\n",
        "        # Update stats\n",
        "        score += round(win-lose,2)\n",
        "        \n",
        "\n",
        "        print(\"Epoch {:03d}/{:03d} | Loss {:.4f} | Win/lose count {}/{} ({})\"\n",
        "              .format(e, epoch, loss, win, lose, win-lose))\n",
        "        agent.save(name_weights=prefix+'model.h5',name_model=prefix+'model.json')\n",
        "        \n",
        "class EnvironmentExploring(object):\n",
        "    def __init__(self, grid_size=10, max_time=500, temperature=0.1):\n",
        "        grid_size = grid_size+4\n",
        "        self.grid_size = grid_size\n",
        "        self.max_time = max_time\n",
        "        self.temperature = temperature\n",
        "\n",
        "        #board on which one plays\n",
        "        self.board = np.zeros((grid_size,grid_size))\n",
        "        self.position = np.zeros((grid_size,grid_size))\n",
        "        self.malus_position = np.zeros((grid_size,grid_size))\n",
        "\n",
        "        # coordinate of the rat\n",
        "        self.x = 0\n",
        "        self.y = 1\n",
        "\n",
        "        # self time\n",
        "        self.t = 0\n",
        "\n",
        "        self.scale=16\n",
        "\n",
        "        self.to_draw = np.zeros((max_time+2, grid_size*self.scale, grid_size*self.scale, 3))\n",
        "\n",
        "\n",
        "    def draw(self,e):\n",
        "        skvideo.io.vwrite(str(e) + '.mp4', self.to_draw)\n",
        "\n",
        "    def get_frame(self,t):\n",
        "        b = np.zeros((self.grid_size,self.grid_size,3))+128\n",
        "        b[self.board>0,0] = 256\n",
        "        b[self.board<0,2] = 256\n",
        "        b[self.x,self.y,:]= 256\n",
        "        b[-2:,:,:]=0\n",
        "        b[:,-2:,:]=0\n",
        "        b[:2,:,:]=0\n",
        "        b[:,:2,:]=0\n",
        "        \n",
        "        b =  cv2.resize(b, None, fx=self.scale, fy=self.scale, interpolation=cv2.INTER_NEAREST)\n",
        "\n",
        "        self.to_draw[t,:,:,:]=b\n",
        "\n",
        "\n",
        "    def act(self, action, train=True): #train\n",
        "        \"\"\"This function returns the new state, reward and decides if the\n",
        "        game ends.\"\"\"\n",
        "        \n",
        "        self.get_frame(int(self.t))\n",
        "\n",
        "        self.position = np.zeros((self.grid_size, self.grid_size))\n",
        "\n",
        "        self.position[0:2,:]= -1\n",
        "        self.position[:,0:2] = -1\n",
        "        self.position[-2:,:] = -1\n",
        "        self.position[:,-2:] = -1\n",
        "\n",
        "        self.position[self.x, self.y] = 1\n",
        "        if action == 0:\n",
        "            if self.x == self.grid_size-3:\n",
        "                self.x = self.x-1\n",
        "            else:\n",
        "                self.x = self.x + 1\n",
        "        elif action == 1:\n",
        "            if self.x == 2:\n",
        "                self.x = self.x+1\n",
        "            else:\n",
        "                self.x = self.x-1\n",
        "        elif action == 2:\n",
        "            if self.y == self.grid_size - 3:\n",
        "                self.y = self.y - 1\n",
        "            else:\n",
        "                self.y = self.y + 1\n",
        "        elif action == 3:\n",
        "            if self.y == 2:\n",
        "                self.y = self.y + 1\n",
        "            else:\n",
        "                self.y = self.y - 1\n",
        "        else:\n",
        "            RuntimeError('Error: action not recognized')\n",
        "\n",
        "        self.t = self.t + 1\n",
        "        \n",
        "        reward = 0\n",
        "        if train: \n",
        "            reward = -self.malus_position[self.x, self.y]        \n",
        "        self.malus_position[self.x, self.y] += 0.5 \n",
        "        # 0.5 is the value that optimizes the average score. \n",
        "        \n",
        "        reward += self.board[self.x, self.y]\n",
        "        \n",
        "        reward_1 = self.board[self.x, self.y]\n",
        "        \n",
        "        self.board[self.x, self.y] = 0\n",
        "        game_over = self.t > self.max_time\n",
        "        state = np.concatenate((self.malus_position.reshape(self.grid_size, self.grid_size,1),\n",
        "                                        self.board.reshape(self.grid_size, self.grid_size,1),\n",
        "                                self.position.reshape(self.grid_size, self.grid_size,1)),axis=2)\n",
        "          \n",
        "        state = state[self.x-2:self.x+3,self.y-2:self.y+3,:]\n",
        "\n",
        "        return state, reward, game_over, reward_1\n",
        "\n",
        "    def reset(self):\n",
        "        \"\"\"This function resets the game and returns the initial state\"\"\"\n",
        "\n",
        "        self.x = np.random.randint(3, self.grid_size-3, size=1)[0]\n",
        "        self.y = np.random.randint(3, self.grid_size-3, size=1)[0]\n",
        "\n",
        "        bonus = 0.5*np.random.binomial(1,self.temperature,size=self.grid_size**2)\n",
        "        bonus = bonus.reshape(self.grid_size,self.grid_size)\n",
        "\n",
        "        malus = -1.0*np.random.binomial(1,self.temperature,size=self.grid_size**2)\n",
        "        malus = malus.reshape(self.grid_size, self.grid_size)\n",
        "\n",
        "        self.to_draw = np.zeros((self.max_time+2, self.grid_size*self.scale, self.grid_size*self.scale, 3))\n",
        "\n",
        "        malus[bonus>0]=0\n",
        "\n",
        "        self.board = bonus + malus\n",
        "        \n",
        "        self.malus_position = np.zeros((self.grid_size,self.grid_size))\n",
        "        \n",
        "        self.position = np.zeros((self.grid_size, self.grid_size))\n",
        "        self.position[0:2,:]= -1\n",
        "        self.position[:,0:2] = -1\n",
        "        self.position[-2:,:] = -1\n",
        "        self.position[:,-2:] = -1\n",
        "        self.board[self.x,self.y] = 0\n",
        "        self.t = 0\n",
        "\n",
        "        state = np.concatenate((self.malus_position.reshape(self.grid_size, self.grid_size,1),\n",
        "                                        self.board.reshape(self.grid_size, self.grid_size,1),\n",
        "                                self.position.reshape(self.grid_size, self.grid_size,1)),axis=2)\n",
        "\n",
        "        state = state[self.x - 2:self.x + 3, self.y - 2:self.y + 3, :]\n",
        "        return state"
      ],
      "execution_count": null,
      "outputs": []
    },
    {
      "cell_type": "code",
      "metadata": {
        "id": "8prWdUpc32ef",
        "scrolled": true,
        "outputId": "55fb3930-ccbb-4c94-e456-150b8b4020cd"
      },
      "source": [
        "# Training\n",
        "T = 50\n",
        "epochs_train = 100 \n",
        "env = EnvironmentExploring(grid_size=size, max_time=T, temperature=0.3)\n",
        "agent = DQN_CNN(size, lr=.1, epsilon = 1, memory_size=2000, batch_size = 32, n_state=3)\n",
        "train_explore(agent, env, epochs_train, prefix='cnn_train_explore')\n",
        "HTML(display_videos('cnn_train_explore0.mp4'))"
      ],
      "execution_count": null,
      "outputs": [
        {
          "output_type": "stream",
          "text": [
            "_________________________________________________________________\n",
            "Layer (type)                 Output Shape              Param #   \n",
            "=================================================================\n",
            "conv2d_5 (Conv2D)            (None, 4, 4, 32)          416       \n",
            "_________________________________________________________________\n",
            "conv2d_6 (Conv2D)            (None, 3, 3, 64)          8256      \n",
            "_________________________________________________________________\n",
            "flatten_7 (Flatten)          (None, 576)               0         \n",
            "_________________________________________________________________\n",
            "dense_21 (Dense)             (None, 1024)              590848    \n",
            "_________________________________________________________________\n",
            "activation_5 (Activation)    (None, 1024)              0         \n",
            "_________________________________________________________________\n",
            "dense_22 (Dense)             (None, 4)                 4100      \n",
            "_________________________________________________________________\n",
            "activation_6 (Activation)    (None, 4)                 0         \n",
            "=================================================================\n",
            "Total params: 603,620\n",
            "Trainable params: 603,620\n",
            "Non-trainable params: 0\n",
            "_________________________________________________________________\n",
            "Epoch 000/100 | Loss 0.0700 | Win/lose count 4.0/6.0 (-2.0)\n",
            "Epoch 001/100 | Loss 0.0600 | Win/lose count 2.5/3.0 (-0.5)\n",
            "Epoch 002/100 | Loss 0.0700 | Win/lose count 3.0/8.0 (-5.0)\n",
            "Epoch 003/100 | Loss 0.0700 | Win/lose count 4.0/5.0 (-1.0)\n",
            "Epoch 004/100 | Loss 0.0300 | Win/lose count 2.5/11.0 (-8.5)\n",
            "Epoch 005/100 | Loss 0.0100 | Win/lose count 0.5/8.0 (-7.5)\n",
            "Epoch 006/100 | Loss 0.0700 | Win/lose count 3.0/3.0 (0.0)\n",
            "Epoch 007/100 | Loss 0.0200 | Win/lose count 2.0/3.0 (-1.0)\n",
            "Epoch 008/100 | Loss 0.0900 | Win/lose count 4.0/6.0 (-2.0)\n",
            "Epoch 009/100 | Loss 0.0900 | Win/lose count 2.0/4.0 (-2.0)\n",
            "Epoch 010/100 | Loss 0.0300 | Win/lose count 3.5/6.0 (-2.5)\n",
            "Epoch 011/100 | Loss 0.0300 | Win/lose count 3.5/5.0 (-1.5)\n",
            "Epoch 012/100 | Loss 0.0900 | Win/lose count 3.5/3.0 (0.5)\n",
            "Epoch 013/100 | Loss 0.0300 | Win/lose count 6.0/3.0 (3.0)\n",
            "Epoch 014/100 | Loss 0.0200 | Win/lose count 7.5/1.0 (6.5)\n",
            "Epoch 015/100 | Loss 0.0300 | Win/lose count 4.0/2.0 (2.0)\n",
            "Epoch 016/100 | Loss 0.0100 | Win/lose count 2.5/3.0 (-0.5)\n",
            "Epoch 017/100 | Loss 0.0700 | Win/lose count 4.0/4.0 (0.0)\n",
            "Epoch 018/100 | Loss 0.0200 | Win/lose count 3.0/8.0 (-5.0)\n",
            "Epoch 019/100 | Loss 0.0300 | Win/lose count 5.0/6.0 (-1.0)\n",
            "Epoch 020/100 | Loss 0.1000 | Win/lose count 6.0/9.0 (-3.0)\n",
            "Epoch 021/100 | Loss 0.0600 | Win/lose count 4.0/10.0 (-6.0)\n",
            "Epoch 022/100 | Loss 0.0400 | Win/lose count 4.0/4.0 (0.0)\n",
            "Epoch 023/100 | Loss 0.0300 | Win/lose count 6.0/7.0 (-1.0)\n",
            "Epoch 024/100 | Loss 0.0200 | Win/lose count 3.5/2.0 (1.5)\n",
            "Epoch 025/100 | Loss 0.0100 | Win/lose count 8.5/4.0 (4.5)\n",
            "Epoch 026/100 | Loss 0.0200 | Win/lose count 4.5/4.0 (0.5)\n",
            "Epoch 027/100 | Loss 0.0700 | Win/lose count 4.0/4.0 (0.0)\n",
            "Epoch 028/100 | Loss 0.0200 | Win/lose count 7.0/7.0 (0.0)\n",
            "Epoch 029/100 | Loss 0.0200 | Win/lose count 5.0/7.0 (-2.0)\n",
            "Epoch 030/100 | Loss 0.0400 | Win/lose count 6.0/4.0 (2.0)\n",
            "Epoch 031/100 | Loss 0.0800 | Win/lose count 5.5/7.0 (-1.5)\n",
            "Epoch 032/100 | Loss 0.0100 | Win/lose count 5.5/2.0 (3.5)\n",
            "Epoch 033/100 | Loss 0.0200 | Win/lose count 4.5/8.0 (-3.5)\n",
            "Epoch 034/100 | Loss 0.0100 | Win/lose count 6.5/3.0 (3.5)\n",
            "Epoch 035/100 | Loss 0.0100 | Win/lose count 5.5/4.0 (1.5)\n",
            "Epoch 036/100 | Loss 0.0100 | Win/lose count 5.0/1.0 (4.0)\n",
            "Epoch 037/100 | Loss 0.0100 | Win/lose count 8.0/4.0 (4.0)\n",
            "Epoch 038/100 | Loss 0.0200 | Win/lose count 3.0/1.0 (2.0)\n",
            "Epoch 039/100 | Loss 0.0100 | Win/lose count 8.0/4.0 (4.0)\n",
            "Epoch 040/100 | Loss 0.0000 | Win/lose count 5.5/2.0 (3.5)\n",
            "Epoch 041/100 | Loss 0.0000 | Win/lose count 4.0/3.0 (1.0)\n",
            "Epoch 042/100 | Loss 0.0300 | Win/lose count 4.5/9.0 (-4.5)\n",
            "Epoch 043/100 | Loss 0.0100 | Win/lose count 2.5/4.0 (-1.5)\n",
            "Epoch 044/100 | Loss 0.0300 | Win/lose count 4.0/5.0 (-1.0)\n",
            "Epoch 045/100 | Loss 0.0000 | Win/lose count 6.5/10.0 (-3.5)\n",
            "Epoch 046/100 | Loss 0.0100 | Win/lose count 7.0/6.0 (1.0)\n",
            "Epoch 047/100 | Loss 0.0300 | Win/lose count 3.5/2.0 (1.5)\n",
            "Epoch 048/100 | Loss 0.0000 | Win/lose count 6.5/3.0 (3.5)\n",
            "Epoch 049/100 | Loss 0.0200 | Win/lose count 9.0/4.0 (5.0)\n",
            "Epoch 050/100 | Loss 0.0200 | Win/lose count 5.0/3.0 (2.0)\n",
            "Epoch 051/100 | Loss 0.0100 | Win/lose count 6.5/4.0 (2.5)\n",
            "Epoch 052/100 | Loss 0.0200 | Win/lose count 7.5/2.0 (5.5)\n",
            "Epoch 053/100 | Loss 0.0000 | Win/lose count 6.0/3.0 (3.0)\n",
            "Epoch 054/100 | Loss 0.0500 | Win/lose count 7.0/7.0 (0.0)\n",
            "Epoch 055/100 | Loss 0.0100 | Win/lose count 5.0/5.0 (0.0)\n",
            "Epoch 056/100 | Loss 0.0300 | Win/lose count 6.5/3.0 (3.5)\n",
            "Epoch 057/100 | Loss 0.0300 | Win/lose count 5.0/3.0 (2.0)\n",
            "Epoch 058/100 | Loss 0.0000 | Win/lose count 7.0/7.0 (0.0)\n",
            "Epoch 059/100 | Loss 0.0100 | Win/lose count 8.0/4.0 (4.0)\n",
            "Epoch 060/100 | Loss 0.0300 | Win/lose count 6.0/2.0 (4.0)\n",
            "Epoch 061/100 | Loss 0.0000 | Win/lose count 7.5/4.0 (3.5)\n",
            "Epoch 062/100 | Loss 0.0100 | Win/lose count 3.5/3.0 (0.5)\n",
            "Epoch 063/100 | Loss 0.0000 | Win/lose count 6.5/2.0 (4.5)\n",
            "Epoch 064/100 | Loss 0.0200 | Win/lose count 7.0/4.0 (3.0)\n",
            "Epoch 065/100 | Loss 0.0200 | Win/lose count 9.5/6.0 (3.5)\n",
            "Epoch 066/100 | Loss 0.0000 | Win/lose count 9.5/2.0 (7.5)\n",
            "Epoch 067/100 | Loss 0.0200 | Win/lose count 7.5/5.0 (2.5)\n",
            "Epoch 068/100 | Loss 0.0100 | Win/lose count 10.5/4.0 (6.5)\n",
            "Epoch 069/100 | Loss 0.0000 | Win/lose count 7.0/5.0 (2.0)\n",
            "Epoch 070/100 | Loss 0.0400 | Win/lose count 8.5/5.0 (3.5)\n",
            "Epoch 071/100 | Loss 0.0100 | Win/lose count 7.0/1.0 (6.0)\n",
            "Epoch 072/100 | Loss 0.0000 | Win/lose count 8.5/3.0 (5.5)\n",
            "Epoch 073/100 | Loss 0.0000 | Win/lose count 9.0/1.0 (8.0)\n",
            "Epoch 074/100 | Loss 0.0100 | Win/lose count 6.0/7.0 (-1.0)\n",
            "Epoch 075/100 | Loss 0.0200 | Win/lose count 6.5/2.0 (4.5)\n",
            "Epoch 076/100 | Loss 0.0100 | Win/lose count 7.0/5.0 (2.0)\n",
            "Epoch 077/100 | Loss 0.0400 | Win/lose count 9.0/0 (9.0)\n",
            "Epoch 078/100 | Loss 0.0100 | Win/lose count 8.5/4.0 (4.5)\n",
            "Epoch 079/100 | Loss 0.0100 | Win/lose count 4.0/2.0 (2.0)\n",
            "Epoch 080/100 | Loss 0.0400 | Win/lose count 9.5/5.0 (4.5)\n",
            "Epoch 081/100 | Loss 0.0100 | Win/lose count 7.5/2.0 (5.5)\n",
            "Epoch 082/100 | Loss 0.0100 | Win/lose count 5.0/3.0 (2.0)\n",
            "Epoch 083/100 | Loss 0.0100 | Win/lose count 6.5/4.0 (2.5)\n",
            "Epoch 084/100 | Loss 0.0000 | Win/lose count 7.5/0 (7.5)\n",
            "Epoch 085/100 | Loss 0.0400 | Win/lose count 3.5/3.0 (0.5)\n",
            "Epoch 086/100 | Loss 0.0100 | Win/lose count 6.5/6.0 (0.5)\n",
            "Epoch 087/100 | Loss 0.0100 | Win/lose count 7.0/3.0 (4.0)\n",
            "Epoch 088/100 | Loss 0.0200 | Win/lose count 6.0/2.0 (4.0)\n",
            "Epoch 089/100 | Loss 0.0100 | Win/lose count 8.5/3.0 (5.5)\n",
            "Epoch 090/100 | Loss 0.0000 | Win/lose count 5.5/5.0 (0.5)\n",
            "Epoch 091/100 | Loss 0.0000 | Win/lose count 6.5/5.0 (1.5)\n",
            "Epoch 092/100 | Loss 0.0000 | Win/lose count 6.0/3.0 (3.0)\n",
            "Epoch 093/100 | Loss 0.0200 | Win/lose count 10.5/1.0 (9.5)\n",
            "Epoch 094/100 | Loss 0.0000 | Win/lose count 5.0/6.0 (-1.0)\n",
            "Epoch 095/100 | Loss 0.0000 | Win/lose count 7.0/2.0 (5.0)\n",
            "Epoch 096/100 | Loss 0.0300 | Win/lose count 8.5/3.0 (5.5)\n",
            "Epoch 097/100 | Loss 0.0000 | Win/lose count 10.5/4.0 (6.5)\n",
            "Epoch 098/100 | Loss 0.0100 | Win/lose count 6.0/10.0 (-4.0)\n",
            "Epoch 099/100 | Loss 0.0000 | Win/lose count 6.5/4.0 (2.5)\n"
          ],
          "name": "stdout"
        },
        {
          "output_type": "execute_result",
          "data": {
            "text/html": [
              "<video alt=\"test\" controls>\n",
              "                <source src=\"data:video/mp4;base64,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\" type=\"video/mp4\" />\n",
              "             </video>"
            ],
            "text/plain": [
              "<IPython.core.display.HTML object>"
            ]
          },
          "metadata": {
            "tags": []
          },
          "execution_count": 29
        }
      ]
    },
    {
      "cell_type": "code",
      "metadata": {
        "id": "EDVAYiQ132eg",
        "scrolled": true,
        "outputId": "ea44e284-b7bc-4c06-8772-610bb9c69080"
      },
      "source": [
        "# Evaluation\n",
        "epochs_test = 50\n",
        "test(agent,env,epochs_test,prefix='cnn_test_explore')\n",
        "HTML(display_videos('cnn_test_explore0.mp4'))"
      ],
      "execution_count": null,
      "outputs": [
        {
          "output_type": "stream",
          "text": [
            "Win/lose count 10.0/0. Average score (10.0)\n",
            "Win/lose count 10.0/0. Average score (10.0)\n",
            "Win/lose count 10.5/0. Average score (10.166666666666666)\n",
            "Win/lose count 14.0/0. Average score (11.125)\n",
            "Win/lose count 13.5/0. Average score (11.6)\n",
            "Win/lose count 11.0/0. Average score (11.5)\n",
            "Win/lose count 15.0/0. Average score (12.0)\n",
            "Win/lose count 10.0/0. Average score (11.75)\n",
            "Win/lose count 10.5/1.0. Average score (11.5)\n",
            "Win/lose count 14.0/0. Average score (11.75)\n",
            "Win/lose count 6.5/0. Average score (11.272727272727273)\n",
            "Win/lose count 7.5/1.0. Average score (10.875)\n",
            "Win/lose count 12.5/0. Average score (11.0)\n",
            "Win/lose count 15.0/0. Average score (11.285714285714286)\n",
            "Win/lose count 11.0/0. Average score (11.266666666666667)\n",
            "Win/lose count 9.5/0. Average score (11.15625)\n",
            "Win/lose count 10.5/0. Average score (11.117647058823529)\n",
            "Win/lose count 10.5/1.0. Average score (11.027777777777779)\n",
            "Win/lose count 16.0/0. Average score (11.289473684210526)\n",
            "Win/lose count 10.0/1.0. Average score (11.175)\n",
            "Win/lose count 14.0/0. Average score (11.30952380952381)\n",
            "Win/lose count 10.0/1.0. Average score (11.204545454545455)\n",
            "Win/lose count 9.0/1.0. Average score (11.065217391304348)\n",
            "Win/lose count 11.0/0. Average score (11.0625)\n",
            "Win/lose count 11.0/0. Average score (11.06)\n",
            "Win/lose count 10.5/0. Average score (11.038461538461538)\n",
            "Win/lose count 11.5/0. Average score (11.055555555555555)\n",
            "Win/lose count 6.5/1.0. Average score (10.857142857142858)\n",
            "Win/lose count 7.0/1.0. Average score (10.689655172413794)\n",
            "Win/lose count 11.0/0. Average score (10.7)\n",
            "Win/lose count 8.5/0. Average score (10.629032258064516)\n",
            "Win/lose count 13.0/0. Average score (10.703125)\n",
            "Win/lose count 10.0/1.0. Average score (10.651515151515152)\n",
            "Win/lose count 10.5/0. Average score (10.647058823529411)\n",
            "Win/lose count 14.0/0. Average score (10.742857142857142)\n",
            "Win/lose count 8.5/2.0. Average score (10.625)\n",
            "Win/lose count 13.5/0. Average score (10.702702702702704)\n",
            "Win/lose count 7.0/2.0. Average score (10.552631578947368)\n",
            "Win/lose count 7.0/0. Average score (10.461538461538462)\n",
            "Win/lose count 9.0/0. Average score (10.425)\n",
            "Win/lose count 6.5/3.0. Average score (10.25609756097561)\n",
            "Win/lose count 13.5/0. Average score (10.333333333333334)\n",
            "Win/lose count 11.0/1.0. Average score (10.325581395348838)\n",
            "Win/lose count 10.5/0. Average score (10.329545454545455)\n",
            "Win/lose count 15.0/0. Average score (10.433333333333334)\n",
            "Win/lose count 15.5/0. Average score (10.543478260869565)\n",
            "Win/lose count 9.0/1.0. Average score (10.48936170212766)\n",
            "Win/lose count 16.0/0. Average score (10.604166666666666)\n",
            "Win/lose count 10.0/0. Average score (10.591836734693878)\n",
            "Win/lose count 7.0/0. Average score (10.52)\n",
            "Final score: 10.52\n"
          ],
          "name": "stdout"
        },
        {
          "output_type": "execute_result",
          "data": {
            "text/html": [
              "<video alt=\"test\" controls>\n",
              "                <source src=\"data:video/mp4;base64,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\" type=\"video/mp4\" />\n",
              "             </video>"
            ],
            "text/plain": [
              "<IPython.core.display.HTML object>"
            ]
          },
          "metadata": {
            "tags": []
          },
          "execution_count": 30
        }
      ]
    }
  ]
}